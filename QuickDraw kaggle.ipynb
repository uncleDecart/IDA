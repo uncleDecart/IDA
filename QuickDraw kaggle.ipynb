{
  "nbformat": 4,
  "nbformat_minor": 0,
  "metadata": {
    "colab": {
      "name": "AbramovPavelSergeevich_iad2_notebook.ipynb",
      "version": "0.3.2",
      "provenance": [],
      "collapsed_sections": [
        "5tJsYVL4gmSN",
        "mTfYcHgAhDH6",
        "IU1z9ZuHeEVI",
        "RmVToEhi90Zv",
        "-nDTMFeLd_G0",
        "J7lB1-A8BhSt",
        "ptp9NEted6qo",
        "KMF7Donf_kfe",
        "Jyj1GITcbQjr",
        "G3cW2JsNkYN-",
        "7_8VanX1fE-4",
        "zsSr_cSGfckJ",
        "qkZ9L3xGGDqB",
        "tKZosDQxGb5P",
        "0-oEGUTLduV_",
        "A49DQaOkpuXS",
        "UChl3SOSpxKi",
        "ONnLBXjg7wOB",
        "G1n5dGSb7wOb",
        "c_VjFBAT7wO2",
        "0fXV7Ha-7wPO",
        "CXd_wANb7wQ9"
      ]
    },
    "kernelspec": {
      "name": "python2",
      "display_name": "Python 2"
    },
    "accelerator": "GPU"
  },
  "cells": [
    {
      "metadata": {
        "id": "-5VTh7_K7wNv",
        "colab_type": "text"
      },
      "cell_type": "markdown",
      "source": [
        "# Imports"
      ]
    },
    {
      "metadata": {
        "ExecuteTime": {
          "end_time": "2018-11-07T16:08:15.388798Z",
          "start_time": "2018-11-07T16:08:15.081241Z"
        },
        "id": "CkzI7g3e7wN1",
        "colab_type": "code",
        "outputId": "f1a53154-2048-4f56-88b9-af7a1b128db7",
        "colab": {
          "base_uri": "https://localhost:8080/",
          "height": 34
        }
      },
      "cell_type": "code",
      "source": [
        "import zipfile\n",
        "import numpy as np\n",
        "import pandas as pd\n",
        "import os\n",
        "import tqdm\n",
        "import matplotlib \n",
        "%matplotlib inline\n",
        "import matplotlib.pyplot as plt\n",
        "import csv\n",
        "\n",
        "from keras.preprocessing.image import ImageDataGenerator"
      ],
      "execution_count": 0,
      "outputs": [
        {
          "output_type": "stream",
          "text": [
            "Using TensorFlow backend.\n"
          ],
          "name": "stderr"
        }
      ]
    },
    {
      "metadata": {
        "id": "J2B-7_lZ6Nm2",
        "colab_type": "text"
      },
      "cell_type": "markdown",
      "source": [
        "#Отчет\n"
      ]
    },
    {
      "metadata": {
        "id": "9Y3-g-o26v0c",
        "colab_type": "text"
      },
      "cell_type": "markdown",
      "source": [
        "## Эксперименты с архитектурой\n"
      ]
    },
    {
      "metadata": {
        "id": "nEEitGoTGjIV",
        "colab_type": "text"
      },
      "cell_type": "markdown",
      "source": [
        "### Резюме:\n",
        "- We need to go deeper. Не смотря на то, что лучшей оказалась модель с 43 слоями, модель с 49 получала лучший результат на нетронутой выборке. (при top3 accuracy в **0.862 **loss в **1.200** и category accuarcy в **0.701** на 50 эпохах результат был **0.850** (разница ***0.012***) \\\\\n",
        "- При увеличении количества эпох до 90, top3 accuracy возрос до **0.892**, cat accuracy - до **0.8** loss упал до **0.9**, однако на нетронутой выборке модель получила **0.852** (разница в ***0.040***), в то время обученная на 90 эпохах нейронная сеть глубже давала результат **0.850** на нетронутой выборке при значении top3 accuracy в **0.852**.\n",
        "- При увеличении размера картинки, обучение происходило хуже, так как был выбран неправильный learning_rate (см loss графики пункта \"Эксперименты с  исходными данными\") \n",
        "Экспирименты с агументацией данных дали понять что, таким образом можно существенно расширить исходную выборку данных, однако она [агументация] может как улучшить, так и ухудшить качество обучения, конкретные параметры подбираются исходя из задачи."
      ]
    },
    {
      "metadata": {
        "id": "5tJsYVL4gmSN",
        "colab_type": "text"
      },
      "cell_type": "markdown",
      "source": [
        "### Первая модель"
      ]
    },
    {
      "metadata": {
        "id": "kQLvall0gpwg",
        "colab_type": "code",
        "colab": {}
      },
      "cell_type": "code",
      "source": [
        "BATCH_SIZE = 256\n",
        "STEPS_PER_EPOCH = 100\n",
        "EPOCHS = 5\n",
        "\n",
        "def make_model():\n",
        "  \"\"\"\n",
        "  Define your model architecture here.\n",
        "  Returns `Sequential` model.\n",
        "  \"\"\"\n",
        "  model = Sequential()\n",
        "\n",
        "  ### YOUR CODE HERE: replace with a better model! Batch normalization really helps!\n",
        "\n",
        "  model.add(Conv2D(16, (3, 3), padding='same', activation='relu', input_shape=(IMG_SIZE, IMG_SIZE, 1)))\n",
        "  model.add(BatchNormalization())\n",
        "  model.add(MaxPooling2D())\n",
        "\n",
        "  model.add(Conv2D(32, (3, 3), padding='same', activation='relu'))\n",
        "  model.add(BatchNormalization())\n",
        "  model.add(MaxPooling2D())\n",
        "\n",
        "  model.add(Conv2D(64, (3, 3), padding='same', activation='relu'))\n",
        "  model.add(BatchNormalization())\n",
        "  model.add(MaxPooling2D())\n",
        "\n",
        "  model.add(GlobalAveragePooling2D())\n",
        "\n",
        "  model.add(Dense(64, activation='relu'))\n",
        "  model.add(Dense(NUM_CLASSES, activation=\"softmax\"))\n",
        "\n",
        "  return model\n",
        "  \n",
        "\"\"\"\n",
        "Результат обучения:\n",
        "Epoch 1/5\n",
        "100/100 [==============================] - 288s 3s/step - loss: 5.6091 - categorical_accuracy: 0.0115 - top_3_accuracy: 0.0335\n",
        "Model saved in model_0\n",
        "Epoch 2/5\n",
        "100/100 [==============================] - 287s 3s/step - loss: 4.9129 - categorical_accuracy: 0.0475 - top_3_accuracy: 0.1118\n",
        "Model saved in model_1\n",
        "Epoch 3/5\n",
        "100/100 [==============================] - 285s 3s/step - loss: 4.6153 - categorical_accuracy: 0.0724 - top_3_accuracy: 0.1623\n",
        "Model saved in model_2\n",
        "Epoch 4/5\n",
        "100/100 [==============================] - 287s 3s/step - loss: 4.4057 - categorical_accuracy: 0.1001 - top_3_accuracy: 0.2075\n",
        "Model saved in model_3\n",
        "Epoch 5/5\n",
        "100/100 [==============================] - 285s 3s/step - loss: 4.2042 - categorical_accuracy: 0.1257 - top_3_accuracy: 0.2546\n",
        "Model saved in model_4\n",
        "\"\"\"\n"
      ],
      "execution_count": 0,
      "outputs": []
    },
    {
      "metadata": {
        "id": "mTfYcHgAhDH6",
        "colab_type": "text"
      },
      "cell_type": "markdown",
      "source": [
        "### Вторая модель\n",
        "Строим более глубокую сетку, для классификации более конкретных признаков (уменьшаем размер изображения) большая разница top3acc 0.8153 и catAcc 0.6351."
      ]
    },
    {
      "metadata": {
        "id": "6HkhtViNhTJC",
        "colab_type": "code",
        "colab": {}
      },
      "cell_type": "code",
      "source": [
        " \n",
        "BATCH_SIZE = 512\n",
        "STEPS_PER_EPOCH = 256\n",
        "EPOCHS = 10\n",
        "\n",
        "def make_model():\n",
        "  \"\"\"\n",
        "  Define your model architecture here.\n",
        "  Returns `Sequential` model.\n",
        "  \"\"\"\n",
        "  model = Sequential()\n",
        "\n",
        "  model.add(Conv2D(16, (3, 3), padding='same', activation='relu', input_shape=(IMG_SIZE, IMG_SIZE, 1)))\n",
        "  model.add(BatchNormalization())\n",
        "  model.add(MaxPooling2D())\n",
        "\n",
        "  model.add(Conv2D(32, (3, 3), padding='same', activation='relu'))\n",
        "  model.add(BatchNormalization())\n",
        "  model.add(MaxPooling2D())\n",
        "\n",
        "  model.add(Conv2D(64, (3, 3), padding='same', activation='relu'))\n",
        "  model.add(BatchNormalization())\n",
        "  model.add(MaxPooling2D())\n",
        "\n",
        "  model.add(Conv2D(128, (3, 3), padding='same', activation='relu'))\n",
        "  model.add(BatchNormalization())\n",
        "  model.add(MaxPooling2D())\n",
        "\n",
        "  model.add(Conv2D(256, (3, 3), padding='same', activation='relu'))\n",
        "  model.add(BatchNormalization())\n",
        "  model.add(MaxPooling2D())\n",
        "\n",
        "  model.add(Conv2D(512, (3, 3), padding='same', activation='relu'))\n",
        "  model.add(BatchNormalization())\n",
        "  model.add(MaxPooling2D())\n",
        "\n",
        "  \n",
        "  model.add(GlobalAveragePooling2D())\n",
        "\n",
        "  model.add(Dense(64, activation='relu'))\n",
        "  model.add(Dense(NUM_CLASSES, activation=\"softmax\"))\n",
        "\n",
        "  return model\n",
        "  \n",
        "\"\"\"\n",
        "Результат обучения\n",
        "  Epoch 1/10\n",
        "256/256 [==============================] - 100s 391ms/step - loss: 3.9279 - categorical_accuracy: 0.2151 - top_3_accuracy: 0.3514\n",
        "Model saved in model_0\n",
        "Epoch 2/10\n",
        "256/256 [==============================] - 99s 385ms/step - loss: 2.3598 - categorical_accuracy: 0.4576 - top_3_accuracy: 0.6570\n",
        "Model saved in model_1\n",
        "Epoch 3/10\n",
        "256/256 [==============================] - 100s 392ms/step - loss: 2.0194 - categorical_accuracy: 0.5258 - top_3_accuracy: 0.7236\n",
        "Model saved in model_2\n",
        "Epoch 4/10\n",
        "256/256 [==============================] - 100s 392ms/step - loss: 1.8320 - categorical_accuracy: 0.5650 - top_3_accuracy: 0.7585\n",
        "Model saved in model_3\n",
        "Epoch 5/10\n",
        "256/256 [==============================] - 101s 394ms/step - loss: 1.7511 - categorical_accuracy: 0.5824 - top_3_accuracy: 0.7730\n",
        "Model saved in model_4\n",
        "Epoch 6/10\n",
        "256/256 [==============================] - 101s 395ms/step - loss: 1.6781 - categorical_accuracy: 0.5971 - top_3_accuracy: 0.7844\n",
        "Model saved in model_5\n",
        "Epoch 7/10\n",
        "256/256 [==============================] - 100s 389ms/step - loss: 1.6190 - categorical_accuracy: 0.6123 - top_3_accuracy: 0.7942\n",
        "Model saved in model_6\n",
        "Epoch 8/10\n",
        "256/256 [==============================] - 101s 394ms/step - loss: 1.5659 - categorical_accuracy: 0.6214 - top_3_accuracy: 0.8036\n",
        "Model saved in model_7\n",
        "Epoch 9/10\n",
        "256/256 [==============================] - 100s 391ms/step - loss: 1.5404 - categorical_accuracy: 0.6286 - top_3_accuracy: 0.8082\n",
        "Model saved in model_8\n",
        "Epoch 10/10\n",
        "256/256 [==============================] - 100s 390ms/step - loss: 1.5013 - categorical_accuracy: 0.6351 - top_3_accuracy: 0.8153\n",
        "Model saved in model_9\n",
        "\"\"\""
      ],
      "execution_count": 0,
      "outputs": []
    },
    {
      "metadata": {
        "id": "9_pAxMCe7AuI",
        "colab_type": "text"
      },
      "cell_type": "markdown",
      "source": [
        "### Лучшая модель с score 0.852"
      ]
    },
    {
      "metadata": {
        "id": "IU1z9ZuHeEVI",
        "colab_type": "text"
      },
      "cell_type": "markdown",
      "source": [
        "#### Модель"
      ]
    },
    {
      "metadata": {
        "id": "WJa4lAPn7Gtr",
        "colab_type": "code",
        "colab": {}
      },
      "cell_type": "code",
      "source": [
        "BATCH_SIZE = 512\n",
        "STEPS_PER_EPOCH = 64\n",
        "EPOCHS = 55\n",
        "\n",
        "\n",
        "def make_model():\n",
        "  \"\"\"\n",
        "  Define your model architecture here.\n",
        "  Returns `Sequential` model.\n",
        "  \"\"\"\n",
        "  model = Sequential()\n",
        "\n",
        "  model.add(Conv2D(16, (3, 3), padding='same', activation='relu', input_shape=(IMG_SIZE, IMG_SIZE, 1)))\n",
        "  model.add(BatchNormalization())\n",
        "\n",
        "  model.add(Conv2D(16, (3, 3), padding='same', activation='relu', input_shape=(IMG_SIZE, IMG_SIZE, 1)))\n",
        "  model.add(BatchNormalization())\n",
        "  \n",
        "  model.add(MaxPooling2D())\n",
        "\n",
        "  \n",
        "  model.add(Conv2D(32, (3, 3), padding='same', activation='relu'))\n",
        "  model.add(BatchNormalization())\n",
        "  \n",
        "  model.add(Conv2D(32, (3, 3), padding='same', activation='relu'))\n",
        "  model.add(BatchNormalization())\n",
        "  \n",
        "  model.add(Conv2D(32, (3, 3), padding='same', activation='relu'))\n",
        "  model.add(BatchNormalization())\n",
        "  \n",
        "  model.add(MaxPooling2D())\n",
        "\n",
        "  \n",
        "  model.add(Conv2D(64, (3, 3), padding='same', activation='relu'))\n",
        "  model.add(BatchNormalization())\n",
        "\n",
        "  model.add(Conv2D(64, (3, 3), padding='same', activation='relu'))\n",
        "  model.add(BatchNormalization())\n",
        "\n",
        "  model.add(Conv2D(64, (3, 3), padding='same', activation='relu'))\n",
        "  model.add(BatchNormalization())\n",
        "\n",
        "  model.add(MaxPooling2D())\n",
        "\n",
        "  \n",
        "  model.add(Conv2D(128, (3, 3), padding='same', activation='relu'))\n",
        "  model.add(BatchNormalization())\n",
        "\n",
        "  model.add(Conv2D(128, (3, 3), padding='same', activation='relu'))\n",
        "  model.add(BatchNormalization())\n",
        "\n",
        "  model.add(Conv2D(128, (3, 3), padding='same', activation='relu'))\n",
        "  model.add(BatchNormalization())\n",
        "  \n",
        "  model.add(MaxPooling2D())\n",
        "\n",
        "  \n",
        "  model.add(Conv2D(256, (3, 3), padding='same', activation='relu'))\n",
        "  model.add(BatchNormalization())\n",
        "\n",
        "  model.add(Conv2D(256, (3, 3), padding='same', activation='relu'))\n",
        "  model.add(BatchNormalization())\n",
        "\n",
        "  model.add(Conv2D(256, (3, 3), padding='same', activation='relu'))\n",
        "  model.add(BatchNormalization())\n",
        "\n",
        "  model.add(MaxPooling2D())\n",
        "\n",
        "  \n",
        "  model.add(Conv2D(512, (3, 3), padding='same', activation='relu'))\n",
        "  model.add(BatchNormalization())\n",
        "\n",
        "  model.add(Conv2D(512, (3, 3), padding='same', activation='relu'))\n",
        "  model.add(BatchNormalization())\n",
        "\n",
        "  model.add(Conv2D(512, (3, 3), padding='same', activation='relu'))\n",
        "  model.add(BatchNormalization())\n",
        "  \n",
        "  model.add(MaxPooling2D())\n",
        "  \n",
        "  model.add(GlobalAveragePooling2D())\n",
        "\n",
        "  model.add(Dense(64, activation='relu'))\n",
        "  model.add(Dense(NUM_CLASSES, activation=\"softmax\"))\n",
        "\n",
        "  return model"
      ],
      "execution_count": 0,
      "outputs": []
    },
    {
      "metadata": {
        "id": "RmVToEhi90Zv",
        "colab_type": "text"
      },
      "cell_type": "markdown",
      "source": [
        "#### Массивы"
      ]
    },
    {
      "metadata": {
        "id": "KJVpjOH36RXi",
        "colab_type": "code",
        "colab": {}
      },
      "cell_type": "code",
      "source": [
        "cat_acc = [0.02459716796875,\n",
        "   0.14129638671875,\n",
        "   0.27490234375,\n",
        "   0.36834716796875,\n",
        "   0.43341064453125,\n",
        "   0.47271728515625,\n",
        "   0.51068115234375,\n",
        "   0.53546142578125,\n",
        "   0.554534912109375,\n",
        "   0.563995361328125,\n",
        "   0.578826904296875,\n",
        "   0.59417724609375,\n",
        "   0.60186767578125,\n",
        "   0.61236572265625,\n",
        "   0.61376953125,\n",
        "   0.625152587890625,\n",
        "   0.62774658203125,\n",
        "   0.636383056640625,\n",
        "   0.633331298828125,\n",
        "   0.642120361328125,\n",
        "   0.643218994140625,\n",
        "   0.64752197265625,\n",
        "   0.651336669921875,\n",
        "   0.65277099609375,\n",
        "   0.6575927734375,\n",
        "   0.657135009765625,\n",
        "   0.6650390625,\n",
        "   0.6683349609375,\n",
        "   0.664764404296875,\n",
        "   0.673492431640625,\n",
        "   0.673736572265625,\n",
        "   0.671356201171875,\n",
        "   0.67547607421875,\n",
        "   0.679840087890625,\n",
        "   0.677520751953125,\n",
        "   0.684844970703125,\n",
        "   0.681060791015625,\n",
        "   0.682159423828125,\n",
        "   0.687103271484375,\n",
        "   0.6888427734375,\n",
        "   0.690673828125,\n",
        "   0.690338134765625,\n",
        "   0.68975830078125,\n",
        "   0.694549560546875,\n",
        "   0.695404052734375,\n",
        "   0.693389892578125,\n",
        "   0.69659423828125,\n",
        "   0.702484130859375,\n",
        "   0.700042724609375,\n",
        "   0.70599365234375,\n",
        "   0.70404052734375,\n",
        "   0.699371337890625,\n",
        "   0.701995849609375,\n",
        "   0.70574951171875,\n",
        "   0.700927734375]\n",
        "loss = [5.542688682675362,\n",
        "   4.233328811824322,\n",
        "   3.307997390627861,\n",
        "   2.7816352657973766,\n",
        "   2.4551088102161884,\n",
        "   2.2626824118196964,\n",
        "   2.082345824688673,\n",
        "   1.9592841360718012,\n",
        "   1.8636007402092218,\n",
        "   1.836651200428605,\n",
        "   1.7532304544001818,\n",
        "   1.6748966928571463,\n",
        "   1.6483177337795496,\n",
        "   1.5930236987769604,\n",
        "   1.5922278054058552,\n",
        "   1.5504786856472492,\n",
        "   1.5343169439584017,\n",
        "   1.4951753057539463,\n",
        "   1.4979023542255163,\n",
        "   1.4679305367171764,\n",
        "   1.4549662824720144,\n",
        "   1.4383777976036072,\n",
        "   1.4292017817497253,\n",
        "   1.4072934202849865,\n",
        "   1.396900339052081,\n",
        "   1.3854043930768967,\n",
        "   1.35893720574677,\n",
        "   1.3464753739535809,\n",
        "   1.3663739021867514,\n",
        "   1.3320483546704054,\n",
        "   1.3206079099327326,\n",
        "   1.3210703376680613,\n",
        "   1.3026241939514875,\n",
        "   1.2984652742743492,\n",
        "   1.3045106679201126,\n",
        "   1.2835522796958685,\n",
        "   1.290334451943636,\n",
        "   1.2650095354765654,\n",
        "   1.262090740725398,\n",
        "   1.2531720250844955,\n",
        "   1.234130598604679,\n",
        "   1.258774783462286,\n",
        "   1.2484610080718994,\n",
        "   1.2329241335391998,\n",
        "   1.2272200137376785,\n",
        "   1.2281939964741468,\n",
        "   1.210948308929801,\n",
        "   1.2027747016400099,\n",
        "   1.2107891459017992,\n",
        "   1.1851924248039722,\n",
        "   1.1899655982851982,\n",
        "   1.1956732096150517,\n",
        "   1.1891954150050879,\n",
        "   1.1841240115463734,\n",
        "   1.1997005455195904]\n",
        "\n",
        "top3_acc =  [0.053375244140625,\n",
        "   0.266448974609375,\n",
        "   0.464813232421875,\n",
        "   0.57330322265625,\n",
        "   0.639862060546875,\n",
        "   0.6798095703125,\n",
        "   0.71368408203125,\n",
        "   0.73297119140625,\n",
        "   0.75054931640625,\n",
        "   0.758270263671875,\n",
        "   0.773468017578125,\n",
        "   0.78619384765625,\n",
        "   0.79052734375,\n",
        "   0.802886962890625,\n",
        "   0.799713134765625,\n",
        "   0.80828857421875,\n",
        "   0.811767578125,\n",
        "   0.8175048828125,\n",
        "   0.817138671875,\n",
        "   0.823394775390625,\n",
        "   0.824462890625,\n",
        "   0.826904296875,\n",
        "   0.828521728515625,\n",
        "   0.83319091796875,\n",
        "   0.83221435546875,\n",
        "   0.833038330078125,\n",
        "   0.841094970703125,\n",
        "   0.839080810546875,\n",
        "   0.837738037109375,\n",
        "   0.84307861328125,\n",
        "   0.84521484375,\n",
        "   0.844451904296875,\n",
        "   0.8489990234375,\n",
        "   0.849273681640625,\n",
        "   0.846649169921875,\n",
        "   0.850494384765625,\n",
        "   0.849578857421875,\n",
        "   0.853851318359375,\n",
        "   0.855224609375,\n",
        "   0.85418701171875,\n",
        "   0.857391357421875,\n",
        "   0.85211181640625,\n",
        "   0.856964111328125,\n",
        "   0.85870361328125,\n",
        "   0.860137939453125,\n",
        "   0.859893798828125,\n",
        "   0.86212158203125,\n",
        "   0.8634033203125,\n",
        "   0.860931396484375,\n",
        "   0.866363525390625,\n",
        "   0.864837646484375,\n",
        "   0.8660888671875,\n",
        "   0.865509033203125,\n",
        "   0.867767333984375,\n",
        "   0.862274169921875]"
      ],
      "execution_count": 0,
      "outputs": []
    },
    {
      "metadata": {
        "id": "JsYdiwqx94MX",
        "colab_type": "text"
      },
      "cell_type": "markdown",
      "source": [
        "#### Графики"
      ]
    },
    {
      "metadata": {
        "id": "Nw4AC67Q9HUx",
        "colab_type": "code",
        "outputId": "86f70710-cee1-4247-8d7f-f41997228bc5",
        "colab": {
          "base_uri": "https://localhost:8080/",
          "height": 311
        }
      },
      "cell_type": "code",
      "source": [
        "fig, ax = plt.subplots()\n",
        "ax.plot(cat_acc, 'r--', label='Category accuracy')\n",
        "ax.plot(top3_acc, label='Top 3 accuracy')\n",
        "ax.legend(loc='lower right', fontsize='x-large')\n",
        "ax.set_title('Accuracies curves')\n",
        "ax.set_xlabel('Epochs')\n",
        "ax.set_ylabel('Value')"
      ],
      "execution_count": 0,
      "outputs": [
        {
          "output_type": "execute_result",
          "data": {
            "text/plain": [
              "Text(0,0.5,u'Value')"
            ]
          },
          "metadata": {
            "tags": []
          },
          "execution_count": 22
        },
        {
          "output_type": "display_data",
          "data": {
            "image/png": "[encoded data removed]",
            "text/plain": [
              "<matplotlib.figure.Figure at 0x7f3d6c809910>"
            ]
          },
          "metadata": {
            "tags": []
          }
        }
      ]
    },
    {
      "metadata": {
        "id": "v3KfSUPg-MOh",
        "colab_type": "code",
        "outputId": "6eba2a60-81ea-4459-d066-304cd84073cd",
        "colab": {
          "base_uri": "https://localhost:8080/",
          "height": 311
        }
      },
      "cell_type": "code",
      "source": [
        "fig, ax = plt.subplots()\n",
        "ax.plot(loss, 'g', label='loss')\n",
        "ax.set_title('Loss curve')\n",
        "ax.set_xlabel('Epochs')\n",
        "ax.set_ylabel('Value')\n"
      ],
      "execution_count": 0,
      "outputs": [
        {
          "output_type": "execute_result",
          "data": {
            "text/plain": [
              "Text(0,0.5,u'Value')"
            ]
          },
          "metadata": {
            "tags": []
          },
          "execution_count": 21
        },
        {
          "output_type": "display_data",
          "data": {
            "image/png": "[encoded data removed]",
            "text/plain": [
              "<matplotlib.figure.Figure at 0x7f3d6c8feb10>"
            ]
          },
          "metadata": {
            "tags": []
          }
        }
      ]
    },
    {
      "metadata": {
        "id": "yq1rJc0LESvP",
        "colab_type": "text"
      },
      "cell_type": "markdown",
      "source": [
        "#### Эксперименты с BATCH_SIZE, EPOCHS, STEPS_PER_EPOCH\n",
        "\n",
        " - При увеличении кол-ва эпох, модель давала лучший результат (важно не переобучить)\n",
        "\n",
        " - При фиксированном кол-ве эпох (25) и шаге градиента (256) увеличение размера батча c 512 до 1024, улучшило результат: \\\\\n",
        "    <b>158s</b> 0.6s/step  - loss:<b> 1.2354</b> - categorical_accuracy: <b>0.6944</b> - top_3_accuracy: <b>0.8575</b> \\\\\n",
        "    <b>292s</b> __1s/step - loss: <b>1.0732</b> - categorical_accuracy: <b>0.7316</b> - top_3_accuracy: <b>0.8818</b>\n",
        " - Для изменения шага градиента лучше использовать callback\n",
        "\n"
      ]
    },
    {
      "metadata": {
        "id": "_T1xf2B1BJwA",
        "colab_type": "text"
      },
      "cell_type": "markdown",
      "source": [
        "### Самая глубокая модель"
      ]
    },
    {
      "metadata": {
        "id": "-nDTMFeLd_G0",
        "colab_type": "text"
      },
      "cell_type": "markdown",
      "source": [
        "#### Модель"
      ]
    },
    {
      "metadata": {
        "id": "R4RlSs3EBXTo",
        "colab_type": "code",
        "colab": {}
      },
      "cell_type": "code",
      "source": [
        "BATCH_SIZE = 512\n",
        "STEPS_PER_EPOCH = 64\n",
        "EPOCHS = 55\n",
        "\n",
        "\n",
        "def make_model():\n",
        "  \"\"\"\n",
        "  Define your model architecture here.\n",
        "  Returns `Sequential` model.\n",
        "  \"\"\"\n",
        "  model = Sequential()\n",
        "\n",
        "  model.add(Conv2D(16, (3, 3), padding='same', activation='relu', input_shape=(IMG_SIZE, IMG_SIZE, 1)))\n",
        "  model.add(BatchNormalization())\n",
        "\n",
        "  model.add(Conv2D(16, (3, 3), padding='same', activation='relu', input_shape=(IMG_SIZE, IMG_SIZE, 1)))\n",
        "  model.add(BatchNormalization())\n",
        "  \n",
        "  model.add(MaxPooling2D())\n",
        "\n",
        "  \n",
        "  model.add(Conv2D(32, (3, 3), padding='same', activation='relu'))\n",
        "  model.add(BatchNormalization())\n",
        "  \n",
        "  model.add(Conv2D(32, (3, 3), padding='same', activation='relu'))\n",
        "  model.add(BatchNormalization())\n",
        "  \n",
        "  model.add(Conv2D(32, (3, 3), padding='same', activation='relu'))\n",
        "  model.add(BatchNormalization())\n",
        "  \n",
        "  model.add(MaxPooling2D())\n",
        "\n",
        "  \n",
        "  model.add(Conv2D(64, (3, 3), padding='same', activation='relu'))\n",
        "  model.add(BatchNormalization())\n",
        "\n",
        "  model.add(Conv2D(64, (3, 3), padding='same', activation='relu'))\n",
        "  model.add(BatchNormalization())\n",
        "\n",
        "  model.add(Conv2D(64, (3, 3), padding='same', activation='relu'))\n",
        "  model.add(BatchNormalization())\n",
        "\n",
        "  model.add(MaxPooling2D())\n",
        "\n",
        "  \n",
        "  model.add(Conv2D(128, (3, 3), padding='same', activation='relu'))\n",
        "  model.add(BatchNormalization())\n",
        "\n",
        "  model.add(Conv2D(128, (3, 3), padding='same', activation='relu'))\n",
        "  model.add(BatchNormalization())\n",
        "\n",
        "  model.add(Conv2D(128, (3, 3), padding='same', activation='relu'))\n",
        "  model.add(BatchNormalization())\n",
        "  \n",
        "  model.add(MaxPooling2D())\n",
        "\n",
        "  \n",
        "  model.add(Conv2D(256, (3, 3), padding='same', activation='relu'))\n",
        "  model.add(BatchNormalization())\n",
        "\n",
        "  model.add(Conv2D(256, (3, 3), padding='same', activation='relu'))\n",
        "  model.add(BatchNormalization())\n",
        "\n",
        "  model.add(Conv2D(256, (3, 3), padding='same', activation='relu'))\n",
        "  model.add(BatchNormalization())\n",
        "\n",
        "  model.add(MaxPooling2D())\n",
        "\n",
        "  \n",
        "  model.add(Conv2D(512, (3, 3), padding='same', activation='relu'))\n",
        "  model.add(BatchNormalization())\n",
        "\n",
        "  model.add(Conv2D(512, (3, 3), padding='same', activation='relu'))\n",
        "  model.add(BatchNormalization())\n",
        "\n",
        "  model.add(Conv2D(512, (3, 3), padding='same', activation='relu'))\n",
        "  model.add(BatchNormalization())\n",
        "  \n",
        "  model.add(MaxPooling2D())\n",
        "  \n",
        "  model.add(GlobalAveragePooling2D())\n",
        "\n",
        "  model.add(Dense(64, activation='relu'))\n",
        "  model.add(Dense(NUM_CLASSES, activation=\"softmax\"))\n",
        "\n",
        "  return model\n",
        "\n"
      ],
      "execution_count": 0,
      "outputs": []
    },
    {
      "metadata": {
        "id": "J7lB1-A8BhSt",
        "colab_type": "text"
      },
      "cell_type": "markdown",
      "source": [
        "#### Массивы"
      ]
    },
    {
      "metadata": {
        "id": "clOMvPlDBvgU",
        "colab_type": "code",
        "colab": {}
      },
      "cell_type": "code",
      "source": [
        "cat_acc = [0.159149169921875,\n",
        "   0.3843269348144531,\n",
        "   0.4716339111328125,\n",
        "   0.5218505859375,\n",
        "   0.5577659606933594,\n",
        "   0.5794448852539062,\n",
        "   0.5978736877441406,\n",
        "   0.6089973449707031,\n",
        "   0.6197357177734375,\n",
        "   0.6290931701660156,\n",
        "   0.6366119384765625,\n",
        "   0.6433563232421875,\n",
        "   0.6487960815429688,\n",
        "   0.6540565490722656,\n",
        "   0.6579818725585938,\n",
        "   0.6621551513671875,\n",
        "   0.6679801940917969,\n",
        "   0.6680870056152344,\n",
        "   0.6756019592285156,\n",
        "   0.6771240234375,\n",
        "   0.6785888671875,\n",
        "   0.6824607849121094,\n",
        "   0.6859893798828125,\n",
        "   0.6885643005371094,\n",
        "   0.6894912719726562,\n",
        "   0.6920700073242188,\n",
        "   0.6945266723632812,\n",
        "   0.6961326599121094,\n",
        "   0.6990318298339844,\n",
        "   0.6999969482421875,\n",
        "   0.7014389038085938,\n",
        "   0.7027168273925781,\n",
        "   0.7037811279296875,\n",
        "   0.7050628662109375,\n",
        "   0.7072410583496094,\n",
        "   0.709075927734375,\n",
        "   0.7099456787109375,\n",
        "   0.711883544921875,\n",
        "   0.7129020690917969,\n",
        "   0.7135200500488281,\n",
        "   0.7141990661621094,\n",
        "   0.7173957824707031,\n",
        "   0.7170257568359375,\n",
        "   0.7168617248535156,\n",
        "   0.7189559936523438,\n",
        "   0.7193794250488281,\n",
        "   0.7203598022460938,\n",
        "   0.7223587036132812,\n",
        "   0.7230873107910156,\n",
        "   0.72296142578125]\n",
        "\n",
        "loss = [4.0954949129372835,\n",
        "   2.677185446023941,\n",
        "   2.254581238143146,\n",
        "   2.0164448134601116,\n",
        "   1.8597372327931225,\n",
        "   1.7590281628072262,\n",
        "   1.6808841531164944,\n",
        "   1.6359022175893188,\n",
        "   1.5910216085612774,\n",
        "   1.5478389784693718,\n",
        "   1.519457880873233,\n",
        "   1.4851983631961048,\n",
        "   1.460995335597545,\n",
        "   1.4397781323641539,\n",
        "   1.4296412440016866,\n",
        "   1.4054083214141428,\n",
        "   1.3797236778773367,\n",
        "   1.3754981234669685,\n",
        "   1.348359804134816,\n",
        "   1.341183066368103,\n",
        "   1.3333026729524136,\n",
        "   1.312041469849646,\n",
        "   1.3015994490124285,\n",
        "   1.2872980409301817,\n",
        "   1.2868137331679463,\n",
        "   1.2820721827447414,\n",
        "   1.2643222636543214,\n",
        "   1.251788608264178,\n",
        "   1.2456228993833065,\n",
        "   1.2394259781576693,\n",
        "   1.234804779291153,\n",
        "   1.2311858078464866,\n",
        "   1.223948482889682,\n",
        "   1.2188177374191582,\n",
        "   1.206835761666298,\n",
        "   1.2018101126886904,\n",
        "   1.1940142489038408,\n",
        "   1.1934803337790072,\n",
        "   1.1842816765420139,\n",
        "   1.1809150977060199,\n",
        "   1.1766377189196646,\n",
        "   1.1684965032618493,\n",
        "   1.169741126243025,\n",
        "   1.1696757595054805,\n",
        "   1.1596050402149558,\n",
        "   1.1559627600945532,\n",
        "   1.1563646218273789,\n",
        "   1.1451386036351323,\n",
        "   1.1392276713158935,\n",
        "   1.1423916555941105]\n",
        "\n",
        "top3_acc = [0.29581451416015625,\n",
        "   0.591796875,\n",
        "   0.6758384704589844,\n",
        "   0.7200736999511719,\n",
        "   0.7474327087402344,\n",
        "   0.7657089233398438,\n",
        "   0.7796707153320312,\n",
        "   0.7864456176757812,\n",
        "   0.7957267761230469,\n",
        "   0.8027305603027344,\n",
        "   0.8082809448242188,\n",
        "   0.8124961853027344,\n",
        "   0.8173065185546875,\n",
        "   0.8204994201660156,\n",
        "   0.8218040466308594,\n",
        "   0.8258018493652344,\n",
        "   0.83056640625,\n",
        "   0.8313522338867188,\n",
        "   0.8349227905273438,\n",
        "   0.83636474609375,\n",
        "   0.8369255065917969,\n",
        "   0.8407554626464844,\n",
        "   0.8429794311523438,\n",
        "   0.8443756103515625,\n",
        "   0.8451576232910156,\n",
        "   0.8458900451660156,\n",
        "   0.8488960266113281,\n",
        "   0.8508872985839844,\n",
        "   0.8522148132324219,\n",
        "   0.8523750305175781,\n",
        "   0.853851318359375,\n",
        "   0.8535041809082031,\n",
        "   0.8550643920898438,\n",
        "   0.8568572998046875,\n",
        "   0.8579826354980469,\n",
        "   0.8580970764160156,\n",
        "   0.8598098754882812,\n",
        "   0.8599586486816406,\n",
        "   0.86199951171875,\n",
        "   0.8613357543945312,\n",
        "   0.8622856140136719,\n",
        "   0.8641853332519531,\n",
        "   0.8631210327148438,\n",
        "   0.8643264770507812,\n",
        "   0.8657379150390625,\n",
        "   0.8660888671875,\n",
        "   0.864593505859375,\n",
        "   0.8675956726074219,\n",
        "   0.868621826171875,\n",
        "   0.8673553466796875]"
      ],
      "execution_count": 0,
      "outputs": []
    },
    {
      "metadata": {
        "id": "o6Bmp-9OBezH",
        "colab_type": "text"
      },
      "cell_type": "markdown",
      "source": [
        "#### Графики"
      ]
    },
    {
      "metadata": {
        "id": "zu4Z4ghMBcIY",
        "colab_type": "code",
        "outputId": "119e66a0-d7b5-419e-bd5e-f0960db40f2e",
        "colab": {
          "base_uri": "https://localhost:8080/",
          "height": 311
        }
      },
      "cell_type": "code",
      "source": [
        "fig, ax = plt.subplots()\n",
        "ax.plot(cat_acc, 'r--', label='Category accuracy')\n",
        "ax.plot(top3_acc, label='Top 3 accuracy')\n",
        "ax.legend(loc='lower right', fontsize='x-large')\n",
        "ax.set_title('Accuracies curves')\n",
        "ax.set_xlabel('Epochs')\n",
        "ax.set_ylabel('Value')"
      ],
      "execution_count": 0,
      "outputs": [
        {
          "output_type": "execute_result",
          "data": {
            "text/plain": [
              "Text(0,0.5,u'Value')"
            ]
          },
          "metadata": {
            "tags": []
          },
          "execution_count": 24
        },
        {
          "output_type": "display_data",
          "data": {
            "image/png": "[encoded data removed]",
            "text/plain": [
              "<matplotlib.figure.Figure at 0x7f3d6c705790>"
            ]
          },
          "metadata": {
            "tags": []
          }
        }
      ]
    },
    {
      "metadata": {
        "id": "7b0G2VhiBcw-",
        "colab_type": "code",
        "outputId": "65451c0b-34c3-4fb6-ff6e-35eb8c18bef4",
        "colab": {
          "base_uri": "https://localhost:8080/",
          "height": 311
        }
      },
      "cell_type": "code",
      "source": [
        "fig, ax = plt.subplots()\n",
        "ax.plot(loss, 'g', label='loss')\n",
        "ax.set_title('Loss curve')\n",
        "ax.set_xlabel('Epochs')\n",
        "ax.set_ylabel('Value')\n"
      ],
      "execution_count": 0,
      "outputs": [
        {
          "output_type": "execute_result",
          "data": {
            "text/plain": [
              "Text(0,0.5,u'Value')"
            ]
          },
          "metadata": {
            "tags": []
          },
          "execution_count": 25
        },
        {
          "output_type": "display_data",
          "data": {
            "image/png": "[encoded data removed]",
            "text/plain": [
              "<matplotlib.figure.Figure at 0x7f3d6c6977d0>"
            ]
          },
          "metadata": {
            "tags": []
          }
        }
      ]
    },
    {
      "metadata": {
        "id": "eWQ8jINI_Sdl",
        "colab_type": "text"
      },
      "cell_type": "markdown",
      "source": [
        "###  Эксперименты с размерами картинки"
      ]
    },
    {
      "metadata": {
        "id": "ptp9NEted6qo",
        "colab_type": "text"
      },
      "cell_type": "markdown",
      "source": [
        "#### Модель"
      ]
    },
    {
      "metadata": {
        "id": "1XDiKto6BCRO",
        "colab_type": "code",
        "colab": {}
      },
      "cell_type": "code",
      "source": [
        "IMAGE_SIZE=128\n",
        "\n",
        "BATCH_SIZE = 128\n",
        "STEPS_PER_EPOCH = 64\n",
        "EPOCHS = 150\n",
        "\n",
        "def make_model():\n",
        "  \"\"\"\n",
        "  Define your model architecture here.\n",
        "  Returns `Sequential` model.\n",
        "  \"\"\"\n",
        "  model = Sequential()\n",
        "\n",
        "  model.add(Conv2D(16, (3, 3), padding='same', activation='relu', input_shape=(IMG_SIZE, IMG_SIZE, 1)))\n",
        "  model.add(BatchNormalization())\n",
        "  \n",
        "  model.add(Conv2D(16, (3, 3), padding='same', activation='relu', input_shape=(IMG_SIZE, IMG_SIZE, 1)))\n",
        "  model.add(BatchNormalization())\n",
        "  \n",
        "  model.add(Conv2D(16, (3, 3), padding='same', activation='relu', input_shape=(IMG_SIZE, IMG_SIZE, 1)))\n",
        "  model.add(BatchNormalization())\n",
        "  \n",
        "  model.add(MaxPooling2D())\n",
        "\n",
        "  \n",
        "  model.add(Conv2D(32, (3, 3), padding='same', activation='relu'))\n",
        "  model.add(BatchNormalization())\n",
        "\n",
        "  model.add(Conv2D(32, (3, 3), padding='same', activation='relu'))\n",
        "  model.add(BatchNormalization())\n",
        "\n",
        "  model.add(Conv2D(32, (3, 3), padding='same', activation='relu'))\n",
        "  model.add(BatchNormalization())\n",
        "\n",
        "  model.add(MaxPooling2D())\n",
        "\n",
        "  \n",
        "  model.add(Conv2D(64, (3, 3), padding='same', activation='relu'))\n",
        "  model.add(BatchNormalization())\n",
        "\n",
        "  model.add(Conv2D(64, (3, 3), padding='same', activation='relu'))\n",
        "  model.add(BatchNormalization())\n",
        "\n",
        "  model.add(Conv2D(64, (3, 3), padding='same', activation='relu'))\n",
        "  model.add(BatchNormalization())\n",
        "\n",
        "  model.add(MaxPooling2D())\n",
        "\n",
        "  \n",
        "  model.add(Conv2D(128, (3, 3), padding='same', activation='relu'))\n",
        "  model.add(BatchNormalization())\n",
        "\n",
        "  model.add(Conv2D(128, (3, 3), padding='same', activation='relu'))\n",
        "  model.add(BatchNormalization())\n",
        "\n",
        "  model.add(Conv2D(128, (3, 3), padding='same', activation='relu'))\n",
        "  model.add(BatchNormalization())\n",
        "\n",
        "  model.add(MaxPooling2D())\n",
        "\n",
        "  \n",
        "  model.add(Conv2D(256, (3, 3), padding='same', activation='relu'))\n",
        "  model.add(BatchNormalization())\n",
        "\n",
        "  model.add(Conv2D(256, (3, 3), padding='same', activation='relu'))\n",
        "  model.add(BatchNormalization())\n",
        "\n",
        "  model.add(Conv2D(256, (3, 3), padding='same', activation='relu'))\n",
        "  model.add(BatchNormalization())\n",
        "\n",
        "  model.add(MaxPooling2D())\n",
        "\n",
        "  \n",
        "  model.add(Conv2D(512, (3, 3), padding='same', activation='relu'))\n",
        "  model.add(BatchNormalization())\n",
        "\n",
        "  model.add(Conv2D(512, (3, 3), padding='same', activation='relu'))\n",
        "  model.add(BatchNormalization())\n",
        "\n",
        "  model.add(Conv2D(512, (3, 3), padding='same', activation='relu'))\n",
        "  model.add(BatchNormalization())\n",
        "\n",
        "  model.add(MaxPooling2D())\n",
        "\n",
        "    \n",
        "  model.add(Conv2D(1024, (3, 3), padding='same', activation='relu'))\n",
        "  model.add(BatchNormalization())\n",
        "\n",
        "  model.add(Conv2D(1024, (3, 3), padding='same', activation='relu'))\n",
        "  model.add(BatchNormalization())\n",
        "\n",
        "  model.add(Conv2D(1024, (3, 3), padding='same', activation='relu'))\n",
        "  model.add(BatchNormalization())\n",
        "\n",
        "  model.add(GlobalAveragePooling2D())\n",
        "\n",
        "  model.add(Dense(1024, activation='relu'))\n",
        "  model.add(Dense(NUM_CLASSES, activation=\"softmax\"))\n",
        "\n",
        "  return model\n",
        "\n",
        "def step_decay_schedule(initial_lr=1e-3, decay_factor=0.75, step_size=10):\n",
        "    '''\n",
        "    Wrapper function to create a LearningRateScheduler with step decay schedule.\n",
        "    '''\n",
        "    def schedule(epoch):\n",
        "        return initial_lr * (decay_factor ** np.floor(epoch/step_size))\n",
        "    \n",
        "    return LearningRateScheduler(schedule)\n",
        "\n",
        "lr_sched = step_decay_schedule(initial_lr=1e-4, decay_factor=0.75, step_size=2)\n",
        "\n",
        "#    callbacks=[ModelSaveCallback(\"model_{}\"),\n",
        "#              ReduceLROnPlateau(model='loss', factor=0.2,verbose=1,\n",
        "#              patience=1, min_lr=0.0001),\n",
        "#              lr_sched],\n",
        "\n"
      ],
      "execution_count": 0,
      "outputs": []
    },
    {
      "metadata": {
        "id": "KMF7Donf_kfe",
        "colab_type": "text"
      },
      "cell_type": "markdown",
      "source": [
        "#### Массивы"
      ]
    },
    {
      "metadata": {
        "id": "Bps16fEN_qUv",
        "colab_type": "code",
        "colab": {}
      },
      "cell_type": "code",
      "source": [
        "cat_acc = [0.4322509765625,\n",
        "  0.4434814453125,\n",
        "  0.436767578125,\n",
        "  0.4447021484375,\n",
        "  0.4498291015625,\n",
        "  0.4664306640625,\n",
        "  0.48291015625,\n",
        "  0.47607421875,\n",
        "  0.48095703125,\n",
        "  0.480712890625,\n",
        "  0.4840087890625,\n",
        "  0.484375,\n",
        "  0.4879150390625,\n",
        "  0.49267578125,\n",
        "  0.4970703125,\n",
        "  0.48876953125,\n",
        "  0.4755859375,\n",
        "  0.4801025390625,\n",
        "  0.469482421875,\n",
        "  0.46484375,\n",
        "  0.4666748046875,\n",
        "  0.4674072265625,\n",
        "  0.4541015625,\n",
        "  0.453125,\n",
        "  0.4449462890625,\n",
        "  0.4541015625,\n",
        "  0.449951171875,\n",
        "  0.453857421875,\n",
        "  0.4384765625,\n",
        "  0.44384765625,\n",
        "  0.4490966796875,\n",
        "  0.4451904296875,\n",
        "  0.43798828125,\n",
        "  0.442138671875,\n",
        "  0.4393310546875,\n",
        "  0.43408203125,\n",
        "  0.4383544921875,\n",
        "  0.4381103515625,\n",
        "  0.4400634765625,\n",
        "  0.4375,\n",
        "  0.4268798828125,\n",
        "  0.43359375,\n",
        "  0.44189453125,\n",
        "  0.4356689453125,\n",
        "  0.4388427734375,\n",
        "  0.43505859375,\n",
        "  0.4385986328125,\n",
        "  0.439453125,\n",
        "  0.4415283203125,\n",
        "  0.42578125,\n",
        "  0.444091796875,\n",
        "  0.4322509765625,\n",
        "  0.4296875,\n",
        "  0.434326171875,\n",
        "  0.4384765625,\n",
        "  0.427001953125,\n",
        "  0.4395751953125,\n",
        "  0.434814453125,\n",
        "  0.4351806640625,\n",
        "  0.425048828125,\n",
        "  0.4368896484375,\n",
        "  0.4407958984375,\n",
        "  0.421630859375,\n",
        "  0.4371337890625,\n",
        "  0.44384765625,\n",
        "  0.422607421875,\n",
        "  0.4244384765625,\n",
        "  0.435791015625,\n",
        "  0.438232421875,\n",
        "  0.4288330078125,\n",
        "  0.4344482421875,\n",
        "  0.4315185546875,\n",
        "  0.435302734375,\n",
        "  0.4268798828125,\n",
        "  0.435791015625,\n",
        "  0.4356689453125,\n",
        "  0.434326171875,\n",
        "  0.43212890625,\n",
        "  0.42578125,\n",
        "  0.4210205078125,\n",
        "  0.43701171875,\n",
        "  0.4339599609375,\n",
        "  0.4381103515625,\n",
        "  0.43359375,\n",
        "  0.4232177734375,\n",
        "  0.4354248046875,\n",
        "  0.4495849609375,\n",
        "  0.434814453125,\n",
        "  0.43603515625,\n",
        "  0.434326171875,\n",
        "  0.4393310546875,\n",
        "  0.427734375,\n",
        "  0.43798828125,\n",
        "  0.432861328125,\n",
        "  0.423583984375,\n",
        "  0.4324951171875,\n",
        "  0.433349609375,\n",
        "  0.4346923828125,\n",
        "  0.4305419921875,\n",
        "  0.42822265625,\n",
        "  0.4276123046875]\n",
        "loss = [2.4680885784327984,\n",
        "  2.472873527556658,\n",
        "  2.4965452067553997,\n",
        "  2.4268768951296806,\n",
        "  2.4164752513170242,\n",
        "  2.359053226187825,\n",
        "  2.3030606023967266,\n",
        "  2.3121595233678818,\n",
        "  2.2988932579755783,\n",
        "  2.273866046220064,\n",
        "  2.2664893195033073,\n",
        "  2.2634465489536524,\n",
        "  2.29483843781054,\n",
        "  2.292356889694929,\n",
        "  2.261128695681691,\n",
        "  2.3013865780085325,\n",
        "  2.331161566078663,\n",
        "  2.3209762051701546,\n",
        "  2.3425158616155386,\n",
        "  2.382807033136487,\n",
        "  2.3598240986466408,\n",
        "  2.3897702768445015,\n",
        "  2.4268571883440018,\n",
        "  2.4405363239347935,\n",
        "  2.442212674766779,\n",
        "  2.446333918720484,\n",
        "  2.4333897791802883,\n",
        "  2.436490997672081,\n",
        "  2.473171040415764,\n",
        "  2.4825322180986404,\n",
        "  2.4522971492260695,\n",
        "  2.456740587949753,\n",
        "  2.461005538702011,\n",
        "  2.4704791717231274,\n",
        "  2.461165402084589,\n",
        "  2.4972593560814857,\n",
        "  2.478463299572468,\n",
        "  2.499819088727236,\n",
        "  2.5023694150149822,\n",
        "  2.490478605031967,\n",
        "  2.517062198370695,\n",
        "  2.5062113143503666,\n",
        "  2.4742205403745174,\n",
        "  2.495595920830965,\n",
        "  2.4766996167600155,\n",
        "  2.497177306562662,\n",
        "  2.5080887600779533,\n",
        "  2.474413773044944,\n",
        "  2.481488808989525,\n",
        "  2.506655767560005,\n",
        "  2.460327574983239,\n",
        "  2.544426079839468,\n",
        "  2.508283633738756,\n",
        "  2.515280596911907,\n",
        "  2.495601087808609,\n",
        "  2.5242313779890537,\n",
        "  2.491091188043356,\n",
        "  2.503649730235338,\n",
        "  2.498815592378378,\n",
        "  2.5347756147384644,\n",
        "  2.509564932435751,\n",
        "  2.471431352198124,\n",
        "  2.52050119638443,\n",
        "  2.5140980444848537,\n",
        "  2.4882354140281677,\n",
        "  2.561452727764845,\n",
        "  2.514063909649849,\n",
        "  2.5178940519690514,\n",
        "  2.490605767816305,\n",
        "  2.5121261924505234,\n",
        "  2.5227228552103043,\n",
        "  2.5112877301871777,\n",
        "  2.5397618897259235,\n",
        "  2.5135655775666237,\n",
        "  2.4897408299148083,\n",
        "  2.5168511047959328,\n",
        "  2.5253648720681667,\n",
        "  2.5061205588281155,\n",
        "  2.5294235106557608,\n",
        "  2.5274696983397007,\n",
        "  2.51240024715662,\n",
        "  2.509125415235758,\n",
        "  2.5197943933308125,\n",
        "  2.503511391580105,\n",
        "  2.540722291916609,\n",
        "  2.492282163351774,\n",
        "  2.4659560546278954,\n",
        "  2.543206974864006,\n",
        "  2.528570022433996,\n",
        "  2.5130017958581448,\n",
        "  2.5036022551357746,\n",
        "  2.514274623245001,\n",
        "  2.516697980463505,\n",
        "  2.5066333562135696,\n",
        "  2.537329461425543,\n",
        "  2.5336676351726055,\n",
        "  2.502676784992218,\n",
        "  2.520548664033413,\n",
        "  2.5340559370815754,\n",
        "  2.5276586897671223,\n",
        "  2.5231171511113644]\n",
        "lr = [1.0033913e-07,\n",
        "  7.525435e-08,\n",
        "  7.525435e-08,\n",
        "  5.6440758e-08,\n",
        "  5.6440758e-08,\n",
        "  4.233057e-08,\n",
        "  4.233057e-08,\n",
        "  3.1747927e-08,\n",
        "  3.1747927e-08,\n",
        "  2.3810946e-08,\n",
        "  2.3810946e-08,\n",
        "  1.785821e-08,\n",
        "  1.785821e-08,\n",
        "  1.3393657e-08,\n",
        "  1.3393657e-08,\n",
        "  1.0045243e-08,\n",
        "  1.0045243e-08,\n",
        "  7.533932e-09,\n",
        "  7.533932e-09,\n",
        "  5.650449e-09,\n",
        "  5.650449e-09,\n",
        "  4.2378367e-09,\n",
        "  4.2378367e-09,\n",
        "  3.1783776e-09,\n",
        "  3.1783776e-09,\n",
        "  2.3837832e-09,\n",
        "  2.3837832e-09,\n",
        "  1.7878373e-09,\n",
        "  1.7878373e-09,\n",
        "  1.3408781e-09,\n",
        "  1.3408781e-09,\n",
        "  1.0056586e-09,\n",
        "  1.0056586e-09,\n",
        "  7.542439e-10,\n",
        "  7.542439e-10,\n",
        "  5.656829e-10,\n",
        "  5.656829e-10,\n",
        "  4.2426218e-10,\n",
        "  4.2426218e-10,\n",
        "  3.1819664e-10,\n",
        "  3.1819664e-10,\n",
        "  2.386475e-10,\n",
        "  2.386475e-10,\n",
        "  1.789856e-10,\n",
        "  1.789856e-10,\n",
        "  1.342392e-10,\n",
        "  1.342392e-10,\n",
        "  1.006794e-10,\n",
        "  1.006794e-10,\n",
        "  7.550956e-11,\n",
        "  7.550956e-11,\n",
        "  5.6632164e-11,\n",
        "  5.6632164e-11,\n",
        "  4.2474125e-11,\n",
        "  4.2474125e-11,\n",
        "  3.1855595e-11,\n",
        "  3.1855595e-11,\n",
        "  2.3891694e-11,\n",
        "  2.3891694e-11,\n",
        "  1.791877e-11,\n",
        "  1.791877e-11,\n",
        "  1.3439078e-11,\n",
        "  1.3439078e-11,\n",
        "  1.0079309e-11,\n",
        "  1.0079309e-11,\n",
        "  7.559482e-12,\n",
        "  7.559482e-12,\n",
        "  5.669611e-12,\n",
        "  5.669611e-12,\n",
        "  4.2522084e-12,\n",
        "  4.2522084e-12,\n",
        "  3.1891562e-12,\n",
        "  3.1891562e-12,\n",
        "  2.3918673e-12,\n",
        "  2.3918673e-12,\n",
        "  1.7939004e-12,\n",
        "  1.7939004e-12,\n",
        "  1.3454253e-12,\n",
        "  1.3454253e-12,\n",
        "  1.009069e-12,\n",
        "  1.009069e-12,\n",
        "  7.5680174e-13,\n",
        "  7.5680174e-13,\n",
        "  5.676013e-13,\n",
        "  5.676013e-13,\n",
        "  4.2570098e-13,\n",
        "  4.2570098e-13,\n",
        "  3.1927572e-13,\n",
        "  3.1927572e-13,\n",
        "  2.394568e-13,\n",
        "  2.394568e-13,\n",
        "  1.795926e-13,\n",
        "  1.795926e-13,\n",
        "  1.3469445e-13,\n",
        "  1.3469445e-13,\n",
        "  1.01020836e-13,\n",
        "  1.01020836e-13,\n",
        "  7.576563e-14,\n",
        "  7.576563e-14,\n",
        "  5.6824222e-14,\n",
        "  5.6824222e-14]\n",
        "top3_acc = [0.6414794921875,\n",
        "  0.6322021484375,\n",
        "  0.63427734375,\n",
        "  0.647216796875,\n",
        "  0.6480712890625,\n",
        "  0.656982421875,\n",
        "  0.674560546875,\n",
        "  0.6707763671875,\n",
        "  0.6785888671875,\n",
        "  0.6783447265625,\n",
        "  0.6820068359375,\n",
        "  0.678466796875,\n",
        "  0.676513671875,\n",
        "  0.6834716796875,\n",
        "  0.6839599609375,\n",
        "  0.674560546875,\n",
        "  0.66796875,\n",
        "  0.6739501953125,\n",
        "  0.6624755859375,\n",
        "  0.6624755859375,\n",
        "  0.6602783203125,\n",
        "  0.659912109375,\n",
        "  0.653564453125,\n",
        "  0.6474609375,\n",
        "  0.642822265625,\n",
        "  0.6455078125,\n",
        "  0.6448974609375,\n",
        "  0.6507568359375,\n",
        "  0.637451171875,\n",
        "  0.6373291015625,\n",
        "  0.6500244140625,\n",
        "  0.6380615234375,\n",
        "  0.6402587890625,\n",
        "  0.641357421875,\n",
        "  0.640869140625,\n",
        "  0.634033203125,\n",
        "  0.6416015625,\n",
        "  0.64453125,\n",
        "  0.6337890625,\n",
        "  0.6346435546875,\n",
        "  0.6318359375,\n",
        "  0.63037109375,\n",
        "  0.6392822265625,\n",
        "  0.636962890625,\n",
        "  0.642822265625,\n",
        "  0.6280517578125,\n",
        "  0.6337890625,\n",
        "  0.6441650390625,\n",
        "  0.6434326171875,\n",
        "  0.6358642578125,\n",
        "  0.6461181640625,\n",
        "  0.6221923828125,\n",
        "  0.6307373046875,\n",
        "  0.6312255859375,\n",
        "  0.63037109375,\n",
        "  0.6279296875,\n",
        "  0.63720703125,\n",
        "  0.638427734375,\n",
        "  0.637939453125,\n",
        "  0.6236572265625,\n",
        "  0.6328125,\n",
        "  0.6409912109375,\n",
        "  0.6314697265625,\n",
        "  0.6318359375,\n",
        "  0.6461181640625,\n",
        "  0.6236572265625,\n",
        "  0.63623046875,\n",
        "  0.626953125,\n",
        "  0.6407470703125,\n",
        "  0.63525390625,\n",
        "  0.6226806640625,\n",
        "  0.6326904296875,\n",
        "  0.6275634765625,\n",
        "  0.6309814453125,\n",
        "  0.6373291015625,\n",
        "  0.6312255859375,\n",
        "  0.63232421875,\n",
        "  0.6358642578125,\n",
        "  0.6282958984375,\n",
        "  0.6300048828125,\n",
        "  0.6304931640625,\n",
        "  0.6396484375,\n",
        "  0.626220703125,\n",
        "  0.632080078125,\n",
        "  0.62451171875,\n",
        "  0.63623046875,\n",
        "  0.6419677734375,\n",
        "  0.6273193359375,\n",
        "  0.632080078125,\n",
        "  0.6304931640625,\n",
        "  0.6387939453125,\n",
        "  0.6322021484375,\n",
        "  0.63134765625,\n",
        "  0.6351318359375,\n",
        "  0.6298828125,\n",
        "  0.6319580078125,\n",
        "  0.63232421875,\n",
        "  0.6265869140625,\n",
        "  0.6221923828125,\n",
        "  0.63330078125,\n",
        "  0.62646484375]"
      ],
      "execution_count": 0,
      "outputs": []
    },
    {
      "metadata": {
        "id": "Lnub97dbAFib",
        "colab_type": "text"
      },
      "cell_type": "markdown",
      "source": [
        "#### Графики "
      ]
    },
    {
      "metadata": {
        "id": "DHWoJ7T8_doP",
        "colab_type": "code",
        "outputId": "a1046de6-8c79-4a53-f1a0-405ed8d6ac0f",
        "colab": {
          "base_uri": "https://localhost:8080/",
          "height": 311
        }
      },
      "cell_type": "code",
      "source": [
        "fig, ax = plt.subplots()\n",
        "ax.plot(cat_acc, 'r--', label='Category accuracy')\n",
        "ax.plot(top3_acc, label='Top 3 accuracy')\n",
        "ax.legend(loc='center right', fontsize='x-large')\n",
        "ax.set_title('Accuracies curves')\n",
        "ax.set_xlabel('Epochs')\n",
        "ax.set_ylabel('Value')"
      ],
      "execution_count": 0,
      "outputs": [
        {
          "output_type": "execute_result",
          "data": {
            "text/plain": [
              "Text(0,0.5,u'Value')"
            ]
          },
          "metadata": {
            "tags": []
          },
          "execution_count": 55
        },
        {
          "output_type": "display_data",
          "data": {
            "image/png": "[encoded data removed]",
            "text/plain": [
              "<matplotlib.figure.Figure at 0x7f5b371d9c10>"
            ]
          },
          "metadata": {
            "tags": []
          }
        }
      ]
    },
    {
      "metadata": {
        "id": "rj2l0DJxAUyL",
        "colab_type": "code",
        "outputId": "667a32b0-8385-497e-bd76-62a338a959a2",
        "colab": {
          "base_uri": "https://localhost:8080/",
          "height": 311
        }
      },
      "cell_type": "code",
      "source": [
        "fig, ax = plt.subplots()\n",
        "ax.plot(loss, 'g', label='loss')\n",
        "ax.set_title('Loss curve')\n",
        "ax.set_xlabel('Epochs')\n",
        "ax.set_ylabel('Value')"
      ],
      "execution_count": 0,
      "outputs": [
        {
          "output_type": "execute_result",
          "data": {
            "text/plain": [
              "Text(0,0.5,u'Value')"
            ]
          },
          "metadata": {
            "tags": []
          },
          "execution_count": 56
        },
        {
          "output_type": "display_data",
          "data": {
            "image/png": "[encoded data removed]",
            "text/plain": [
              "<matplotlib.figure.Figure at 0x7f5b34699bd0>"
            ]
          },
          "metadata": {
            "tags": []
          }
        }
      ]
    },
    {
      "metadata": {
        "id": "Xihq_DIdAXfY",
        "colab_type": "code",
        "outputId": "8ee39c2b-065f-4375-9716-8c753f2ae2cd",
        "colab": {
          "base_uri": "https://localhost:8080/",
          "height": 311
        }
      },
      "cell_type": "code",
      "source": [
        "fig, ax = plt.subplots()\n",
        "ax.plot(lr, 'y', label='loss')\n",
        "ax.set_title('Learning rate curve')\n",
        "ax.set_xlabel('Epochs')\n",
        "ax.set_ylabel('Value')"
      ],
      "execution_count": 0,
      "outputs": [
        {
          "output_type": "execute_result",
          "data": {
            "text/plain": [
              "Text(0,0.5,u'Value')"
            ]
          },
          "metadata": {
            "tags": []
          },
          "execution_count": 74
        },
        {
          "output_type": "display_data",
          "data": {
            "image/png": "[encoded data removed]",
            "text/plain": [
              "<matplotlib.figure.Figure at 0x7f5b38f81250>"
            ]
          },
          "metadata": {
            "tags": []
          }
        }
      ]
    },
    {
      "metadata": {
        "id": "Jyj1GITcbQjr",
        "colab_type": "text"
      },
      "cell_type": "markdown",
      "source": [
        "#### Массивы"
      ]
    },
    {
      "metadata": {
        "id": "PZvMj3_Sbbqb",
        "colab_type": "code",
        "colab": {}
      },
      "cell_type": "code",
      "source": [
        "cat_acc = [0.4322509765625,\n",
        "  0.4434814453125,\n",
        "  0.436767578125,\n",
        "  0.4447021484375,\n",
        "  0.4498291015625,\n",
        "  0.4664306640625,\n",
        "  0.48291015625,\n",
        "  0.47607421875,\n",
        "  0.48095703125,\n",
        "  0.480712890625,\n",
        "  0.4840087890625,\n",
        "  0.484375,\n",
        "  0.4879150390625,\n",
        "  0.49267578125,\n",
        "  0.4970703125,\n",
        "  0.48876953125,\n",
        "  0.4755859375,\n",
        "  0.4801025390625,\n",
        "  0.469482421875,\n",
        "  0.46484375,\n",
        "  0.4666748046875,\n",
        "  0.4674072265625,\n",
        "  0.4541015625,\n",
        "  0.453125,\n",
        "  0.4449462890625,\n",
        "  0.4541015625,\n",
        "  0.449951171875,\n",
        "  0.453857421875,\n",
        "  0.4384765625,\n",
        "  0.44384765625,\n",
        "  0.4490966796875,\n",
        "  0.4451904296875,\n",
        "  0.43798828125,\n",
        "  0.442138671875,\n",
        "  0.4393310546875,\n",
        "  0.43408203125,\n",
        "  0.4383544921875,\n",
        "  0.4381103515625,\n",
        "  0.4400634765625,\n",
        "  0.4375,\n",
        "  0.4268798828125,\n",
        "  0.43359375,\n",
        "  0.44189453125,\n",
        "  0.4356689453125,\n",
        "  0.4388427734375,\n",
        "  0.43505859375,\n",
        "  0.4385986328125,\n",
        "  0.439453125,\n",
        "  0.4415283203125,\n",
        "  0.42578125,\n",
        "  0.444091796875,\n",
        "  0.4322509765625,\n",
        "  0.4296875,\n",
        "  0.434326171875,\n",
        "  0.4384765625,\n",
        "  0.427001953125,\n",
        "  0.4395751953125,\n",
        "  0.434814453125,\n",
        "  0.4351806640625,\n",
        "  0.425048828125,\n",
        "  0.4368896484375,\n",
        "  0.4407958984375,\n",
        "  0.421630859375,\n",
        "  0.4371337890625,\n",
        "  0.44384765625,\n",
        "  0.422607421875,\n",
        "  0.4244384765625,\n",
        "  0.435791015625,\n",
        "  0.438232421875,\n",
        "  0.4288330078125,\n",
        "  0.4344482421875,\n",
        "  0.4315185546875,\n",
        "  0.435302734375,\n",
        "  0.4268798828125,\n",
        "  0.435791015625,\n",
        "  0.4356689453125,\n",
        "  0.434326171875,\n",
        "  0.43212890625,\n",
        "  0.42578125,\n",
        "  0.4210205078125,\n",
        "  0.43701171875,\n",
        "  0.4339599609375,\n",
        "  0.4381103515625,\n",
        "  0.43359375,\n",
        "  0.4232177734375,\n",
        "  0.4354248046875,\n",
        "  0.4495849609375,\n",
        "  0.434814453125,\n",
        "  0.43603515625,\n",
        "  0.434326171875,\n",
        "  0.4393310546875,\n",
        "  0.427734375,\n",
        "  0.43798828125,\n",
        "  0.432861328125,\n",
        "  0.423583984375,\n",
        "  0.4324951171875,\n",
        "  0.433349609375,\n",
        "  0.4346923828125,\n",
        "  0.4305419921875,\n",
        "  0.42822265625,\n",
        "  0.4276123046875]\n",
        "loss = [2.4680885784327984,\n",
        "  2.472873527556658,\n",
        "  2.4965452067553997,\n",
        "  2.4268768951296806,\n",
        "  2.4164752513170242,\n",
        "  2.359053226187825,\n",
        "  2.3030606023967266,\n",
        "  2.3121595233678818,\n",
        "  2.2988932579755783,\n",
        "  2.273866046220064,\n",
        "  2.2664893195033073,\n",
        "  2.2634465489536524,\n",
        "  2.29483843781054,\n",
        "  2.292356889694929,\n",
        "  2.261128695681691,\n",
        "  2.3013865780085325,\n",
        "  2.331161566078663,\n",
        "  2.3209762051701546,\n",
        "  2.3425158616155386,\n",
        "  2.382807033136487,\n",
        "  2.3598240986466408,\n",
        "  2.3897702768445015,\n",
        "  2.4268571883440018,\n",
        "  2.4405363239347935,\n",
        "  2.442212674766779,\n",
        "  2.446333918720484,\n",
        "  2.4333897791802883,\n",
        "  2.436490997672081,\n",
        "  2.473171040415764,\n",
        "  2.4825322180986404,\n",
        "  2.4522971492260695,\n",
        "  2.456740587949753,\n",
        "  2.461005538702011,\n",
        "  2.4704791717231274,\n",
        "  2.461165402084589,\n",
        "  2.4972593560814857,\n",
        "  2.478463299572468,\n",
        "  2.499819088727236,\n",
        "  2.5023694150149822,\n",
        "  2.490478605031967,\n",
        "  2.517062198370695,\n",
        "  2.5062113143503666,\n",
        "  2.4742205403745174,\n",
        "  2.495595920830965,\n",
        "  2.4766996167600155,\n",
        "  2.497177306562662,\n",
        "  2.5080887600779533,\n",
        "  2.474413773044944,\n",
        "  2.481488808989525,\n",
        "  2.506655767560005,\n",
        "  2.460327574983239,\n",
        "  2.544426079839468,\n",
        "  2.508283633738756,\n",
        "  2.515280596911907,\n",
        "  2.495601087808609,\n",
        "  2.5242313779890537,\n",
        "  2.491091188043356,\n",
        "  2.503649730235338,\n",
        "  2.498815592378378,\n",
        "  2.5347756147384644,\n",
        "  2.509564932435751,\n",
        "  2.471431352198124,\n",
        "  2.52050119638443,\n",
        "  2.5140980444848537,\n",
        "  2.4882354140281677,\n",
        "  2.561452727764845,\n",
        "  2.514063909649849,\n",
        "  2.5178940519690514,\n",
        "  2.490605767816305,\n",
        "  2.5121261924505234,\n",
        "  2.5227228552103043,\n",
        "  2.5112877301871777,\n",
        "  2.5397618897259235,\n",
        "  2.5135655775666237,\n",
        "  2.4897408299148083,\n",
        "  2.5168511047959328,\n",
        "  2.5253648720681667,\n",
        "  2.5061205588281155,\n",
        "  2.5294235106557608,\n",
        "  2.5274696983397007,\n",
        "  2.51240024715662,\n",
        "  2.509125415235758,\n",
        "  2.5197943933308125,\n",
        "  2.503511391580105,\n",
        "  2.540722291916609,\n",
        "  2.492282163351774,\n",
        "  2.4659560546278954,\n",
        "  2.543206974864006,\n",
        "  2.528570022433996,\n",
        "  2.5130017958581448,\n",
        "  2.5036022551357746,\n",
        "  2.514274623245001,\n",
        "  2.516697980463505,\n",
        "  2.5066333562135696,\n",
        "  2.537329461425543,\n",
        "  2.5336676351726055,\n",
        "  2.502676784992218,\n",
        "  2.520548664033413,\n",
        "  2.5340559370815754,\n",
        "  2.5276586897671223,\n",
        "  2.5231171511113644]\n",
        "\n",
        "lr = [1.0033913e-07,\n",
        "  7.525435e-08,\n",
        "  7.525435e-08,\n",
        "  5.6440758e-08,\n",
        "  5.6440758e-08,\n",
        "  4.233057e-08,\n",
        "  4.233057e-08,\n",
        "  3.1747927e-08,\n",
        "  3.1747927e-08,\n",
        "  2.3810946e-08,\n",
        "  2.3810946e-08,\n",
        "  1.785821e-08,\n",
        "  1.785821e-08,\n",
        "  1.3393657e-08,\n",
        "  1.3393657e-08,\n",
        "  1.0045243e-08,\n",
        "  1.0045243e-08,\n",
        "  7.533932e-09,\n",
        "  7.533932e-09,\n",
        "  5.650449e-09,\n",
        "  5.650449e-09,\n",
        "  4.2378367e-09,\n",
        "  4.2378367e-09,\n",
        "  3.1783776e-09,\n",
        "  3.1783776e-09,\n",
        "  2.3837832e-09,\n",
        "  2.3837832e-09,\n",
        "  1.7878373e-09,\n",
        "  1.7878373e-09,\n",
        "  1.3408781e-09,\n",
        "  1.3408781e-09,\n",
        "  1.0056586e-09,\n",
        "  1.0056586e-09,\n",
        "  7.542439e-10,\n",
        "  7.542439e-10,\n",
        "  5.656829e-10,\n",
        "  5.656829e-10,\n",
        "  4.2426218e-10,\n",
        "  4.2426218e-10,\n",
        "  3.1819664e-10,\n",
        "  3.1819664e-10,\n",
        "  2.386475e-10,\n",
        "  2.386475e-10,\n",
        "  1.789856e-10,\n",
        "  1.789856e-10,\n",
        "  1.342392e-10,\n",
        "  1.342392e-10,\n",
        "  1.006794e-10,\n",
        "  1.006794e-10,\n",
        "  7.550956e-11,\n",
        "  7.550956e-11,\n",
        "  5.6632164e-11,\n",
        "  5.6632164e-11,\n",
        "  4.2474125e-11,\n",
        "  4.2474125e-11,\n",
        "  3.1855595e-11,\n",
        "  3.1855595e-11,\n",
        "  2.3891694e-11,\n",
        "  2.3891694e-11,\n",
        "  1.791877e-11,\n",
        "  1.791877e-11,\n",
        "  1.3439078e-11,\n",
        "  1.3439078e-11,\n",
        "  1.0079309e-11,\n",
        "  1.0079309e-11,\n",
        "  7.559482e-12,\n",
        "  7.559482e-12,\n",
        "  5.669611e-12,\n",
        "  5.669611e-12,\n",
        "  4.2522084e-12,\n",
        "  4.2522084e-12,\n",
        "  3.1891562e-12,\n",
        "  3.1891562e-12,\n",
        "  2.3918673e-12,\n",
        "  2.3918673e-12,\n",
        "  1.7939004e-12,\n",
        "  1.7939004e-12,\n",
        "  1.3454253e-12,\n",
        "  1.3454253e-12,\n",
        "  1.009069e-12,\n",
        "  1.009069e-12,\n",
        "  7.5680174e-13,\n",
        "  7.5680174e-13,\n",
        "  5.676013e-13,\n",
        "  5.676013e-13,\n",
        "  4.2570098e-13,\n",
        "  4.2570098e-13,\n",
        "  3.1927572e-13,\n",
        "  3.1927572e-13,\n",
        "  2.394568e-13,\n",
        "  2.394568e-13,\n",
        "  1.795926e-13,\n",
        "  1.795926e-13,\n",
        "  1.3469445e-13,\n",
        "  1.3469445e-13,\n",
        "  1.01020836e-13,\n",
        "  1.01020836e-13,\n",
        "  7.576563e-14,\n",
        "  7.576563e-14,\n",
        "  5.6824222e-14,\n",
        "  5.6824222e-14]\n",
        "\n",
        "top3_acc = [0.6414794921875,\n",
        "  0.6322021484375,\n",
        "  0.63427734375,\n",
        "  0.647216796875,\n",
        "  0.6480712890625,\n",
        "  0.656982421875,\n",
        "  0.674560546875,\n",
        "  0.6707763671875,\n",
        "  0.6785888671875,\n",
        "  0.6783447265625,\n",
        "  0.6820068359375,\n",
        "  0.678466796875,\n",
        "  0.676513671875,\n",
        "  0.6834716796875,\n",
        "  0.6839599609375,\n",
        "  0.674560546875,\n",
        "  0.66796875,\n",
        "  0.6739501953125,\n",
        "  0.6624755859375,\n",
        "  0.6624755859375,\n",
        "  0.6602783203125,\n",
        "  0.659912109375,\n",
        "  0.653564453125,\n",
        "  0.6474609375,\n",
        "  0.642822265625,\n",
        "  0.6455078125,\n",
        "  0.6448974609375,\n",
        "  0.6507568359375,\n",
        "  0.637451171875,\n",
        "  0.6373291015625,\n",
        "  0.6500244140625,\n",
        "  0.6380615234375,\n",
        "  0.6402587890625,\n",
        "  0.641357421875,\n",
        "  0.640869140625,\n",
        "  0.634033203125,\n",
        "  0.6416015625,\n",
        "  0.64453125,\n",
        "  0.6337890625,\n",
        "  0.6346435546875,\n",
        "  0.6318359375,\n",
        "  0.63037109375,\n",
        "  0.6392822265625,\n",
        "  0.636962890625,\n",
        "  0.642822265625,\n",
        "  0.6280517578125,\n",
        "  0.6337890625,\n",
        "  0.6441650390625,\n",
        "  0.6434326171875,\n",
        "  0.6358642578125,\n",
        "  0.6461181640625,\n",
        "  0.6221923828125,\n",
        "  0.6307373046875,\n",
        "  0.6312255859375,\n",
        "  0.63037109375,\n",
        "  0.6279296875,\n",
        "  0.63720703125,\n",
        "  0.638427734375,\n",
        "  0.637939453125,\n",
        "  0.6236572265625,\n",
        "  0.6328125,\n",
        "  0.6409912109375,\n",
        "  0.6314697265625,\n",
        "  0.6318359375,\n",
        "  0.6461181640625,\n",
        "  0.6236572265625,\n",
        "  0.63623046875,\n",
        "  0.626953125,\n",
        "  0.6407470703125,\n",
        "  0.63525390625,\n",
        "  0.6226806640625,\n",
        "  0.6326904296875,\n",
        "  0.6275634765625,\n",
        "  0.6309814453125,\n",
        "  0.6373291015625,\n",
        "  0.6312255859375,\n",
        "  0.63232421875,\n",
        "  0.6358642578125,\n",
        "  0.6282958984375,\n",
        "  0.6300048828125,\n",
        "  0.6304931640625,\n",
        "  0.6396484375,\n",
        "  0.626220703125,\n",
        "  0.632080078125,\n",
        "  0.62451171875,\n",
        "  0.63623046875,\n",
        "  0.6419677734375,\n",
        "  0.6273193359375,\n",
        "  0.632080078125,\n",
        "  0.6304931640625,\n",
        "  0.6387939453125,\n",
        "  0.6322021484375,\n",
        "  0.63134765625,\n",
        "  0.6351318359375,\n",
        "  0.6298828125,\n",
        "  0.6319580078125,\n",
        "  0.63232421875,\n",
        "  0.6265869140625,\n",
        "  0.6221923828125,\n",
        "  0.63330078125,\n",
        "  0.62646484375]\n",
        "\n"
      ],
      "execution_count": 0,
      "outputs": []
    },
    {
      "metadata": {
        "id": "eRUQ-w2abytE",
        "colab_type": "text"
      },
      "cell_type": "markdown",
      "source": [
        "#### Графики"
      ]
    },
    {
      "metadata": {
        "id": "jl_RDjswb1ws",
        "colab_type": "code",
        "outputId": "dceaa75d-3285-4d24-d3b5-e8465f4aff92",
        "colab": {
          "base_uri": "https://localhost:8080/",
          "height": 311
        }
      },
      "cell_type": "code",
      "source": [
        "fig, ax = plt.subplots()\n",
        "ax.plot(cat_acc, 'r--', label='Category accuracy')\n",
        "ax.plot(top3_acc, label='Top 3 accuracy')\n",
        "ax.legend(loc='center right', fontsize='x-large')\n",
        "ax.set_title('Accuracies curves')\n",
        "ax.set_xlabel('Epochs')\n",
        "ax.set_ylabel('Value')"
      ],
      "execution_count": 0,
      "outputs": [
        {
          "output_type": "execute_result",
          "data": {
            "text/plain": [
              "Text(0,0.5,u'Value')"
            ]
          },
          "metadata": {
            "tags": []
          },
          "execution_count": 77
        },
        {
          "output_type": "display_data",
          "data": {
            "image/png": "[encoded data removed]",
            "text/plain": [
              "<matplotlib.figure.Figure at 0x7f5b38f20a10>"
            ]
          },
          "metadata": {
            "tags": []
          }
        }
      ]
    },
    {
      "metadata": {
        "id": "ywfo_YwQb73d",
        "colab_type": "code",
        "outputId": "e13b7eab-96d5-46f3-f4d6-3afd65ff0fe2",
        "colab": {
          "base_uri": "https://localhost:8080/",
          "height": 311
        }
      },
      "cell_type": "code",
      "source": [
        "fig, ax = plt.subplots()\n",
        "ax.plot(loss, 'g', label='loss')\n",
        "ax.set_title('Loss curve')\n",
        "ax.set_xlabel('Epochs')\n",
        "ax.set_ylabel('Value')"
      ],
      "execution_count": 0,
      "outputs": [
        {
          "output_type": "execute_result",
          "data": {
            "text/plain": [
              "Text(0,0.5,u'Value')"
            ]
          },
          "metadata": {
            "tags": []
          },
          "execution_count": 78
        },
        {
          "output_type": "display_data",
          "data": {
            "image/png": "[encoded data removed]",
            "text/plain": [
              "<matplotlib.figure.Figure at 0x7f5b38f42a10>"
            ]
          },
          "metadata": {
            "tags": []
          }
        }
      ]
    },
    {
      "metadata": {
        "id": "zAZmca0ib-nE",
        "colab_type": "code",
        "outputId": "507f2c91-cb49-4ede-bd8f-cb9613497793",
        "colab": {
          "base_uri": "https://localhost:8080/",
          "height": 311
        }
      },
      "cell_type": "code",
      "source": [
        "fig, ax = plt.subplots()\n",
        "ax.plot(lr, 'y', label='loss')\n",
        "ax.set_title('Learning rate curve')\n",
        "ax.set_xlabel('Epochs')\n",
        "ax.set_ylabel('Value')"
      ],
      "execution_count": 0,
      "outputs": [
        {
          "output_type": "execute_result",
          "data": {
            "text/plain": [
              "Text(0,0.5,u'Value')"
            ]
          },
          "metadata": {
            "tags": []
          },
          "execution_count": 79
        },
        {
          "output_type": "display_data",
          "data": {
            "image/png": "[encoded data removed]",
            "text/plain": [
              "<matplotlib.figure.Figure at 0x7f5b38f42310>"
            ]
          },
          "metadata": {
            "tags": []
          }
        }
      ]
    },
    {
      "metadata": {
        "id": "G3cW2JsNkYN-",
        "colab_type": "text"
      },
      "cell_type": "markdown",
      "source": [
        "#### Массивы"
      ]
    },
    {
      "metadata": {
        "id": "nWJzRlPfkel-",
        "colab_type": "code",
        "colab": {}
      },
      "cell_type": "code",
      "source": [
        "cat_acc = [0.4322509765625,\n",
        "  0.4434814453125,\n",
        "  0.436767578125,\n",
        "  0.4447021484375,\n",
        "  0.4498291015625,\n",
        "  0.4664306640625,\n",
        "  0.48291015625,\n",
        "  0.47607421875,\n",
        "  0.48095703125,\n",
        "  0.480712890625,\n",
        "  0.4840087890625,\n",
        "  0.484375,\n",
        "  0.4879150390625,\n",
        "  0.49267578125,\n",
        "  0.4970703125,\n",
        "  0.48876953125,\n",
        "  0.4755859375,\n",
        "  0.4801025390625,\n",
        "  0.469482421875,\n",
        "  0.46484375,\n",
        "  0.4666748046875,\n",
        "  0.4674072265625,\n",
        "  0.4541015625,\n",
        "  0.453125,\n",
        "  0.4449462890625,\n",
        "  0.4541015625,\n",
        "  0.449951171875,\n",
        "  0.453857421875,\n",
        "  0.4384765625,\n",
        "  0.44384765625,\n",
        "  0.4490966796875,\n",
        "  0.4451904296875,\n",
        "  0.43798828125,\n",
        "  0.442138671875,\n",
        "  0.4393310546875,\n",
        "  0.43408203125,\n",
        "  0.4383544921875,\n",
        "  0.4381103515625,\n",
        "  0.4400634765625,\n",
        "  0.4375,\n",
        "  0.4268798828125,\n",
        "  0.43359375,\n",
        "  0.44189453125,\n",
        "  0.4356689453125,\n",
        "  0.4388427734375,\n",
        "  0.43505859375,\n",
        "  0.4385986328125,\n",
        "  0.439453125,\n",
        "  0.4415283203125,\n",
        "  0.42578125,\n",
        "  0.444091796875,\n",
        "  0.4322509765625,\n",
        "  0.4296875,\n",
        "  0.434326171875,\n",
        "  0.4384765625,\n",
        "  0.427001953125,\n",
        "  0.4395751953125,\n",
        "  0.434814453125,\n",
        "  0.4351806640625,\n",
        "  0.425048828125,\n",
        "  0.4368896484375,\n",
        "  0.4407958984375,\n",
        "  0.421630859375,\n",
        "  0.4371337890625,\n",
        "  0.44384765625,\n",
        "  0.422607421875,\n",
        "  0.4244384765625,\n",
        "  0.435791015625,\n",
        "  0.438232421875,\n",
        "  0.4288330078125,\n",
        "  0.4344482421875,\n",
        "  0.4315185546875,\n",
        "  0.435302734375,\n",
        "  0.4268798828125,\n",
        "  0.435791015625,\n",
        "  0.4356689453125,\n",
        "  0.434326171875,\n",
        "  0.43212890625,\n",
        "  0.42578125,\n",
        "  0.4210205078125,\n",
        "  0.43701171875,\n",
        "  0.4339599609375,\n",
        "  0.4381103515625,\n",
        "  0.43359375,\n",
        "  0.4232177734375,\n",
        "  0.4354248046875,\n",
        "  0.4495849609375,\n",
        "  0.434814453125,\n",
        "  0.43603515625,\n",
        "  0.434326171875,\n",
        "  0.4393310546875,\n",
        "  0.427734375,\n",
        "  0.43798828125,\n",
        "  0.432861328125,\n",
        "  0.423583984375,\n",
        "  0.4324951171875,\n",
        "  0.433349609375,\n",
        "  0.4346923828125,\n",
        "  0.4305419921875,\n",
        "  0.42822265625,\n",
        "  0.4276123046875]\n",
        "\n",
        "loss = [2.4680885784327984,\n",
        "  2.472873527556658,\n",
        "  2.4965452067553997,\n",
        "  2.4268768951296806,\n",
        "  2.4164752513170242,\n",
        "  2.359053226187825,\n",
        "  2.3030606023967266,\n",
        "  2.3121595233678818,\n",
        "  2.2988932579755783,\n",
        "  2.273866046220064,\n",
        "  2.2664893195033073,\n",
        "  2.2634465489536524,\n",
        "  2.29483843781054,\n",
        "  2.292356889694929,\n",
        "  2.261128695681691,\n",
        "  2.3013865780085325,\n",
        "  2.331161566078663,\n",
        "  2.3209762051701546,\n",
        "  2.3425158616155386,\n",
        "  2.382807033136487,\n",
        "  2.3598240986466408,\n",
        "  2.3897702768445015,\n",
        "  2.4268571883440018,\n",
        "  2.4405363239347935,\n",
        "  2.442212674766779,\n",
        "  2.446333918720484,\n",
        "  2.4333897791802883,\n",
        "  2.436490997672081,\n",
        "  2.473171040415764,\n",
        "  2.4825322180986404,\n",
        "  2.4522971492260695,\n",
        "  2.456740587949753,\n",
        "  2.461005538702011,\n",
        "  2.4704791717231274,\n",
        "  2.461165402084589,\n",
        "  2.4972593560814857,\n",
        "  2.478463299572468,\n",
        "  2.499819088727236,\n",
        "  2.5023694150149822,\n",
        "  2.490478605031967,\n",
        "  2.517062198370695,\n",
        "  2.5062113143503666,\n",
        "  2.4742205403745174,\n",
        "  2.495595920830965,\n",
        "  2.4766996167600155,\n",
        "  2.497177306562662,\n",
        "  2.5080887600779533,\n",
        "  2.474413773044944,\n",
        "  2.481488808989525,\n",
        "  2.506655767560005,\n",
        "  2.460327574983239,\n",
        "  2.544426079839468,\n",
        "  2.508283633738756,\n",
        "  2.515280596911907,\n",
        "  2.495601087808609,\n",
        "  2.5242313779890537,\n",
        "  2.491091188043356,\n",
        "  2.503649730235338,\n",
        "  2.498815592378378,\n",
        "  2.5347756147384644,\n",
        "  2.509564932435751,\n",
        "  2.471431352198124,\n",
        "  2.52050119638443,\n",
        "  2.5140980444848537,\n",
        "  2.4882354140281677,\n",
        "  2.561452727764845,\n",
        "  2.514063909649849,\n",
        "  2.5178940519690514,\n",
        "  2.490605767816305,\n",
        "  2.5121261924505234,\n",
        "  2.5227228552103043,\n",
        "  2.5112877301871777,\n",
        "  2.5397618897259235,\n",
        "  2.5135655775666237,\n",
        "  2.4897408299148083,\n",
        "  2.5168511047959328,\n",
        "  2.5253648720681667,\n",
        "  2.5061205588281155,\n",
        "  2.5294235106557608,\n",
        "  2.5274696983397007,\n",
        "  2.51240024715662,\n",
        "  2.509125415235758,\n",
        "  2.5197943933308125,\n",
        "  2.503511391580105,\n",
        "  2.540722291916609,\n",
        "  2.492282163351774,\n",
        "  2.4659560546278954,\n",
        "  2.543206974864006,\n",
        "  2.528570022433996,\n",
        "  2.5130017958581448,\n",
        "  2.5036022551357746,\n",
        "  2.514274623245001,\n",
        "  2.516697980463505,\n",
        "  2.5066333562135696,\n",
        "  2.537329461425543,\n",
        "  2.5336676351726055,\n",
        "  2.502676784992218,\n",
        "  2.520548664033413,\n",
        "  2.5340559370815754,\n",
        "  2.5276586897671223,\n",
        "  2.5231171511113644]\n",
        "\n",
        "\n",
        "[1.0033913e-07,\n",
        "  7.525435e-08,\n",
        "  7.525435e-08,\n",
        "  5.6440758e-08,\n",
        "  5.6440758e-08,\n",
        "  4.233057e-08,\n",
        "  4.233057e-08,\n",
        "  3.1747927e-08,\n",
        "  3.1747927e-08,\n",
        "  2.3810946e-08,\n",
        "  2.3810946e-08,\n",
        "  1.785821e-08,\n",
        "  1.785821e-08,\n",
        "  1.3393657e-08,\n",
        "  1.3393657e-08,\n",
        "  1.0045243e-08,\n",
        "  1.0045243e-08,\n",
        "  7.533932e-09,\n",
        "  7.533932e-09,\n",
        "  5.650449e-09,\n",
        "  5.650449e-09,\n",
        "  4.2378367e-09,\n",
        "  4.2378367e-09,\n",
        "  3.1783776e-09,\n",
        "  3.1783776e-09,\n",
        "  2.3837832e-09,\n",
        "  2.3837832e-09,\n",
        "  1.7878373e-09,\n",
        "  1.7878373e-09,\n",
        "  1.3408781e-09,\n",
        "  1.3408781e-09,\n",
        "  1.0056586e-09,\n",
        "  1.0056586e-09,\n",
        "  7.542439e-10,\n",
        "  7.542439e-10,\n",
        "  5.656829e-10,\n",
        "  5.656829e-10,\n",
        "  4.2426218e-10,\n",
        "  4.2426218e-10,\n",
        "  3.1819664e-10,\n",
        "  3.1819664e-10,\n",
        "  2.386475e-10,\n",
        "  2.386475e-10,\n",
        "  1.789856e-10,\n",
        "  1.789856e-10,\n",
        "  1.342392e-10,\n",
        "  1.342392e-10,\n",
        "  1.006794e-10,\n",
        "  1.006794e-10,\n",
        "  7.550956e-11,\n",
        "  7.550956e-11,\n",
        "  5.6632164e-11,\n",
        "  5.6632164e-11,\n",
        "  4.2474125e-11,\n",
        "  4.2474125e-11,\n",
        "  3.1855595e-11,\n",
        "  3.1855595e-11,\n",
        "  2.3891694e-11,\n",
        "  2.3891694e-11,\n",
        "  1.791877e-11,\n",
        "  1.791877e-11,\n",
        "  1.3439078e-11,\n",
        "  1.3439078e-11,\n",
        "  1.0079309e-11,\n",
        "  1.0079309e-11,\n",
        "  7.559482e-12,\n",
        "  7.559482e-12,\n",
        "  5.669611e-12,\n",
        "  5.669611e-12,\n",
        "  4.2522084e-12,\n",
        "  4.2522084e-12,\n",
        "  3.1891562e-12,\n",
        "  3.1891562e-12,\n",
        "  2.3918673e-12,\n",
        "  2.3918673e-12,\n",
        "  1.7939004e-12,\n",
        "  1.7939004e-12,\n",
        "  1.3454253e-12,\n",
        "  1.3454253e-12,\n",
        "  1.009069e-12,\n",
        "  1.009069e-12,\n",
        "  7.5680174e-13,\n",
        "  7.5680174e-13,\n",
        "  5.676013e-13,\n",
        "  5.676013e-13,\n",
        "  4.2570098e-13,\n",
        "  4.2570098e-13,\n",
        "  3.1927572e-13,\n",
        "  3.1927572e-13,\n",
        "  2.394568e-13,\n",
        "  2.394568e-13,\n",
        "  1.795926e-13,\n",
        "  1.795926e-13,\n",
        "  1.3469445e-13,\n",
        "  1.3469445e-13,\n",
        "  1.01020836e-13,\n",
        "  1.01020836e-13,\n",
        "  7.576563e-14,\n",
        "  7.576563e-14,\n",
        "  5.6824222e-14,\n",
        "  5.6824222e-14]\n",
        "\n",
        "top3_acc = [0.6414794921875,\n",
        "  0.6322021484375,\n",
        "  0.63427734375,\n",
        "  0.647216796875,\n",
        "  0.6480712890625,\n",
        "  0.656982421875,\n",
        "  0.674560546875,\n",
        "  0.6707763671875,\n",
        "  0.6785888671875,\n",
        "  0.6783447265625,\n",
        "  0.6820068359375,\n",
        "  0.678466796875,\n",
        "  0.676513671875,\n",
        "  0.6834716796875,\n",
        "  0.6839599609375,\n",
        "  0.674560546875,\n",
        "  0.66796875,\n",
        "  0.6739501953125,\n",
        "  0.6624755859375,\n",
        "  0.6624755859375,\n",
        "  0.6602783203125,\n",
        "  0.659912109375,\n",
        "  0.653564453125,\n",
        "  0.6474609375,\n",
        "  0.642822265625,\n",
        "  0.6455078125,\n",
        "  0.6448974609375,\n",
        "  0.6507568359375,\n",
        "  0.637451171875,\n",
        "  0.6373291015625,\n",
        "  0.6500244140625,\n",
        "  0.6380615234375,\n",
        "  0.6402587890625,\n",
        "  0.641357421875,\n",
        "  0.640869140625,\n",
        "  0.634033203125,\n",
        "  0.6416015625,\n",
        "  0.64453125,\n",
        "  0.6337890625,\n",
        "  0.6346435546875,\n",
        "  0.6318359375,\n",
        "  0.63037109375,\n",
        "  0.6392822265625,\n",
        "  0.636962890625,\n",
        "  0.642822265625,\n",
        "  0.6280517578125,\n",
        "  0.6337890625,\n",
        "  0.6441650390625,\n",
        "  0.6434326171875,\n",
        "  0.6358642578125,\n",
        "  0.6461181640625,\n",
        "  0.6221923828125,\n",
        "  0.6307373046875,\n",
        "  0.6312255859375,\n",
        "  0.63037109375,\n",
        "  0.6279296875,\n",
        "  0.63720703125,\n",
        "  0.638427734375,\n",
        "  0.637939453125,\n",
        "  0.6236572265625,\n",
        "  0.6328125,\n",
        "  0.6409912109375,\n",
        "  0.6314697265625,\n",
        "  0.6318359375,\n",
        "  0.6461181640625,\n",
        "  0.6236572265625,\n",
        "  0.63623046875,\n",
        "  0.626953125,\n",
        "  0.6407470703125,\n",
        "  0.63525390625,\n",
        "  0.6226806640625,\n",
        "  0.6326904296875,\n",
        "  0.6275634765625,\n",
        "  0.6309814453125,\n",
        "  0.6373291015625,\n",
        "  0.6312255859375,\n",
        "  0.63232421875,\n",
        "  0.6358642578125,\n",
        "  0.6282958984375,\n",
        "  0.6300048828125,\n",
        "  0.6304931640625,\n",
        "  0.6396484375,\n",
        "  0.626220703125,\n",
        "  0.632080078125,\n",
        "  0.62451171875,\n",
        "  0.63623046875,\n",
        "  0.6419677734375,\n",
        "  0.6273193359375,\n",
        "  0.632080078125,\n",
        "  0.6304931640625,\n",
        "  0.6387939453125,\n",
        "  0.6322021484375,\n",
        "  0.63134765625,\n",
        "  0.6351318359375,\n",
        "  0.6298828125,\n",
        "  0.6319580078125,\n",
        "  0.63232421875,\n",
        "  0.6265869140625,\n",
        "  0.6221923828125,\n",
        "  0.63330078125,\n",
        "  0.62646484375]\n"
      ],
      "execution_count": 0,
      "outputs": []
    },
    {
      "metadata": {
        "id": "e4mZ1bCZkx4j",
        "colab_type": "text"
      },
      "cell_type": "markdown",
      "source": [
        "#### Графики"
      ]
    },
    {
      "metadata": {
        "id": "WYlkIpBrk0Kb",
        "colab_type": "code",
        "outputId": "dad2e232-a5d3-4653-c81e-2752ab2594f9",
        "colab": {
          "base_uri": "https://localhost:8080/",
          "height": 311
        }
      },
      "cell_type": "code",
      "source": [
        "fig, ax = plt.subplots()\n",
        "ax.plot(cat_acc, 'r--', label='Category accuracy')\n",
        "ax.plot(top3_acc, label='Top 3 accuracy')\n",
        "ax.legend(loc='center right', fontsize='x-large')\n",
        "ax.set_title('Accuracies curves')\n",
        "ax.set_xlabel('Epochs')\n",
        "ax.set_ylabel('Value')"
      ],
      "execution_count": 0,
      "outputs": [
        {
          "output_type": "execute_result",
          "data": {
            "text/plain": [
              "Text(0,0.5,u'Value')"
            ]
          },
          "metadata": {
            "tags": []
          },
          "execution_count": 85
        },
        {
          "output_type": "display_data",
          "data": {
            "image/png": "[encoded data removed]",
            "text/plain": [
              "<matplotlib.figure.Figure at 0x7f5b31646d50>"
            ]
          },
          "metadata": {
            "tags": []
          }
        }
      ]
    },
    {
      "metadata": {
        "id": "bSaswaAzk6D-",
        "colab_type": "code",
        "outputId": "fc01dd85-9fd0-4dc7-f7ea-e818c95e8148",
        "colab": {
          "base_uri": "https://localhost:8080/",
          "height": 311
        }
      },
      "cell_type": "code",
      "source": [
        "fig, ax = plt.subplots()\n",
        "ax.plot(loss, 'g', label='loss')\n",
        "ax.set_title('Loss curve')\n",
        "ax.set_xlabel('Epochs')\n",
        "ax.set_ylabel('Value')"
      ],
      "execution_count": 0,
      "outputs": [
        {
          "output_type": "execute_result",
          "data": {
            "text/plain": [
              "Text(0,0.5,u'Value')"
            ]
          },
          "metadata": {
            "tags": []
          },
          "execution_count": 86
        },
        {
          "output_type": "display_data",
          "data": {
            "image/png": "[encoded data removed]",
            "text/plain": [
              "<matplotlib.figure.Figure at 0x7f5b343910d0>"
            ]
          },
          "metadata": {
            "tags": []
          }
        }
      ]
    },
    {
      "metadata": {
        "id": "Cg1R88gdkOkT",
        "colab_type": "text"
      },
      "cell_type": "markdown",
      "source": [
        "#### Вывод\n",
        "При анализе изменямых параметров становится ясно, что проблема в том, что изначально выбран неправильный learning_rate (loss-графики)\n"
      ]
    },
    {
      "metadata": {
        "id": "ViekbrJjNA2l",
        "colab_type": "text"
      },
      "cell_type": "markdown",
      "source": [
        "## Эксперименты с агументацией данных:"
      ]
    },
    {
      "metadata": {
        "id": "fKD2B4XwNF6P",
        "colab_type": "text"
      },
      "cell_type": "markdown",
      "source": [
        "### Резюме \n",
        "\n",
        "На лучшей модели проверяется гипотеза:\n",
        "\n",
        " - При увеличении картинки и поворотах можно будет выбрать некие фичи, что улучшить качество.\n",
        " Добавляем по одной картинке для каждого объекта => batch_size увеличивается в два раза. (Оставляем его таким, тк если мы уменьшим его в 2 раза, то потеряем в уникальных изображениях из исходных данных)"
      ]
    },
    {
      "metadata": {
        "id": "7_8VanX1fE-4",
        "colab_type": "text"
      },
      "cell_type": "markdown",
      "source": [
        "###  Модель без агументации данных.\n"
      ]
    },
    {
      "metadata": {
        "id": "6_WJwCYhfLUk",
        "colab_type": "code",
        "colab": {}
      },
      "cell_type": "code",
      "source": [
        "BATCH_SIZE = 512\n",
        "STEPS_PER_EPOCH = 128\n",
        "EPOCHS = 50\n",
        "\n",
        "def make_model():\n",
        "  \"\"\"\n",
        "  Define your model architecture here.\n",
        "  Returns `Sequential` model.\n",
        "  \"\"\"\n",
        "  model = Sequential()\n",
        "\n",
        "  model.add(Conv2D(16, (3, 3), padding='same', activation='relu', input_shape=(IMG_SIZE, IMG_SIZE, 1)))\n",
        "  model.add(BatchNormalization())\n",
        "  \n",
        "  model.add(Conv2D(16, (3, 3), padding='same', activation='relu', input_shape=(IMG_SIZE, IMG_SIZE, 1)))\n",
        "  model.add(BatchNormalization())\n",
        "  \n",
        "  model.add(Conv2D(16, (3, 3), padding='same', activation='relu', input_shape=(IMG_SIZE, IMG_SIZE, 1)))\n",
        "  model.add(BatchNormalization())\n",
        "  \n",
        "  model.add(MaxPooling2D())\n",
        "\n",
        "  \n",
        "  model.add(Conv2D(32, (3, 3), padding='same', activation='relu'))\n",
        "  model.add(BatchNormalization())\n",
        "\n",
        "  model.add(Conv2D(32, (3, 3), padding='same', activation='relu'))\n",
        "  model.add(BatchNormalization())\n",
        "\n",
        "  model.add(Conv2D(32, (3, 3), padding='same', activation='relu'))\n",
        "  model.add(BatchNormalization())\n",
        "\n",
        "  model.add(MaxPooling2D())\n",
        "\n",
        "  \n",
        "  model.add(Conv2D(64, (3, 3), padding='same', activation='relu'))\n",
        "  model.add(BatchNormalization())\n",
        "\n",
        "  model.add(Conv2D(64, (3, 3), padding='same', activation='relu'))\n",
        "  model.add(BatchNormalization())\n",
        "\n",
        "  model.add(Conv2D(64, (3, 3), padding='same', activation='relu'))\n",
        "  model.add(BatchNormalization())\n",
        "\n",
        "  model.add(MaxPooling2D())\n",
        "\n",
        "  \n",
        "  model.add(Conv2D(128, (3, 3), padding='same', activation='relu'))\n",
        "  model.add(BatchNormalization())\n",
        "\n",
        "  model.add(Conv2D(128, (3, 3), padding='same', activation='relu'))\n",
        "  model.add(BatchNormalization())\n",
        "\n",
        "  model.add(Conv2D(128, (3, 3), padding='same', activation='relu'))\n",
        "  model.add(BatchNormalization())\n",
        "\n",
        "  model.add(MaxPooling2D())\n",
        "\n",
        "  \n",
        "  model.add(Conv2D(256, (3, 3), padding='same', activation='relu'))\n",
        "  model.add(BatchNormalization())\n",
        "\n",
        "  model.add(Conv2D(256, (3, 3), padding='same', activation='relu'))\n",
        "  model.add(BatchNormalization())\n",
        "\n",
        "  model.add(Conv2D(256, (3, 3), padding='same', activation='relu'))\n",
        "  model.add(BatchNormalization())\n",
        "\n",
        "  model.add(MaxPooling2D())\n",
        "\n",
        "  \n",
        "  model.add(Conv2D(512, (3, 3), padding='same', activation='relu'))\n",
        "  model.add(BatchNormalization())\n",
        "\n",
        "  model.add(Conv2D(512, (3, 3), padding='same', activation='relu'))\n",
        "  model.add(BatchNormalization())\n",
        "\n",
        "  model.add(Conv2D(512, (3, 3), padding='same', activation='relu'))\n",
        "  model.add(BatchNormalization())\n",
        "\n",
        "  model.add(GlobalAveragePooling2D())\n",
        "\n",
        "  model.add(Dense(64, activation='relu'))\n",
        "  model.add(Dense(NUM_CLASSES, activation=\"softmax\"))\n",
        "\n",
        "  return model"
      ],
      "execution_count": 0,
      "outputs": []
    },
    {
      "metadata": {
        "id": "zsSr_cSGfckJ",
        "colab_type": "text"
      },
      "cell_type": "markdown",
      "source": [
        "### Массивы:"
      ]
    },
    {
      "metadata": {
        "id": "eOAbNkYTfiqH",
        "colab_type": "code",
        "colab": {}
      },
      "cell_type": "code",
      "source": [
        "cat_acc =[0.110992431640625,\n",
        "  0.18963623046875,\n",
        "  0.263763427734375,\n",
        "  0.3127899169921875,\n",
        "  0.3480987548828125,\n",
        "  0.3790130615234375,\n",
        "  0.4034271240234375,\n",
        "  0.4199981689453125,\n",
        "  0.4349212646484375,\n",
        "  0.4438629150390625,\n",
        "  0.458953857421875,\n",
        "  0.4643096923828125,\n",
        "  0.4718780517578125,\n",
        "  0.4775238037109375,\n",
        "  0.4791717529296875,\n",
        "  0.483062744140625,\n",
        "  0.4871063232421875,\n",
        "  0.491668701171875,\n",
        "  0.4888153076171875,\n",
        "  0.5007171630859375,\n",
        "  0.49688720703125,\n",
        "  0.499908447265625,\n",
        "  0.498504638671875,\n",
        "  0.502593994140625,\n",
        "  0.5036468505859375,\n",
        "  0.5051116943359375,\n",
        "  0.50262451171875,\n",
        "  0.5066375732421875,\n",
        "  0.505859375,\n",
        "  0.5013427734375,\n",
        "  0.5063934326171875,\n",
        "  0.50311279296875,\n",
        "  0.5091552734375,\n",
        "  0.5047607421875,\n",
        "  0.5095672607421875,\n",
        "  0.505645751953125,\n",
        "  0.5090179443359375,\n",
        "  0.506683349609375,\n",
        "  0.5061798095703125,\n",
        "  0.506500244140625,\n",
        "  0.5070343017578125,\n",
        "  0.511474609375,\n",
        "  0.5070037841796875,\n",
        "  0.507232666015625,\n",
        "  0.510009765625,\n",
        "  0.5093536376953125,\n",
        "  0.5079498291015625,\n",
        "  0.5080413818359375,\n",
        "  0.50836181640625,\n",
        "  0.506500244140625]\n",
        "\n",
        "loss =  [4.759915500879288,\n",
        "  4.119159534573555,\n",
        "  3.668934267014265,\n",
        "  3.344358215108514,\n",
        "  3.122873591259122,\n",
        "  2.949145160615444,\n",
        "  2.809198673814535,\n",
        "  2.72814286313951,\n",
        "  2.650218477472663,\n",
        "  2.593439484015107,\n",
        "  2.5187066569924355,\n",
        "  2.4914218112826347,\n",
        "  2.449601475149393,\n",
        "  2.41269388794899,\n",
        "  2.4114991184324026,\n",
        "  2.374601664021611,\n",
        "  2.3659047223627567,\n",
        "  2.3453390300273895,\n",
        "  2.343330467119813,\n",
        "  2.3026546854525805,\n",
        "  2.3030626606196165,\n",
        "  2.2994032129645348,\n",
        "  2.297671416774392,\n",
        "  2.282514115795493,\n",
        "  2.278309663757682,\n",
        "  2.2696991711854935,\n",
        "  2.276376763358712,\n",
        "  2.259805638343096,\n",
        "  2.268813209608197,\n",
        "  2.2780629005283117,\n",
        "  2.264872604981065,\n",
        "  2.2716403640806675,\n",
        "  2.2652347832918167,\n",
        "  2.262054679915309,\n",
        "  2.26261237449944,\n",
        "  2.271057326346636,\n",
        "  2.2498729666695,\n",
        "  2.2595823351293802,\n",
        "  2.26347921974957,\n",
        "  2.250196225941181,\n",
        "  2.250006066635251,\n",
        "  2.239623885601759,\n",
        "  2.2500197663903236,\n",
        "  2.2571550710126758,\n",
        "  2.248923072591424,\n",
        "  2.2539265109226108,\n",
        "  2.2499399902299047,\n",
        "  2.246763882227242,\n",
        "  2.2393512036651373,\n",
        "  2.2581502310931683]\n",
        "\n",
        "lr = [1e-04,\n",
        "  1e-04,\n",
        "  7.5e-05,\n",
        "  7.5e-05,\n",
        "  5.625e-05,\n",
        "  5.625e-05,\n",
        "  4.21875e-05,\n",
        "  4.21875e-05,\n",
        "  3.1640626e-05,\n",
        "  3.1640626e-05,\n",
        "  2.3730468e-05,\n",
        "  2.3730468e-05,\n",
        "  1.779785e-05,\n",
        "  1.779785e-05,\n",
        "  1.3348389e-05,\n",
        "  1.3348389e-05,\n",
        "  1.0011291e-05,\n",
        "  1.0011291e-05,\n",
        "  7.5084686e-06,\n",
        "  7.5084686e-06,\n",
        "  5.6313515e-06,\n",
        "  5.6313515e-06,\n",
        "  4.2235138e-06,\n",
        "  4.2235138e-06,\n",
        "  3.1676352e-06,\n",
        "  3.1676352e-06,\n",
        "  2.3757264e-06,\n",
        "  2.3757264e-06,\n",
        "  1.7817948e-06,\n",
        "  1.7817948e-06,\n",
        "  1.3363461e-06,\n",
        "  1.3363461e-06,\n",
        "  1.0022595e-06,\n",
        "  1.0022595e-06,\n",
        "  7.516947e-07,\n",
        "  7.516947e-07,\n",
        "  5.6377104e-07,\n",
        "  5.6377104e-07,\n",
        "  4.2282826e-07,\n",
        "  4.2282826e-07,\n",
        "  3.171212e-07,\n",
        "  3.171212e-07,\n",
        "  2.378409e-07,\n",
        "  2.378409e-07,\n",
        "  1.7838067e-07,\n",
        "  1.7838067e-07,\n",
        "  1.337855e-07,\n",
        "  1.337855e-07,\n",
        "  1.0033913e-07,\n",
        "  1.0033913e-07]\n",
        "\n",
        "top3_acc = [0.2039642333984375,\n",
        "  0.3274078369140625,\n",
        "  0.419036865234375,\n",
        "  0.4839324951171875,\n",
        "  0.5266265869140625,\n",
        "  0.5580596923828125,\n",
        "  0.58770751953125,\n",
        "  0.6025543212890625,\n",
        "  0.615478515625,\n",
        "  0.627197265625,\n",
        "  0.6404266357421875,\n",
        "  0.6468048095703125,\n",
        "  0.654083251953125,\n",
        "  0.659637451171875,\n",
        "  0.660675048828125,\n",
        "  0.667572021484375,\n",
        "  0.66827392578125,\n",
        "  0.6712188720703125,\n",
        "  0.673370361328125,\n",
        "  0.6812896728515625,\n",
        "  0.6812744140625,\n",
        "  0.6820526123046875,\n",
        "  0.681671142578125,\n",
        "  0.682464599609375,\n",
        "  0.6859893798828125,\n",
        "  0.686248779296875,\n",
        "  0.6841583251953125,\n",
        "  0.68798828125,\n",
        "  0.68609619140625,\n",
        "  0.6839599609375,\n",
        "  0.688507080078125,\n",
        "  0.683197021484375,\n",
        "  0.68731689453125,\n",
        "  0.6858367919921875,\n",
        "  0.6888580322265625,\n",
        "  0.6849517822265625,\n",
        "  0.6927032470703125,\n",
        "  0.6875762939453125,\n",
        "  0.6843414306640625,\n",
        "  0.6898040771484375,\n",
        "  0.6904296875,\n",
        "  0.6919097900390625,\n",
        "  0.690185546875,\n",
        "  0.687591552734375,\n",
        "  0.69171142578125,\n",
        "  0.6894683837890625,\n",
        "  0.69219970703125,\n",
        "  0.689666748046875,\n",
        "  0.6897430419921875,\n",
        "  0.68902587890625]"
      ],
      "execution_count": 0,
      "outputs": []
    },
    {
      "metadata": {
        "id": "T63wHykvf8on",
        "colab_type": "text"
      },
      "cell_type": "markdown",
      "source": [
        "### Графики"
      ]
    },
    {
      "metadata": {
        "id": "68zhDYtkgAJ2",
        "colab_type": "code",
        "outputId": "4f0c2111-fcc1-4b5e-d972-d08891011c25",
        "colab": {
          "base_uri": "https://localhost:8080/",
          "height": 311
        }
      },
      "cell_type": "code",
      "source": [
        "fig, ax = plt.subplots()\n",
        "ax.plot(cat_acc, 'r--', label='Category accuracy')\n",
        "ax.plot(top3_acc, label='Top 3 accuracy')\n",
        "ax.legend(loc='center right', fontsize='x-large')\n",
        "ax.set_title('Accuracies curves')\n",
        "ax.set_xlabel('Epochs')\n",
        "ax.set_ylabel('Value')"
      ],
      "execution_count": 0,
      "outputs": [
        {
          "output_type": "execute_result",
          "data": {
            "text/plain": [
              "Text(0,0.5,u'Value')"
            ]
          },
          "metadata": {
            "tags": []
          },
          "execution_count": 32
        },
        {
          "output_type": "display_data",
          "data": {
            "image/png": "[encoded data removed]",
            "text/plain": [
              "<matplotlib.figure.Figure at 0x7f6090860590>"
            ]
          },
          "metadata": {
            "tags": []
          }
        }
      ]
    },
    {
      "metadata": {
        "id": "40hIriwRgKim",
        "colab_type": "code",
        "outputId": "fe5c176c-c2ae-4959-9277-723a80ba8181",
        "colab": {
          "base_uri": "https://localhost:8080/",
          "height": 311
        }
      },
      "cell_type": "code",
      "source": [
        "fig, ax = plt.subplots()\n",
        "ax.plot(loss, 'g', label='loss')\n",
        "ax.set_title('Loss curve')\n",
        "ax.set_xlabel('Epochs')\n",
        "ax.set_ylabel('Value')"
      ],
      "execution_count": 0,
      "outputs": [
        {
          "output_type": "execute_result",
          "data": {
            "text/plain": [
              "Text(0,0.5,u'Value')"
            ]
          },
          "metadata": {
            "tags": []
          },
          "execution_count": 33
        },
        {
          "output_type": "display_data",
          "data": {
            "image/png": "[encoded data removed]",
            "text/plain": [
              "<matplotlib.figure.Figure at 0x7f6090860810>"
            ]
          },
          "metadata": {
            "tags": []
          }
        }
      ]
    },
    {
      "metadata": {
        "id": "yjO3s6p_gf2Z",
        "colab_type": "code",
        "outputId": "228fda98-486f-4adb-e5da-1defced76633",
        "colab": {
          "base_uri": "https://localhost:8080/",
          "height": 311
        }
      },
      "cell_type": "code",
      "source": [
        "fig, ax = plt.subplots()\n",
        "ax.plot(lr, 'y', label='loss')\n",
        "ax.set_title('Learning rate curve')\n",
        "ax.set_xlabel('Epochs')\n",
        "ax.set_ylabel('Value')"
      ],
      "execution_count": 0,
      "outputs": [
        {
          "output_type": "execute_result",
          "data": {
            "text/plain": [
              "Text(0,0.5,u'Value')"
            ]
          },
          "metadata": {
            "tags": []
          },
          "execution_count": 34
        },
        {
          "output_type": "display_data",
          "data": {
            "image/png": "[encoded data removed]",
            "text/plain": [
              "<matplotlib.figure.Figure at 0x7f60908604d0>"
            ]
          },
          "metadata": {
            "tags": []
          }
        }
      ]
    },
    {
      "metadata": {
        "id": "qkZ9L3xGGDqB",
        "colab_type": "text"
      },
      "cell_type": "markdown",
      "source": [
        "### Модель с агументацией данных"
      ]
    },
    {
      "metadata": {
        "id": "UGBjUdmeGMt4",
        "colab_type": "code",
        "colab": {}
      },
      "cell_type": "code",
      "source": [
        "def images_and_labels_generator_with_aug(batch_size):\n",
        "  image_gen = ImageDataGenerator(\n",
        "    rotation_range=45,\n",
        "    rescale=3.2,\n",
        "    zoom_range=1.2\n",
        "    \n",
        "  )\n",
        "\n",
        "  for batch in raw_batch_generator(batch_size):\n",
        "    batch_images = []\n",
        "    batch_labels = []\n",
        "    for e in batch:\n",
        "      image = draw_it(e[0])\n",
        "      batch_images.append(image)\n",
        "      image = np.tile(np.expand_dims(image, axis=2), (1, 1, 3))\n",
        "      batch_labels.append(e[1])\n",
        "      batch_images.append(image_gen.random_transform(image)[:,:,0])\n",
        "      batch_labels.append(e[1])\n",
        "        \n",
        "      \n",
        "    batch_images = np.stack(batch_images, axis=0)\n",
        "    yield batch_images, batch_labels"
      ],
      "execution_count": 0,
      "outputs": []
    },
    {
      "metadata": {
        "id": "tKZosDQxGb5P",
        "colab_type": "text"
      },
      "cell_type": "markdown",
      "source": [
        "### Массивы"
      ]
    },
    {
      "metadata": {
        "id": "QbZPIgJAGjsY",
        "colab_type": "code",
        "colab": {}
      },
      "cell_type": "code",
      "source": [
        "cat_acc = [0.007415771484375,\n",
        "  0.022796630859375,\n",
        "  0.0433349609375,\n",
        "  0.071258544921875,\n",
        "  0.096160888671875,\n",
        "  0.1148834228515625,\n",
        "  0.1322021484375,\n",
        "  0.14642333984375,\n",
        "  0.1559906005859375,\n",
        "  0.1679229736328125,\n",
        "  0.1779937744140625,\n",
        "  0.1855926513671875,\n",
        "  0.191070556640625,\n",
        "  0.197540283203125,\n",
        "  0.201904296875,\n",
        "  0.2020721435546875,\n",
        "  0.2059326171875,\n",
        "  0.209808349609375,\n",
        "  0.2117462158203125,\n",
        "  0.21240234375,\n",
        "  0.216522216796875,\n",
        "  0.216644287109375,\n",
        "  0.218475341796875,\n",
        "  0.2166595458984375,\n",
        "  0.22039794921875,\n",
        "  0.222259521484375,\n",
        "  0.2225799560546875,\n",
        "  0.2215118408203125,\n",
        "  0.2217864990234375,\n",
        "  0.225616455078125,\n",
        "  0.2236328125,\n",
        "  0.224639892578125,\n",
        "  0.2237701416015625,\n",
        "  0.226165771484375,\n",
        "  0.22308349609375,\n",
        "  0.22564697265625,\n",
        "  0.2223663330078125,\n",
        "  0.2261199951171875,\n",
        "  0.2242279052734375,\n",
        "  0.2274017333984375,\n",
        "  0.224029541015625,\n",
        "  0.226104736328125,\n",
        "  0.225830078125,\n",
        "  0.2285308837890625,\n",
        "  0.225006103515625,\n",
        "  0.2252655029296875,\n",
        "  0.22607421875,\n",
        "  0.22503662109375,\n",
        "  0.2281494140625,\n",
        "  0.2252655029296875]\n",
        "\n",
        "loss = [5.7739698104560375,\n",
        "  5.552871033549309,\n",
        "  5.285460088402033,\n",
        "  5.049863412976265,\n",
        "  4.86707342043519,\n",
        "  4.724752277135849,\n",
        "  4.608510885387659,\n",
        "  4.499989453703165,\n",
        "  4.429089799523354,\n",
        "  4.3647153079509735,\n",
        "  4.294530261307955,\n",
        "  4.239372041076422,\n",
        "  4.203357718884945,\n",
        "  4.171484369784594,\n",
        "  4.149225004017353,\n",
        "  4.129408471286297,\n",
        "  4.111062694340944,\n",
        "  4.074572619050741,\n",
        "  4.071458769962192,\n",
        "  4.067548392340541,\n",
        "  4.043001951649785,\n",
        "  4.033365316689014,\n",
        "  4.026085656136274,\n",
        "  4.0362971387803555,\n",
        "  4.0240539107471704,\n",
        "  4.009893884882331,\n",
        "  4.005370466038585,\n",
        "  4.013318680226803,\n",
        "  4.006745036691427,\n",
        "  3.9872453436255455,\n",
        "  3.994716826826334,\n",
        "  3.9803254026919603,\n",
        "  4.002521056681871,\n",
        "  3.982033709064126,\n",
        "  4.000495778396726,\n",
        "  3.9995923656970263,\n",
        "  3.9951315131038427,\n",
        "  3.9814962670207024,\n",
        "  3.9901318419724703,\n",
        "  3.9776270277798176,\n",
        "  3.986276650801301,\n",
        "  3.9780593495815992,\n",
        "  3.981793038547039,\n",
        "  3.9751983247697353,\n",
        "  3.9906250424683094,\n",
        "  3.9913211911916733,\n",
        "  3.9747091848403215,\n",
        "  3.9860664550215006,\n",
        "  3.9766838401556015,\n",
        "  3.9835875891149044]\n",
        "\n",
        "lr = [1e-04,\n",
        "  1e-04,\n",
        "  7.5e-05,\n",
        "  7.5e-05,\n",
        "  5.625e-05,\n",
        "  5.625e-05,\n",
        "  4.21875e-05,\n",
        "  4.21875e-05,\n",
        "  3.1640626e-05,\n",
        "  3.1640626e-05,\n",
        "  2.3730468e-05,\n",
        "  2.3730468e-05,\n",
        "  1.779785e-05,\n",
        "  1.779785e-05,\n",
        "  1.3348389e-05,\n",
        "  1.3348389e-05,\n",
        "  1.0011291e-05,\n",
        "  1.0011291e-05,\n",
        "  7.5084686e-06,\n",
        "  7.5084686e-06,\n",
        "  5.6313515e-06,\n",
        "  5.6313515e-06,\n",
        "  4.2235138e-06,\n",
        "  4.2235138e-06,\n",
        "  3.1676352e-06,\n",
        "  3.1676352e-06,\n",
        "  2.3757264e-06,\n",
        "  2.3757264e-06,\n",
        "  1.7817948e-06,\n",
        "  1.7817948e-06,\n",
        "  1.3363461e-06,\n",
        "  1.3363461e-06,\n",
        "  1.0022595e-06,\n",
        "  1.0022595e-06,\n",
        "  7.516947e-07,\n",
        "  7.516947e-07,\n",
        "  5.6377104e-07,\n",
        "  5.6377104e-07,\n",
        "  4.2282826e-07,\n",
        "  4.2282826e-07,\n",
        "  3.171212e-07,\n",
        "  3.171212e-07,\n",
        "  2.378409e-07,\n",
        "  2.378409e-07,\n",
        "  1.7838067e-07,\n",
        "  1.7838067e-07,\n",
        "  1.337855e-07,\n",
        "  1.337855e-07,\n",
        "  1.0033913e-07,\n",
        "  1.0033913e-07]\n",
        "\n",
        "top3_acc = [0.02093505859375,\n",
        "  0.0516204833984375,\n",
        "  0.093505859375,\n",
        "  0.140472412109375,\n",
        "  0.1768646240234375,\n",
        "  0.2042999267578125,\n",
        "  0.227630615234375,\n",
        "  0.25,\n",
        "  0.2613372802734375,\n",
        "  0.2771759033203125,\n",
        "  0.2894744873046875,\n",
        "  0.3008880615234375,\n",
        "  0.306671142578125,\n",
        "  0.3150177001953125,\n",
        "  0.3198394775390625,\n",
        "  0.322174072265625,\n",
        "  0.328460693359375,\n",
        "  0.3322906494140625,\n",
        "  0.3319854736328125,\n",
        "  0.3352203369140625,\n",
        "  0.3384857177734375,\n",
        "  0.33831787109375,\n",
        "  0.3433685302734375,\n",
        "  0.339630126953125,\n",
        "  0.342987060546875,\n",
        "  0.3454742431640625,\n",
        "  0.3440399169921875,\n",
        "  0.3446502685546875,\n",
        "  0.3451080322265625,\n",
        "  0.348846435546875,\n",
        "  0.3479461669921875,\n",
        "  0.347869873046875,\n",
        "  0.3454132080078125,\n",
        "  0.351226806640625,\n",
        "  0.3463134765625,\n",
        "  0.3502960205078125,\n",
        "  0.3480377197265625,\n",
        "  0.350341796875,\n",
        "  0.348358154296875,\n",
        "  0.35003662109375,\n",
        "  0.3525238037109375,\n",
        "  0.34930419921875,\n",
        "  0.3510589599609375,\n",
        "  0.3522796630859375,\n",
        "  0.3479766845703125,\n",
        "  0.3480072021484375,\n",
        "  0.349853515625,\n",
        "  0.3491668701171875,\n",
        "  0.352203369140625,\n",
        "  0.35040283203125]"
      ],
      "execution_count": 0,
      "outputs": []
    },
    {
      "metadata": {
        "id": "Wmy-0pikIyg7",
        "colab_type": "text"
      },
      "cell_type": "markdown",
      "source": [
        "### Графики"
      ]
    },
    {
      "metadata": {
        "id": "TeQD5xWuIwPP",
        "colab_type": "code",
        "outputId": "61931283-079e-4873-ef03-8762bf5beb1d",
        "colab": {
          "base_uri": "https://localhost:8080/",
          "height": 311
        }
      },
      "cell_type": "code",
      "source": [
        "fig, ax = plt.subplots()\n",
        "ax.plot(cat_acc, 'r--', label='Category accuracy')\n",
        "ax.plot(top3_acc, label='Top 3 accuracy')\n",
        "ax.legend(loc='center right', fontsize='x-large')\n",
        "ax.set_title('Accuracies curves')\n",
        "ax.set_xlabel('Epochs')\n",
        "ax.set_ylabel('Value')"
      ],
      "execution_count": 0,
      "outputs": [
        {
          "output_type": "execute_result",
          "data": {
            "text/plain": [
              "Text(0,0.5,u'Value')"
            ]
          },
          "metadata": {
            "tags": []
          },
          "execution_count": 82
        },
        {
          "output_type": "display_data",
          "data": {
            "image/png": "[encoded data removed]",
            "text/plain": [
              "<matplotlib.figure.Figure at 0x7f60754d6050>"
            ]
          },
          "metadata": {
            "tags": []
          }
        }
      ]
    },
    {
      "metadata": {
        "id": "xHoOzIisI9ZR",
        "colab_type": "code",
        "outputId": "5cffd31c-baf4-4866-c432-d83a7d40f7ca",
        "colab": {
          "base_uri": "https://localhost:8080/",
          "height": 311
        }
      },
      "cell_type": "code",
      "source": [
        "fig, ax = plt.subplots()\n",
        "ax.plot(loss, 'g', label='loss')\n",
        "ax.set_title('Loss curve')\n",
        "ax.set_xlabel('Epochs')\n",
        "ax.set_ylabel('Value')"
      ],
      "execution_count": 0,
      "outputs": [
        {
          "output_type": "execute_result",
          "data": {
            "text/plain": [
              "Text(0,0.5,u'Value')"
            ]
          },
          "metadata": {
            "tags": []
          },
          "execution_count": 83
        },
        {
          "output_type": "display_data",
          "data": {
            "image/png": "[encoded data removed]",
            "text/plain": [
              "<matplotlib.figure.Figure at 0x7f60754ebc50>"
            ]
          },
          "metadata": {
            "tags": []
          }
        }
      ]
    },
    {
      "metadata": {
        "id": "ZUxDjqqZJBXJ",
        "colab_type": "code",
        "outputId": "994ab5cc-58cf-4585-81bb-1b3f69c31e81",
        "colab": {
          "base_uri": "https://localhost:8080/",
          "height": 311
        }
      },
      "cell_type": "code",
      "source": [
        "fig, ax = plt.subplots()\n",
        "ax.plot(lr, 'y', label='loss')\n",
        "ax.set_title('Learning rate curve')\n",
        "ax.set_xlabel('Epochs')\n",
        "ax.set_ylabel('Value')"
      ],
      "execution_count": 0,
      "outputs": [
        {
          "output_type": "execute_result",
          "data": {
            "text/plain": [
              "Text(0,0.5,u'Value')"
            ]
          },
          "metadata": {
            "tags": []
          },
          "execution_count": 84
        },
        {
          "output_type": "display_data",
          "data": {
            "image/png": "[encoded data removed]",
            "text/plain": [
              "<matplotlib.figure.Figure at 0x7f609062b790>"
            ]
          },
          "metadata": {
            "tags": []
          }
        }
      ]
    },
    {
      "metadata": {
        "id": "xdc6l1MidnrJ",
        "colab_type": "text"
      },
      "cell_type": "markdown",
      "source": [
        "### Сравнение"
      ]
    },
    {
      "metadata": {
        "id": "0-oEGUTLduV_",
        "colab_type": "text"
      },
      "cell_type": "markdown",
      "source": [
        "### Массивы"
      ]
    },
    {
      "metadata": {
        "id": "-19n-jtGdS_K",
        "colab_type": "code",
        "colab": {}
      },
      "cell_type": "code",
      "source": [
        "cat_acc = [0.007415771484375,\n",
        "  0.022796630859375,\n",
        "  0.0433349609375,\n",
        "  0.071258544921875,\n",
        "  0.096160888671875,\n",
        "  0.1148834228515625,\n",
        "  0.1322021484375,\n",
        "  0.14642333984375,\n",
        "  0.1559906005859375,\n",
        "  0.1679229736328125,\n",
        "  0.1779937744140625,\n",
        "  0.1855926513671875,\n",
        "  0.191070556640625,\n",
        "  0.197540283203125,\n",
        "  0.201904296875,\n",
        "  0.2020721435546875,\n",
        "  0.2059326171875,\n",
        "  0.209808349609375,\n",
        "  0.2117462158203125,\n",
        "  0.21240234375,\n",
        "  0.216522216796875,\n",
        "  0.216644287109375,\n",
        "  0.218475341796875,\n",
        "  0.2166595458984375,\n",
        "  0.22039794921875,\n",
        "  0.222259521484375,\n",
        "  0.2225799560546875,\n",
        "  0.2215118408203125,\n",
        "  0.2217864990234375,\n",
        "  0.225616455078125,\n",
        "  0.2236328125,\n",
        "  0.224639892578125,\n",
        "  0.2237701416015625,\n",
        "  0.226165771484375,\n",
        "  0.22308349609375,\n",
        "  0.22564697265625,\n",
        "  0.2223663330078125,\n",
        "  0.2261199951171875,\n",
        "  0.2242279052734375,\n",
        "  0.2274017333984375,\n",
        "  0.224029541015625,\n",
        "  0.226104736328125,\n",
        "  0.225830078125,\n",
        "  0.2285308837890625,\n",
        "  0.225006103515625,\n",
        "  0.2252655029296875,\n",
        "  0.22607421875,\n",
        "  0.22503662109375,\n",
        "  0.2281494140625,\n",
        "  0.2252655029296875]\n",
        "\n",
        "loss = [5.7739698104560375,\n",
        "  5.552871033549309,\n",
        "  5.285460088402033,\n",
        "  5.049863412976265,\n",
        "  4.86707342043519,\n",
        "  4.724752277135849,\n",
        "  4.608510885387659,\n",
        "  4.499989453703165,\n",
        "  4.429089799523354,\n",
        "  4.3647153079509735,\n",
        "  4.294530261307955,\n",
        "  4.239372041076422,\n",
        "  4.203357718884945,\n",
        "  4.171484369784594,\n",
        "  4.149225004017353,\n",
        "  4.129408471286297,\n",
        "  4.111062694340944,\n",
        "  4.074572619050741,\n",
        "  4.071458769962192,\n",
        "  4.067548392340541,\n",
        "  4.043001951649785,\n",
        "  4.033365316689014,\n",
        "  4.026085656136274,\n",
        "  4.0362971387803555,\n",
        "  4.0240539107471704,\n",
        "  4.009893884882331,\n",
        "  4.005370466038585,\n",
        "  4.013318680226803,\n",
        "  4.006745036691427,\n",
        "  3.9872453436255455,\n",
        "  3.994716826826334,\n",
        "  3.9803254026919603,\n",
        "  4.002521056681871,\n",
        "  3.982033709064126,\n",
        "  4.000495778396726,\n",
        "  3.9995923656970263,\n",
        "  3.9951315131038427,\n",
        "  3.9814962670207024,\n",
        "  3.9901318419724703,\n",
        "  3.9776270277798176,\n",
        "  3.986276650801301,\n",
        "  3.9780593495815992,\n",
        "  3.981793038547039,\n",
        "  3.9751983247697353,\n",
        "  3.9906250424683094,\n",
        "  3.9913211911916733,\n",
        "  3.9747091848403215,\n",
        "  3.9860664550215006,\n",
        "  3.9766838401556015,\n",
        "  3.9835875891149044]\n",
        "\n",
        "lr = [1e-04,\n",
        "  1e-04,\n",
        "  7.5e-05,\n",
        "  7.5e-05,\n",
        "  5.625e-05,\n",
        "  5.625e-05,\n",
        "  4.21875e-05,\n",
        "  4.21875e-05,\n",
        "  3.1640626e-05,\n",
        "  3.1640626e-05,\n",
        "  2.3730468e-05,\n",
        "  2.3730468e-05,\n",
        "  1.779785e-05,\n",
        "  1.779785e-05,\n",
        "  1.3348389e-05,\n",
        "  1.3348389e-05,\n",
        "  1.0011291e-05,\n",
        "  1.0011291e-05,\n",
        "  7.5084686e-06,\n",
        "  7.5084686e-06,\n",
        "  5.6313515e-06,\n",
        "  5.6313515e-06,\n",
        "  4.2235138e-06,\n",
        "  4.2235138e-06,\n",
        "  3.1676352e-06,\n",
        "  3.1676352e-06,\n",
        "  2.3757264e-06,\n",
        "  2.3757264e-06,\n",
        "  1.7817948e-06,\n",
        "  1.7817948e-06,\n",
        "  1.3363461e-06,\n",
        "  1.3363461e-06,\n",
        "  1.0022595e-06,\n",
        "  1.0022595e-06,\n",
        "  7.516947e-07,\n",
        "  7.516947e-07,\n",
        "  5.6377104e-07,\n",
        "  5.6377104e-07,\n",
        "  4.2282826e-07,\n",
        "  4.2282826e-07,\n",
        "  3.171212e-07,\n",
        "  3.171212e-07,\n",
        "  2.378409e-07,\n",
        "  2.378409e-07,\n",
        "  1.7838067e-07,\n",
        "  1.7838067e-07,\n",
        "  1.337855e-07,\n",
        "  1.337855e-07,\n",
        "  1.0033913e-07,\n",
        "  1.0033913e-07]\n",
        "\n",
        "top3_acc = [0.02093505859375,\n",
        "  0.0516204833984375,\n",
        "  0.093505859375,\n",
        "  0.140472412109375,\n",
        "  0.1768646240234375,\n",
        "  0.2042999267578125,\n",
        "  0.227630615234375,\n",
        "  0.25,\n",
        "  0.2613372802734375,\n",
        "  0.2771759033203125,\n",
        "  0.2894744873046875,\n",
        "  0.3008880615234375,\n",
        "  0.306671142578125,\n",
        "  0.3150177001953125,\n",
        "  0.3198394775390625,\n",
        "  0.322174072265625,\n",
        "  0.328460693359375,\n",
        "  0.3322906494140625,\n",
        "  0.3319854736328125,\n",
        "  0.3352203369140625,\n",
        "  0.3384857177734375,\n",
        "  0.33831787109375,\n",
        "  0.3433685302734375,\n",
        "  0.339630126953125,\n",
        "  0.342987060546875,\n",
        "  0.3454742431640625,\n",
        "  0.3440399169921875,\n",
        "  0.3446502685546875,\n",
        "  0.3451080322265625,\n",
        "  0.348846435546875,\n",
        "  0.3479461669921875,\n",
        "  0.347869873046875,\n",
        "  0.3454132080078125,\n",
        "  0.351226806640625,\n",
        "  0.3463134765625,\n",
        "  0.3502960205078125,\n",
        "  0.3480377197265625,\n",
        "  0.350341796875,\n",
        "  0.348358154296875,\n",
        "  0.35003662109375,\n",
        "  0.3525238037109375,\n",
        "  0.34930419921875,\n",
        "  0.3510589599609375,\n",
        "  0.3522796630859375,\n",
        "  0.3479766845703125,\n",
        "  0.3480072021484375,\n",
        "  0.349853515625,\n",
        "  0.3491668701171875,\n",
        "  0.352203369140625,\n",
        "  0.35040283203125]\n",
        "\n",
        "#====================\n",
        "\n",
        "cat_acc2 =[0.110992431640625,\n",
        "  0.18963623046875,\n",
        "  0.263763427734375,\n",
        "  0.3127899169921875,\n",
        "  0.3480987548828125,\n",
        "  0.3790130615234375,\n",
        "  0.4034271240234375,\n",
        "  0.4199981689453125,\n",
        "  0.4349212646484375,\n",
        "  0.4438629150390625,\n",
        "  0.458953857421875,\n",
        "  0.4643096923828125,\n",
        "  0.4718780517578125,\n",
        "  0.4775238037109375,\n",
        "  0.4791717529296875,\n",
        "  0.483062744140625,\n",
        "  0.4871063232421875,\n",
        "  0.491668701171875,\n",
        "  0.4888153076171875,\n",
        "  0.5007171630859375,\n",
        "  0.49688720703125,\n",
        "  0.499908447265625,\n",
        "  0.498504638671875,\n",
        "  0.502593994140625,\n",
        "  0.5036468505859375,\n",
        "  0.5051116943359375,\n",
        "  0.50262451171875,\n",
        "  0.5066375732421875,\n",
        "  0.505859375,\n",
        "  0.5013427734375,\n",
        "  0.5063934326171875,\n",
        "  0.50311279296875,\n",
        "  0.5091552734375,\n",
        "  0.5047607421875,\n",
        "  0.5095672607421875,\n",
        "  0.505645751953125,\n",
        "  0.5090179443359375,\n",
        "  0.506683349609375,\n",
        "  0.5061798095703125,\n",
        "  0.506500244140625,\n",
        "  0.5070343017578125,\n",
        "  0.511474609375,\n",
        "  0.5070037841796875,\n",
        "  0.507232666015625,\n",
        "  0.510009765625,\n",
        "  0.5093536376953125,\n",
        "  0.5079498291015625,\n",
        "  0.5080413818359375,\n",
        "  0.50836181640625,\n",
        "  0.506500244140625]\n",
        "\n",
        "loss2 =  [4.759915500879288,\n",
        "  4.119159534573555,\n",
        "  3.668934267014265,\n",
        "  3.344358215108514,\n",
        "  3.122873591259122,\n",
        "  2.949145160615444,\n",
        "  2.809198673814535,\n",
        "  2.72814286313951,\n",
        "  2.650218477472663,\n",
        "  2.593439484015107,\n",
        "  2.5187066569924355,\n",
        "  2.4914218112826347,\n",
        "  2.449601475149393,\n",
        "  2.41269388794899,\n",
        "  2.4114991184324026,\n",
        "  2.374601664021611,\n",
        "  2.3659047223627567,\n",
        "  2.3453390300273895,\n",
        "  2.343330467119813,\n",
        "  2.3026546854525805,\n",
        "  2.3030626606196165,\n",
        "  2.2994032129645348,\n",
        "  2.297671416774392,\n",
        "  2.282514115795493,\n",
        "  2.278309663757682,\n",
        "  2.2696991711854935,\n",
        "  2.276376763358712,\n",
        "  2.259805638343096,\n",
        "  2.268813209608197,\n",
        "  2.2780629005283117,\n",
        "  2.264872604981065,\n",
        "  2.2716403640806675,\n",
        "  2.2652347832918167,\n",
        "  2.262054679915309,\n",
        "  2.26261237449944,\n",
        "  2.271057326346636,\n",
        "  2.2498729666695,\n",
        "  2.2595823351293802,\n",
        "  2.26347921974957,\n",
        "  2.250196225941181,\n",
        "  2.250006066635251,\n",
        "  2.239623885601759,\n",
        "  2.2500197663903236,\n",
        "  2.2571550710126758,\n",
        "  2.248923072591424,\n",
        "  2.2539265109226108,\n",
        "  2.2499399902299047,\n",
        "  2.246763882227242,\n",
        "  2.2393512036651373,\n",
        "  2.2581502310931683]\n",
        "\n",
        "lr2 = [1e-04,\n",
        "  1e-04,\n",
        "  7.5e-05,\n",
        "  7.5e-05,\n",
        "  5.625e-05,\n",
        "  5.625e-05,\n",
        "  4.21875e-05,\n",
        "  4.21875e-05,\n",
        "  3.1640626e-05,\n",
        "  3.1640626e-05,\n",
        "  2.3730468e-05,\n",
        "  2.3730468e-05,\n",
        "  1.779785e-05,\n",
        "  1.779785e-05,\n",
        "  1.3348389e-05,\n",
        "  1.3348389e-05,\n",
        "  1.0011291e-05,\n",
        "  1.0011291e-05,\n",
        "  7.5084686e-06,\n",
        "  7.5084686e-06,\n",
        "  5.6313515e-06,\n",
        "  5.6313515e-06,\n",
        "  4.2235138e-06,\n",
        "  4.2235138e-06,\n",
        "  3.1676352e-06,\n",
        "  3.1676352e-06,\n",
        "  2.3757264e-06,\n",
        "  2.3757264e-06,\n",
        "  1.7817948e-06,\n",
        "  1.7817948e-06,\n",
        "  1.3363461e-06,\n",
        "  1.3363461e-06,\n",
        "  1.0022595e-06,\n",
        "  1.0022595e-06,\n",
        "  7.516947e-07,\n",
        "  7.516947e-07,\n",
        "  5.6377104e-07,\n",
        "  5.6377104e-07,\n",
        "  4.2282826e-07,\n",
        "  4.2282826e-07,\n",
        "  3.171212e-07,\n",
        "  3.171212e-07,\n",
        "  2.378409e-07,\n",
        "  2.378409e-07,\n",
        "  1.7838067e-07,\n",
        "  1.7838067e-07,\n",
        "  1.337855e-07,\n",
        "  1.337855e-07,\n",
        "  1.0033913e-07,\n",
        "  1.0033913e-07]\n",
        "\n",
        "top3_acc2 = [0.2039642333984375,\n",
        "  0.3274078369140625,\n",
        "  0.419036865234375,\n",
        "  0.4839324951171875,\n",
        "  0.5266265869140625,\n",
        "  0.5580596923828125,\n",
        "  0.58770751953125,\n",
        "  0.6025543212890625,\n",
        "  0.615478515625,\n",
        "  0.627197265625,\n",
        "  0.6404266357421875,\n",
        "  0.6468048095703125,\n",
        "  0.654083251953125,\n",
        "  0.659637451171875,\n",
        "  0.660675048828125,\n",
        "  0.667572021484375,\n",
        "  0.66827392578125,\n",
        "  0.6712188720703125,\n",
        "  0.673370361328125,\n",
        "  0.6812896728515625,\n",
        "  0.6812744140625,\n",
        "  0.6820526123046875,\n",
        "  0.681671142578125,\n",
        "  0.682464599609375,\n",
        "  0.6859893798828125,\n",
        "  0.686248779296875,\n",
        "  0.6841583251953125,\n",
        "  0.68798828125,\n",
        "  0.68609619140625,\n",
        "  0.6839599609375,\n",
        "  0.688507080078125,\n",
        "  0.683197021484375,\n",
        "  0.68731689453125,\n",
        "  0.6858367919921875,\n",
        "  0.6888580322265625,\n",
        "  0.6849517822265625,\n",
        "  0.6927032470703125,\n",
        "  0.6875762939453125,\n",
        "  0.6843414306640625,\n",
        "  0.6898040771484375,\n",
        "  0.6904296875,\n",
        "  0.6919097900390625,\n",
        "  0.690185546875,\n",
        "  0.687591552734375,\n",
        "  0.69171142578125,\n",
        "  0.6894683837890625,\n",
        "  0.69219970703125,\n",
        "  0.689666748046875,\n",
        "  0.6897430419921875,\n",
        "  0.68902587890625]\n",
        "\n"
      ],
      "execution_count": 0,
      "outputs": []
    },
    {
      "metadata": {
        "id": "vPJuPZNTn6lq",
        "colab_type": "text"
      },
      "cell_type": "markdown",
      "source": [
        "### Графики"
      ]
    },
    {
      "metadata": {
        "id": "4wqNbuvpoBGF",
        "colab_type": "code",
        "outputId": "59af1008-5f9a-4c7f-c953-1c241fde162c",
        "colab": {
          "base_uri": "https://localhost:8080/",
          "height": 311
        }
      },
      "cell_type": "code",
      "source": [
        "fig, ax = plt.subplots()\n",
        "ax.plot(cat_acc, 'r--', label='cat_acc with aug')\n",
        "ax.plot(top3_acc, label='top3_acc with aug')\n",
        "ax.plot(cat_acc2, '--', label='cat_acc w/o aug')\n",
        "ax.plot(top3_acc2, label='top3_acc w/o aug')\n",
        "ax.legend()\n",
        "ax.set_title('Accuracies curves')\n",
        "ax.set_xlabel('Epochs')\n",
        "ax.set_ylabel('Value')"
      ],
      "execution_count": 0,
      "outputs": [
        {
          "output_type": "execute_result",
          "data": {
            "text/plain": [
              "Text(0,0.5,u'Value')"
            ]
          },
          "metadata": {
            "tags": []
          },
          "execution_count": 107
        },
        {
          "output_type": "display_data",
          "data": {
            "image/png": "[encoded data removed]",
            "text/plain": [
              "<matplotlib.figure.Figure at 0x7f6077cdaa50>"
            ]
          },
          "metadata": {
            "tags": []
          }
        }
      ]
    },
    {
      "metadata": {
        "id": "k1GkJiAno2N4",
        "colab_type": "code",
        "outputId": "6cc30f36-c3b5-410c-a381-25de65f45490",
        "colab": {
          "base_uri": "https://localhost:8080/",
          "height": 311
        }
      },
      "cell_type": "code",
      "source": [
        "fig, ax = plt.subplots()\n",
        "ax.plot(loss, 'g', label='loss with aug')\n",
        "ax.plot(loss2, label='loss w/o aug')\n",
        "ax.legend()\n",
        "ax.set_title('Loss curve')\n",
        "ax.set_xlabel('Epochs')\n",
        "ax.set_ylabel('Value')"
      ],
      "execution_count": 0,
      "outputs": [
        {
          "output_type": "execute_result",
          "data": {
            "text/plain": [
              "Text(0,0.5,u'Value')"
            ]
          },
          "metadata": {
            "tags": []
          },
          "execution_count": 110
        },
        {
          "output_type": "display_data",
          "data": {
            "image/png": "[encoded data removed]",
            "text/plain": [
              "<matplotlib.figure.Figure at 0x7f607dcd7a90>"
            ]
          },
          "metadata": {
            "tags": []
          }
        }
      ]
    },
    {
      "metadata": {
        "id": "XxFbD4AEeSyM",
        "colab_type": "text"
      },
      "cell_type": "markdown",
      "source": [
        "### Вывод:\n",
        "Качество при такой агументации ухудшилось, lr слишком маленький для выборки с аугументацией данных."
      ]
    },
    {
      "metadata": {
        "id": "4qj8dBI2pO0K",
        "colab_type": "text"
      },
      "cell_type": "markdown",
      "source": [
        "### Агументация с уменьшением размера и небольшими поворотами изображения"
      ]
    },
    {
      "metadata": {
        "id": "A49DQaOkpuXS",
        "colab_type": "text"
      },
      "cell_type": "markdown",
      "source": [
        "#### Агументация."
      ]
    },
    {
      "metadata": {
        "id": "2epGAIOopoq7",
        "colab_type": "code",
        "colab": {}
      },
      "cell_type": "code",
      "source": [
        "def images_and_labels_generator_with_aug(batch_size):\n",
        "  image_gen = ImageDataGenerator(\n",
        "    rotation_range=15,\n",
        "    rescale=3.2,\n",
        "    zoom_range=-0.3,\n",
        "    vertical_flip=True,\n",
        "    horizontal_flip=True\n",
        "  )\n",
        "\n",
        "  for batch in raw_batch_generator(batch_size):\n",
        "    batch_images = []\n",
        "    batch_labels = []\n",
        "    for e in batch:\n",
        "      image = draw_it(e[0])\n",
        "      batch_images.append(image)\n",
        "      image = np.tile(np.expand_dims(image, axis=2), (1, 1, 3))\n",
        "      batch_labels.append(e[1])\n",
        "      batch_images.append(image_gen.random_transform(image)[:,:,0])\n",
        "      batch_labels.append(e[1])\n",
        "        \n",
        "      \n",
        "    batch_images = np.stack(batch_images, axis=0)\n",
        "    yield batch_images, batch_labels\n"
      ],
      "execution_count": 0,
      "outputs": []
    },
    {
      "metadata": {
        "id": "UChl3SOSpxKi",
        "colab_type": "text"
      },
      "cell_type": "markdown",
      "source": [
        "#### Массивы"
      ]
    },
    {
      "metadata": {
        "id": "hzHb1iVhp0JY",
        "colab_type": "code",
        "colab": {}
      },
      "cell_type": "code",
      "source": [
        "cat_acc = [0.0087127685546875,\n",
        "  0.0276947021484375,\n",
        "  0.06304931640625,\n",
        "  0.09869384765625,\n",
        "  0.124664306640625,\n",
        "  0.1497039794921875,\n",
        "  0.177001953125,\n",
        "  0.1910552978515625,\n",
        "  0.2088623046875,\n",
        "  0.2176971435546875,\n",
        "  0.2317352294921875,\n",
        "  0.24127197265625,\n",
        "  0.24749755859375,\n",
        "  0.2587738037109375,\n",
        "  0.2598419189453125,\n",
        "  0.26318359375,\n",
        "  0.2672119140625,\n",
        "  0.2713623046875,\n",
        "  0.2757568359375,\n",
        "  0.2765350341796875,\n",
        "  0.2818145751953125,\n",
        "  0.2821502685546875,\n",
        "  0.280731201171875,\n",
        "  0.2846221923828125,\n",
        "  0.282562255859375,\n",
        "  0.283599853515625,\n",
        "  0.290496826171875,\n",
        "  0.2921142578125,\n",
        "  0.2920684814453125,\n",
        "  0.2923431396484375,\n",
        "  0.29144287109375,\n",
        "  0.29083251953125,\n",
        "  0.29058837890625,\n",
        "  0.291778564453125,\n",
        "  0.2912139892578125,\n",
        "  0.2940673828125,\n",
        "  0.288909912109375,\n",
        "  0.29229736328125,\n",
        "  0.29193115234375,\n",
        "  0.2941741943359375,\n",
        "  0.2956695556640625,\n",
        "  0.2916107177734375,\n",
        "  0.294952392578125,\n",
        "  0.293853759765625,\n",
        "  0.29119873046875,\n",
        "  0.2921142578125,\n",
        "  0.293975830078125,\n",
        "  0.2911376953125,\n",
        "  0.29229736328125,\n",
        "  0.2939300537109375]\n",
        "\n",
        "loss = [5.752310052514076,\n",
        "  5.432461433112621,\n",
        "  5.052845023572445,\n",
        "  4.761567298322916,\n",
        "  4.522728066891432,\n",
        "  4.347186699509621,\n",
        "  4.1746551394462585,\n",
        "  4.056543312966824,\n",
        "  3.9502307195216417,\n",
        "  3.884231897071004,\n",
        "  3.807611260563135,\n",
        "  3.7380385622382164,\n",
        "  3.702265363186598,\n",
        "  3.6432966142892838,\n",
        "  3.6268637981265783,\n",
        "  3.6078698839992285,\n",
        "  3.580007104203105,\n",
        "  3.558967398479581,\n",
        "  3.5352901369333267,\n",
        "  3.5201967023313046,\n",
        "  3.4939307868480682,\n",
        "  3.500583516433835,\n",
        "  3.502577595412731,\n",
        "  3.4875891264528036,\n",
        "  3.4821457285434008,\n",
        "  3.478899395093322,\n",
        "  3.4470438733696938,\n",
        "  3.447694670408964,\n",
        "  3.4554072562605143,\n",
        "  3.4434306416660547,\n",
        "  3.430903224274516,\n",
        "  3.44375754147768,\n",
        "  3.440896589308977,\n",
        "  3.43197475746274,\n",
        "  3.443271204829216,\n",
        "  3.4251230377703905,\n",
        "  3.4521923083812,\n",
        "  3.4238597247749567,\n",
        "  3.4304174333810806,\n",
        "  3.4387022145092487,\n",
        "  3.431653991341591,\n",
        "  3.428588816896081,\n",
        "  3.422405270859599,\n",
        "  3.431295493617654,\n",
        "  3.4358621444553137,\n",
        "  3.430178115144372,\n",
        "  3.4246390108019114,\n",
        "  3.4308938942849636,\n",
        "  3.4271194357424974,\n",
        "  3.4163502026349306]\n",
        "\n",
        "lr = [1e-04,\n",
        "  1e-04,\n",
        "  7.5e-05,\n",
        "  7.5e-05,\n",
        "  5.625e-05,\n",
        "  5.625e-05,\n",
        "  4.21875e-05,\n",
        "  4.21875e-05,\n",
        "  3.1640626e-05,\n",
        "  3.1640626e-05,\n",
        "  2.3730468e-05,\n",
        "  2.3730468e-05,\n",
        "  1.779785e-05,\n",
        "  1.779785e-05,\n",
        "  1.3348389e-05,\n",
        "  1.3348389e-05,\n",
        "  1.0011291e-05,\n",
        "  1.0011291e-05,\n",
        "  7.5084686e-06,\n",
        "  7.5084686e-06,\n",
        "  5.6313515e-06,\n",
        "  5.6313515e-06,\n",
        "  4.2235138e-06,\n",
        "  4.2235138e-06,\n",
        "  3.1676352e-06,\n",
        "  3.1676352e-06,\n",
        "  2.3757264e-06,\n",
        "  2.3757264e-06,\n",
        "  1.7817948e-06,\n",
        "  1.7817948e-06,\n",
        "  1.3363461e-06,\n",
        "  1.3363461e-06,\n",
        "  1.0022595e-06,\n",
        "  1.0022595e-06,\n",
        "  7.516947e-07,\n",
        "  7.516947e-07,\n",
        "  5.6377104e-07,\n",
        "  5.6377104e-07,\n",
        "  4.2282826e-07,\n",
        "  4.2282826e-07,\n",
        "  3.171212e-07,\n",
        "  3.171212e-07,\n",
        "  2.378409e-07,\n",
        "  2.378409e-07,\n",
        "  1.7838067e-07,\n",
        "  1.7838067e-07,\n",
        "  1.337855e-07,\n",
        "  1.337855e-07,\n",
        "  1.0033913e-07,\n",
        "  1.0033913e-07]\n",
        "\n",
        "top3_acc = [0.0234222412109375,\n",
        "  0.0661163330078125,\n",
        "  0.132171630859375,\n",
        "  0.189178466796875,\n",
        "  0.2332000732421875,\n",
        "  0.2710113525390625,\n",
        "  0.306976318359375,\n",
        "  0.327606201171875,\n",
        "  0.351043701171875,\n",
        "  0.3638916015625,\n",
        "  0.3812713623046875,\n",
        "  0.3938751220703125,\n",
        "  0.4019012451171875,\n",
        "  0.4155120849609375,\n",
        "  0.4175872802734375,\n",
        "  0.421966552734375,\n",
        "  0.4277496337890625,\n",
        "  0.4312286376953125,\n",
        "  0.44024658203125,\n",
        "  0.4413604736328125,\n",
        "  0.4432373046875,\n",
        "  0.4459228515625,\n",
        "  0.442474365234375,\n",
        "  0.4476470947265625,\n",
        "  0.4470977783203125,\n",
        "  0.446441650390625,\n",
        "  0.4565887451171875,\n",
        "  0.4555511474609375,\n",
        "  0.454071044921875,\n",
        "  0.456451416015625,\n",
        "  0.45697021484375,\n",
        "  0.455047607421875,\n",
        "  0.454010009765625,\n",
        "  0.459625244140625,\n",
        "  0.4550628662109375,\n",
        "  0.4581756591796875,\n",
        "  0.4505462646484375,\n",
        "  0.457977294921875,\n",
        "  0.4553070068359375,\n",
        "  0.458099365234375,\n",
        "  0.45916748046875,\n",
        "  0.4562225341796875,\n",
        "  0.4593353271484375,\n",
        "  0.459564208984375,\n",
        "  0.4541473388671875,\n",
        "  0.457489013671875,\n",
        "  0.4588623046875,\n",
        "  0.45745849609375,\n",
        "  0.4580078125,\n",
        "  0.461517333984375]\n",
        "\n",
        "#====================\n",
        "\n",
        "cat_acc2 =[0.110992431640625,\n",
        "  0.18963623046875,\n",
        "  0.263763427734375,\n",
        "  0.3127899169921875,\n",
        "  0.3480987548828125,\n",
        "  0.3790130615234375,\n",
        "  0.4034271240234375,\n",
        "  0.4199981689453125,\n",
        "  0.4349212646484375,\n",
        "  0.4438629150390625,\n",
        "  0.458953857421875,\n",
        "  0.4643096923828125,\n",
        "  0.4718780517578125,\n",
        "  0.4775238037109375,\n",
        "  0.4791717529296875,\n",
        "  0.483062744140625,\n",
        "  0.4871063232421875,\n",
        "  0.491668701171875,\n",
        "  0.4888153076171875,\n",
        "  0.5007171630859375,\n",
        "  0.49688720703125,\n",
        "  0.499908447265625,\n",
        "  0.498504638671875,\n",
        "  0.502593994140625,\n",
        "  0.5036468505859375,\n",
        "  0.5051116943359375,\n",
        "  0.50262451171875,\n",
        "  0.5066375732421875,\n",
        "  0.505859375,\n",
        "  0.5013427734375,\n",
        "  0.5063934326171875,\n",
        "  0.50311279296875,\n",
        "  0.5091552734375,\n",
        "  0.5047607421875,\n",
        "  0.5095672607421875,\n",
        "  0.505645751953125,\n",
        "  0.5090179443359375,\n",
        "  0.506683349609375,\n",
        "  0.5061798095703125,\n",
        "  0.506500244140625,\n",
        "  0.5070343017578125,\n",
        "  0.511474609375,\n",
        "  0.5070037841796875,\n",
        "  0.507232666015625,\n",
        "  0.510009765625,\n",
        "  0.5093536376953125,\n",
        "  0.5079498291015625,\n",
        "  0.5080413818359375,\n",
        "  0.50836181640625,\n",
        "  0.506500244140625]\n",
        "\n",
        "loss2 =  [4.759915500879288,\n",
        "  4.119159534573555,\n",
        "  3.668934267014265,\n",
        "  3.344358215108514,\n",
        "  3.122873591259122,\n",
        "  2.949145160615444,\n",
        "  2.809198673814535,\n",
        "  2.72814286313951,\n",
        "  2.650218477472663,\n",
        "  2.593439484015107,\n",
        "  2.5187066569924355,\n",
        "  2.4914218112826347,\n",
        "  2.449601475149393,\n",
        "  2.41269388794899,\n",
        "  2.4114991184324026,\n",
        "  2.374601664021611,\n",
        "  2.3659047223627567,\n",
        "  2.3453390300273895,\n",
        "  2.343330467119813,\n",
        "  2.3026546854525805,\n",
        "  2.3030626606196165,\n",
        "  2.2994032129645348,\n",
        "  2.297671416774392,\n",
        "  2.282514115795493,\n",
        "  2.278309663757682,\n",
        "  2.2696991711854935,\n",
        "  2.276376763358712,\n",
        "  2.259805638343096,\n",
        "  2.268813209608197,\n",
        "  2.2780629005283117,\n",
        "  2.264872604981065,\n",
        "  2.2716403640806675,\n",
        "  2.2652347832918167,\n",
        "  2.262054679915309,\n",
        "  2.26261237449944,\n",
        "  2.271057326346636,\n",
        "  2.2498729666695,\n",
        "  2.2595823351293802,\n",
        "  2.26347921974957,\n",
        "  2.250196225941181,\n",
        "  2.250006066635251,\n",
        "  2.239623885601759,\n",
        "  2.2500197663903236,\n",
        "  2.2571550710126758,\n",
        "  2.248923072591424,\n",
        "  2.2539265109226108,\n",
        "  2.2499399902299047,\n",
        "  2.246763882227242,\n",
        "  2.2393512036651373,\n",
        "  2.2581502310931683]\n",
        "\n",
        "lr2 = [1e-04,\n",
        "  1e-04,\n",
        "  7.5e-05,\n",
        "  7.5e-05,\n",
        "  5.625e-05,\n",
        "  5.625e-05,\n",
        "  4.21875e-05,\n",
        "  4.21875e-05,\n",
        "  3.1640626e-05,\n",
        "  3.1640626e-05,\n",
        "  2.3730468e-05,\n",
        "  2.3730468e-05,\n",
        "  1.779785e-05,\n",
        "  1.779785e-05,\n",
        "  1.3348389e-05,\n",
        "  1.3348389e-05,\n",
        "  1.0011291e-05,\n",
        "  1.0011291e-05,\n",
        "  7.5084686e-06,\n",
        "  7.5084686e-06,\n",
        "  5.6313515e-06,\n",
        "  5.6313515e-06,\n",
        "  4.2235138e-06,\n",
        "  4.2235138e-06,\n",
        "  3.1676352e-06,\n",
        "  3.1676352e-06,\n",
        "  2.3757264e-06,\n",
        "  2.3757264e-06,\n",
        "  1.7817948e-06,\n",
        "  1.7817948e-06,\n",
        "  1.3363461e-06,\n",
        "  1.3363461e-06,\n",
        "  1.0022595e-06,\n",
        "  1.0022595e-06,\n",
        "  7.516947e-07,\n",
        "  7.516947e-07,\n",
        "  5.6377104e-07,\n",
        "  5.6377104e-07,\n",
        "  4.2282826e-07,\n",
        "  4.2282826e-07,\n",
        "  3.171212e-07,\n",
        "  3.171212e-07,\n",
        "  2.378409e-07,\n",
        "  2.378409e-07,\n",
        "  1.7838067e-07,\n",
        "  1.7838067e-07,\n",
        "  1.337855e-07,\n",
        "  1.337855e-07,\n",
        "  1.0033913e-07,\n",
        "  1.0033913e-07]\n",
        "\n",
        "top3_acc2 = [0.2039642333984375,\n",
        "  0.3274078369140625,\n",
        "  0.419036865234375,\n",
        "  0.4839324951171875,\n",
        "  0.5266265869140625,\n",
        "  0.5580596923828125,\n",
        "  0.58770751953125,\n",
        "  0.6025543212890625,\n",
        "  0.615478515625,\n",
        "  0.627197265625,\n",
        "  0.6404266357421875,\n",
        "  0.6468048095703125,\n",
        "  0.654083251953125,\n",
        "  0.659637451171875,\n",
        "  0.660675048828125,\n",
        "  0.667572021484375,\n",
        "  0.66827392578125,\n",
        "  0.6712188720703125,\n",
        "  0.673370361328125,\n",
        "  0.6812896728515625,\n",
        "  0.6812744140625,\n",
        "  0.6820526123046875,\n",
        "  0.681671142578125,\n",
        "  0.682464599609375,\n",
        "  0.6859893798828125,\n",
        "  0.686248779296875,\n",
        "  0.6841583251953125,\n",
        "  0.68798828125,\n",
        "  0.68609619140625,\n",
        "  0.6839599609375,\n",
        "  0.688507080078125,\n",
        "  0.683197021484375,\n",
        "  0.68731689453125,\n",
        "  0.6858367919921875,\n",
        "  0.6888580322265625,\n",
        "  0.6849517822265625,\n",
        "  0.6927032470703125,\n",
        "  0.6875762939453125,\n",
        "  0.6843414306640625,\n",
        "  0.6898040771484375,\n",
        "  0.6904296875,\n",
        "  0.6919097900390625,\n",
        "  0.690185546875,\n",
        "  0.687591552734375,\n",
        "  0.69171142578125,\n",
        "  0.6894683837890625,\n",
        "  0.69219970703125,\n",
        "  0.689666748046875,\n",
        "  0.6897430419921875,\n",
        "  0.68902587890625]\n",
        "\n"
      ],
      "execution_count": 0,
      "outputs": []
    },
    {
      "metadata": {
        "id": "YjvcucZYqe-e",
        "colab_type": "text"
      },
      "cell_type": "markdown",
      "source": [
        "#### Графики"
      ]
    },
    {
      "metadata": {
        "id": "aJQODaisqeJw",
        "colab_type": "code",
        "outputId": "13a8485b-45c8-4975-f832-faf1577295a1",
        "colab": {
          "base_uri": "https://localhost:8080/",
          "height": 311
        }
      },
      "cell_type": "code",
      "source": [
        "fig, ax = plt.subplots()\n",
        "ax.plot(cat_acc, 'r--', label='cat_acc with aug')\n",
        "ax.plot(top3_acc, label='top3_acc with aug')\n",
        "ax.plot(cat_acc2, '--', label='cat_acc w/o aug')\n",
        "ax.plot(top3_acc2, label='top3_acc w/o aug')\n",
        "ax.legend()\n",
        "ax.set_title('Accuracies curves')\n",
        "ax.set_xlabel('Epochs')\n",
        "ax.set_ylabel('Value')"
      ],
      "execution_count": 0,
      "outputs": [
        {
          "output_type": "execute_result",
          "data": {
            "text/plain": [
              "Text(0,0.5,u'Value')"
            ]
          },
          "metadata": {
            "tags": []
          },
          "execution_count": 116
        },
        {
          "output_type": "display_data",
          "data": {
            "image/png": "[encoded data removed]",
            "text/plain": [
              "<matplotlib.figure.Figure at 0x7f607bda2b50>"
            ]
          },
          "metadata": {
            "tags": []
          }
        }
      ]
    },
    {
      "metadata": {
        "id": "pukUBHAyqlHP",
        "colab_type": "code",
        "outputId": "939ca8e2-51db-451a-b6b0-fd2d722bcf7c",
        "colab": {
          "base_uri": "https://localhost:8080/",
          "height": 311
        }
      },
      "cell_type": "code",
      "source": [
        "fig, ax = plt.subplots()\n",
        "ax.plot(loss, 'g', label='loss with aug')\n",
        "ax.plot(loss2, label='loss w/o aug')\n",
        "ax.legend()\n",
        "ax.set_title('Loss curve')\n",
        "ax.set_xlabel('Epochs')\n",
        "ax.set_ylabel('Value')"
      ],
      "execution_count": 0,
      "outputs": [
        {
          "output_type": "execute_result",
          "data": {
            "text/plain": [
              "Text(0,0.5,u'Value')"
            ]
          },
          "metadata": {
            "tags": []
          },
          "execution_count": 117
        },
        {
          "output_type": "display_data",
          "data": {
            "image/png": "[encoded data removed]",
            "text/plain": [
              "<matplotlib.figure.Figure at 0x7f60906412d0>"
            ]
          },
          "metadata": {
            "tags": []
          }
        }
      ]
    },
    {
      "metadata": {
        "id": "2nmwXc70q1JR",
        "colab_type": "text"
      },
      "cell_type": "markdown",
      "source": [
        "#### Вывод:\n",
        "\n",
        "Качество при такой агументации ухудшилось, lr слишком маленький для выборки с аугументацией данных.\n",
        "Ни одна из агументаций не была полезной, но последняя агументация дала результат лучше, чем первая"
      ]
    },
    {
      "metadata": {
        "id": "ONnLBXjg7wOB",
        "colab_type": "text"
      },
      "cell_type": "markdown",
      "source": [
        "# Download data from Kaggle"
      ]
    },
    {
      "metadata": {
        "id": "OmX6oRj47wOD",
        "colab_type": "code",
        "outputId": "f6ce38f3-8229-40f7-b1b7-814631fd1805",
        "colab": {
          "base_uri": "https://localhost:8080/",
          "height": 434
        }
      },
      "cell_type": "code",
      "source": [
        "# we need to use python 3 version of Kaggle!\n",
        "# remove python 2 version with `pip uninstall kaggle`\n",
        "! pip3 install kaggle --upgrade"
      ],
      "execution_count": 0,
      "outputs": [
        {
          "output_type": "stream",
          "text": [
            "Collecting kaggle\n",
            "\u001b[?25l  Downloading https://files.pythonhosted.org/packages/83/9b/ac57e15fbb239c6793c8d0b7dfd1a4c4a025eaa9f791b5388a7afb515aed/kaggle-1.5.0.tar.gz (53kB)\n",
            "\u001b[K    100% |████████████████████████████████| 61kB 2.8MB/s \n",
            "\u001b[?25hRequirement already satisfied, skipping upgrade: urllib3<1.23.0,>=1.15 in /usr/local/lib/python3.6/dist-packages (from kaggle) (1.22)\n",
            "Requirement already satisfied, skipping upgrade: six>=1.10 in /usr/local/lib/python3.6/dist-packages (from kaggle) (1.11.0)\n",
            "Requirement already satisfied, skipping upgrade: certifi in /usr/local/lib/python3.6/dist-packages (from kaggle) (2018.10.15)\n",
            "Requirement already satisfied, skipping upgrade: python-dateutil in /usr/local/lib/python3.6/dist-packages (from kaggle) (2.5.3)\n",
            "Requirement already satisfied, skipping upgrade: requests in /usr/local/lib/python3.6/dist-packages (from kaggle) (2.18.4)\n",
            "Requirement already satisfied, skipping upgrade: tqdm in /usr/local/lib/python3.6/dist-packages (from kaggle) (4.28.1)\n",
            "Collecting python-slugify (from kaggle)\n",
            "  Downloading https://files.pythonhosted.org/packages/00/ad/c778a6df614b6217c30fe80045b365bfa08b5dd3cb02e8b37a6d25126781/python-slugify-1.2.6.tar.gz\n",
            "Requirement already satisfied, skipping upgrade: idna<2.7,>=2.5 in /usr/local/lib/python3.6/dist-packages (from requests->kaggle) (2.6)\n",
            "Requirement already satisfied, skipping upgrade: chardet<3.1.0,>=3.0.2 in /usr/local/lib/python3.6/dist-packages (from requests->kaggle) (3.0.4)\n",
            "Collecting Unidecode>=0.04.16 (from python-slugify->kaggle)\n",
            "\u001b[?25l  Downloading https://files.pythonhosted.org/packages/59/ef/67085e30e8bbcdd76e2f0a4ad8151c13a2c5bce77c85f8cad6e1f16fb141/Unidecode-1.0.22-py2.py3-none-any.whl (235kB)\n",
            "\u001b[K    100% |████████████████████████████████| 235kB 5.2MB/s \n",
            "\u001b[?25hBuilding wheels for collected packages: kaggle, python-slugify\n",
            "  Running setup.py bdist_wheel for kaggle ... \u001b[?25l-\b \b\\\b \bdone\n",
            "\u001b[?25h  Stored in directory: /root/.cache/pip/wheels/8b/21/3b/a0076243c6ae12a6215b2da515fe06b539aee7217b406e510e\n",
            "  Running setup.py bdist_wheel for python-slugify ... \u001b[?25l-\b \bdone\n",
            "\u001b[?25h  Stored in directory: /root/.cache/pip/wheels/e3/65/da/2045deea3098ed7471eca0e2460cfbd3fdfe8c1d6fa6fcac92\n",
            "Successfully built kaggle python-slugify\n",
            "Installing collected packages: Unidecode, python-slugify, kaggle\n",
            "Successfully installed Unidecode-1.0.22 kaggle-1.5.0 python-slugify-1.2.6\n"
          ],
          "name": "stdout"
        }
      ]
    },
    {
      "metadata": {
        "ExecuteTime": {
          "end_time": "2018-11-06T15:29:19.895974Z",
          "start_time": "2018-11-06T15:26:21.334564Z"
        },
        "id": "uc4hwR5i7wOL",
        "colab_type": "code",
        "outputId": "2f845441-c04b-40e6-ebd2-875e46330f8a",
        "colab": {
          "base_uri": "https://localhost:8080/",
          "height": 69
        }
      },
      "cell_type": "code",
      "source": [
        "# get <token> from https://www.kaggle.com/<user>/account, click \"Create New API Token\", open json file\n",
        "! KAGGLE_USERNAME=pabramov KAGGLE_KEY=_ kaggle competitions download -c quickdraw-doodle-recognition -f train_simplified.zip"
      ],
      "execution_count": 0,
      "outputs": [
        {
          "output_type": "stream",
          "text": [
            "Downloading train_simplified.zip to /content\n",
            "100% 7.37G/7.37G [00:53<00:00, 144MB/s]\n",
            "\n"
          ],
          "name": "stdout"
        }
      ]
    },
    {
      "metadata": {
        "ExecuteTime": {
          "end_time": "2018-11-07T16:08:31.048432Z",
          "start_time": "2018-11-07T16:08:31.004128Z"
        },
        "id": "hvElYnQZ7wOV",
        "colab_type": "code",
        "colab": {}
      },
      "cell_type": "code",
      "source": [
        "# open zip file, will read everything from it\n",
        "zf = zipfile.ZipFile(\"train_simplified.zip\")"
      ],
      "execution_count": 0,
      "outputs": []
    },
    {
      "metadata": {
        "id": "G1n5dGSb7wOb",
        "colab_type": "text"
      },
      "cell_type": "markdown",
      "source": [
        "# Data generators from disk (no need to store in RAM)"
      ]
    },
    {
      "metadata": {
        "ExecuteTime": {
          "end_time": "2018-11-07T16:09:00.917240Z",
          "start_time": "2018-11-07T16:09:00.906369Z"
        },
        "id": "onVpT7pO7wOe",
        "colab_type": "code",
        "outputId": "25207304-40da-4684-90d8-b00f5bf1b8fc",
        "colab": {
          "base_uri": "https://localhost:8080/",
          "height": 34
        }
      },
      "cell_type": "code",
      "source": [
        "class_labels = map(lambda x: x.replace(\".csv\", \"\"), zf.namelist())\n",
        "class_labels[:5]"
      ],
      "execution_count": 0,
      "outputs": [
        {
          "output_type": "execute_result",
          "data": {
            "text/plain": [
              "['fence', 'yoga', 'horse', 'sandwich', 'cat']"
            ]
          },
          "metadata": {
            "tags": []
          },
          "execution_count": 35
        }
      ]
    },
    {
      "metadata": {
        "ExecuteTime": {
          "end_time": "2018-11-07T16:09:01.213496Z",
          "start_time": "2018-11-07T16:09:01.203670Z"
        },
        "id": "ovGifLAO7wOm",
        "colab_type": "code",
        "colab": {}
      },
      "cell_type": "code",
      "source": [
        "# loop through file eternally\n",
        "def get_eternal_csv_generator(fn, debug=False):\n",
        "    while True:\n",
        "        with zf.open(fn) as f:\n",
        "            f.readline()  # skip header\n",
        "            for line in csv.reader(f, delimiter=',', quotechar='\"'):\n",
        "                yield line[1], line[5]\n",
        "            if debug:\n",
        "                print fn, \"is done, starting from the beginning...\""
      ],
      "execution_count": 0,
      "outputs": []
    },
    {
      "metadata": {
        "ExecuteTime": {
          "end_time": "2018-11-07T16:09:01.651230Z",
          "start_time": "2018-11-07T16:09:01.642356Z"
        },
        "id": "dPnmnYS77wOu",
        "colab_type": "code",
        "colab": {}
      },
      "cell_type": "code",
      "source": [
        "def raw_batch_generator(batch_size, debug=False):\n",
        "    generators = np.array([get_eternal_csv_generator(fn, debug) for fn in zf.namelist()])\n",
        "    while True:\n",
        "        random_indices = np.random.randint(0, len(generators), size=batch_size)\n",
        "        yield [gen.next() for gen in generators[random_indices]]"
      ],
      "execution_count": 0,
      "outputs": []
    },
    {
      "metadata": {
        "id": "c_VjFBAT7wO2",
        "colab_type": "text"
      },
      "cell_type": "markdown",
      "source": [
        "# Images generator"
      ]
    },
    {
      "metadata": {
        "ExecuteTime": {
          "end_time": "2018-11-07T16:09:04.267262Z",
          "start_time": "2018-11-07T16:09:04.251004Z"
        },
        "id": "6gPnfqkJ7wO5",
        "colab_type": "code",
        "colab": {}
      },
      "cell_type": "code",
      "source": [
        "# copy-paste from https://www.kaggle.com/jpmiller/image-based-cnn\n",
        "\n",
        "import ast\n",
        "from PIL import Image, ImageDraw\n",
        "\n",
        "IMG_SIZE = 64\n",
        "\n",
        "# faster conversion function\n",
        "def draw_it(strokes):\n",
        "    image = Image.new(\"P\", (256, 256), color=255)\n",
        "    image_draw = ImageDraw.Draw(image)\n",
        "    for stroke in ast.literal_eval(strokes):\n",
        "        for i in range(len(stroke[0])-1):\n",
        "            image_draw.line([stroke[0][i], \n",
        "                             stroke[1][i],\n",
        "                             stroke[0][i+1], \n",
        "                             stroke[1][i+1]],\n",
        "                            fill=0, width=5)\n",
        "    image = image.resize((IMG_SIZE, IMG_SIZE))\n",
        "    return np.array(image, dtype=np.uint8)"
      ],
      "execution_count": 0,
      "outputs": []
    },
    {
      "metadata": {
        "ExecuteTime": {
          "end_time": "2018-11-07T16:09:07.131184Z",
          "start_time": "2018-11-07T16:09:07.120659Z"
        },
        "id": "tmb0VBsL7wPC",
        "colab_type": "code",
        "colab": {}
      },
      "cell_type": "code",
      "source": [
        "\n",
        "def images_and_labels_generator_with_aug(batch_size):\n",
        "  image_gen = ImageDataGenerator(\n",
        "    rotation_range=15,\n",
        "    rescale=3.2,\n",
        "    zoom_range=-0.3,\n",
        "    vertical_flip=True,\n",
        "    horizontal_flip=True\n",
        "  )\n",
        "\n",
        "  for batch in raw_batch_generator(batch_size):\n",
        "    batch_images = []\n",
        "    batch_labels = []\n",
        "    for e in batch:\n",
        "      image = draw_it(e[0])\n",
        "      batch_images.append(image)\n",
        "      image = np.tile(np.expand_dims(image, axis=2), (1, 1, 3))\n",
        "      batch_labels.append(e[1])\n",
        "      batch_images.append(image_gen.random_transform(image)[:,:,0])\n",
        "      batch_labels.append(e[1])\n",
        "        \n",
        "      \n",
        "    batch_images = np.stack(batch_images, axis=0)\n",
        "    yield batch_images, batch_labels\n",
        "  \n",
        "\n",
        "\n",
        "def images_and_labels_generator(batch_size):\n",
        "  \n",
        "  for batch in raw_batch_generator(batch_size):\n",
        "    batch_images = []\n",
        "    batch_labels = []\n",
        "    for e in batch:\n",
        "      batch_images.append(draw_it(e[0]))\n",
        "      batch_labels.append(e[1])\n",
        "    batch_images = np.stack(batch_images, axis=0)\n",
        "    yield batch_images, batch_labels\n"
      ],
      "execution_count": 0,
      "outputs": []
    },
    {
      "metadata": {
        "ExecuteTime": {
          "end_time": "2018-11-07T16:09:31.235828Z",
          "start_time": "2018-11-07T16:09:31.078072Z"
        },
        "id": "Y-RvvF5U7wPH",
        "colab_type": "code",
        "outputId": "e5d689f0-4e72-4f9b-961a-4c296d46a306",
        "colab": {
          "base_uri": "https://localhost:8080/",
          "height": 280
        }
      },
      "cell_type": "code",
      "source": [
        "b = images_and_labels_generator(32).next()\n",
        "plt.imshow(b[0][10, :, :])\n",
        "plt.title(b[1][10])\n",
        "plt.show()"
      ],
      "execution_count": 0,
      "outputs": [
        {
          "output_type": "display_data",
          "data": {
            "image/png": "[encoded data removed]",
            "text/plain": [
              "<matplotlib.figure.Figure at 0x7f60748c50d0>"
            ]
          },
          "metadata": {
            "tags": []
          }
        }
      ]
    },
    {
      "metadata": {
        "ExecuteTime": {
          "end_time": "2018-11-06T22:00:38.205119Z",
          "start_time": "2018-11-06T22:00:38.199739Z"
        },
        "id": "0fXV7Ha-7wPO",
        "colab_type": "text"
      },
      "cell_type": "markdown",
      "source": [
        "# Train simple network"
      ]
    },
    {
      "metadata": {
        "ExecuteTime": {
          "end_time": "2018-11-07T16:09:43.935122Z",
          "start_time": "2018-11-07T16:09:43.339804Z"
        },
        "id": "5VtR-ApI7wPP",
        "colab_type": "code",
        "colab": {}
      },
      "cell_type": "code",
      "source": [
        "import tensorflow as tf\n",
        "import keras\n",
        "from keras import backend as K"
      ],
      "execution_count": 0,
      "outputs": []
    },
    {
      "metadata": {
        "ExecuteTime": {
          "end_time": "2018-11-07T16:10:14.627454Z",
          "start_time": "2018-11-07T16:10:14.614258Z"
        },
        "id": "SLpyMQ6W7wPX",
        "colab_type": "code",
        "colab": {}
      },
      "cell_type": "code",
      "source": [
        "# reset graph when you change architecture!\n",
        "def reset_tf_session():\n",
        "    curr_session = tf.get_default_session()\n",
        "    # close current session\n",
        "    if curr_session is not None:\n",
        "        curr_session.close()\n",
        "    # reset graph\n",
        "    K.clear_session()\n",
        "    # create new session\n",
        "    config = tf.ConfigProto()\n",
        "    config.gpu_options.allow_growth = True\n",
        "    s = tf.InteractiveSession(config=config)\n",
        "    K.set_session(s)\n",
        "    return s"
      ],
      "execution_count": 0,
      "outputs": []
    },
    {
      "metadata": {
        "ExecuteTime": {
          "end_time": "2018-11-07T16:10:20.833559Z",
          "start_time": "2018-11-07T16:10:20.820480Z"
        },
        "scrolled": false,
        "id": "Rbi0xWej7wPd",
        "colab_type": "code",
        "outputId": "4fcf0366-e707-4613-f137-5a8003cda8dc",
        "colab": {
          "base_uri": "https://localhost:8080/",
          "height": 104
        }
      },
      "cell_type": "code",
      "source": [
        "NUM_CLASSES = len(class_labels)\n",
        "class_to_idx = {c: idx for idx, c in enumerate(class_labels)}\n",
        "class_to_idx.items()[:5]"
      ],
      "execution_count": 0,
      "outputs": [
        {
          "output_type": "execute_result",
          "data": {
            "text/plain": [
              "[('snowman', 134),\n",
              " ('eyeglasses', 254),\n",
              " ('ceiling fan', 18),\n",
              " ('camel', 90),\n",
              " ('stove', 119)]"
            ]
          },
          "metadata": {
            "tags": []
          },
          "execution_count": 89
        }
      ]
    },
    {
      "metadata": {
        "ExecuteTime": {
          "end_time": "2018-11-07T16:11:58.574802Z",
          "start_time": "2018-11-07T16:11:58.565415Z"
        },
        "id": "BbDL8q5D7wPj",
        "colab_type": "code",
        "colab": {}
      },
      "cell_type": "code",
      "source": [
        "def train_iterator(batch_size):\n",
        "    for batch in images_and_labels_generator_with_aug(batch_size):\n",
        "        images = batch[0].astype('float32')\n",
        "        images = images/255 - 0.5\n",
        "        images = np.expand_dims(images, -1)\n",
        "        labels = keras.utils.to_categorical(map(class_to_idx.get, batch[1]), NUM_CLASSES)\n",
        "        yield images, labels"
      ],
      "execution_count": 0,
      "outputs": []
    },
    {
      "metadata": {
        "ExecuteTime": {
          "end_time": "2018-11-07T16:11:59.923327Z",
          "start_time": "2018-11-07T16:11:59.898171Z"
        },
        "scrolled": true,
        "id": "_lao-Ked7wPq",
        "colab_type": "code",
        "outputId": "fa6c1079-1304-4bad-b02e-adf16c5fcd45",
        "colab": {
          "base_uri": "https://localhost:8080/",
          "height": 52
        }
      },
      "cell_type": "code",
      "source": [
        "sample = train_iterator(32).next()\n",
        "print sample[0].shape\n",
        "print sample[1].shape"
      ],
      "execution_count": 0,
      "outputs": [
        {
          "output_type": "stream",
          "text": [
            "(64, 64, 64, 1)\n",
            "(64, 340)\n"
          ],
          "name": "stdout"
        }
      ]
    },
    {
      "metadata": {
        "ExecuteTime": {
          "end_time": "2018-11-07T16:12:13.491949Z",
          "start_time": "2018-11-07T16:12:13.485091Z"
        },
        "id": "MA3MF04E7wP1",
        "colab_type": "code",
        "colab": {}
      },
      "cell_type": "code",
      "source": [
        "# import necessary building blocks\n",
        "from keras.models import Sequential\n",
        "from keras.layers import Conv2D, MaxPooling2D, Dense, Activation, Dropout, GlobalAveragePooling2D, \\\n",
        "    BatchNormalization"
      ],
      "execution_count": 0,
      "outputs": []
    },
    {
      "metadata": {
        "ExecuteTime": {
          "end_time": "2018-11-07T16:15:15.162847Z",
          "start_time": "2018-11-07T16:15:15.148961Z"
        },
        "id": "XfqW3lnf7wQG",
        "colab_type": "code",
        "colab": {}
      },
      "cell_type": "code",
      "source": [
        "def make_model():\n",
        "  \"\"\"\n",
        "  Define your model architecture here.\n",
        "  Returns `Sequential` model.\n",
        "  \"\"\"\n",
        "  model = Sequential()\n",
        "\n",
        "  model.add(Conv2D(16, (3, 3), padding='same', activation='relu', input_shape=(IMG_SIZE, IMG_SIZE, 1)))\n",
        "  model.add(BatchNormalization())\n",
        "  \n",
        "  model.add(Conv2D(16, (3, 3), padding='same', activation='relu', input_shape=(IMG_SIZE, IMG_SIZE, 1)))\n",
        "  model.add(BatchNormalization())\n",
        "  \n",
        "  model.add(Conv2D(16, (3, 3), padding='same', activation='relu', input_shape=(IMG_SIZE, IMG_SIZE, 1)))\n",
        "  model.add(BatchNormalization())\n",
        "  \n",
        "  model.add(MaxPooling2D())\n",
        "\n",
        "  \n",
        "  model.add(Conv2D(32, (3, 3), padding='same', activation='relu'))\n",
        "  model.add(BatchNormalization())\n",
        "\n",
        "  model.add(Conv2D(32, (3, 3), padding='same', activation='relu'))\n",
        "  model.add(BatchNormalization())\n",
        "\n",
        "  model.add(Conv2D(32, (3, 3), padding='same', activation='relu'))\n",
        "  model.add(BatchNormalization())\n",
        "\n",
        "  model.add(MaxPooling2D())\n",
        "\n",
        "  \n",
        "  model.add(Conv2D(64, (3, 3), padding='same', activation='relu'))\n",
        "  model.add(BatchNormalization())\n",
        "\n",
        "  model.add(Conv2D(64, (3, 3), padding='same', activation='relu'))\n",
        "  model.add(BatchNormalization())\n",
        "\n",
        "  model.add(Conv2D(64, (3, 3), padding='same', activation='relu'))\n",
        "  model.add(BatchNormalization())\n",
        "\n",
        "  model.add(MaxPooling2D())\n",
        "\n",
        "  \n",
        "  model.add(Conv2D(128, (3, 3), padding='same', activation='relu'))\n",
        "  model.add(BatchNormalization())\n",
        "\n",
        "  model.add(Conv2D(128, (3, 3), padding='same', activation='relu'))\n",
        "  model.add(BatchNormalization())\n",
        "\n",
        "  model.add(Conv2D(128, (3, 3), padding='same', activation='relu'))\n",
        "  model.add(BatchNormalization())\n",
        "\n",
        "  model.add(MaxPooling2D())\n",
        "\n",
        "  \n",
        "  model.add(Conv2D(256, (3, 3), padding='same', activation='relu'))\n",
        "  model.add(BatchNormalization())\n",
        "\n",
        "  model.add(Conv2D(256, (3, 3), padding='same', activation='relu'))\n",
        "  model.add(BatchNormalization())\n",
        "\n",
        "  model.add(Conv2D(256, (3, 3), padding='same', activation='relu'))\n",
        "  model.add(BatchNormalization())\n",
        "\n",
        "  model.add(MaxPooling2D())\n",
        "\n",
        "  \n",
        "  model.add(Conv2D(512, (3, 3), padding='same', activation='relu'))\n",
        "  model.add(BatchNormalization())\n",
        "\n",
        "  model.add(Conv2D(512, (3, 3), padding='same', activation='relu'))\n",
        "  model.add(BatchNormalization())\n",
        "\n",
        "  model.add(Conv2D(512, (3, 3), padding='same', activation='relu'))\n",
        "  model.add(BatchNormalization())\n",
        "\n",
        "  #model.add(MaxPooling2D())\n",
        "\n",
        "  '''  \n",
        "  model.add(Conv2D(1024, (3, 3), padding='same', activation='relu'))\n",
        "  model.add(BatchNormalization())\n",
        "\n",
        "  model.add(Conv2D(1024, (3, 3), padding='same', activation='relu'))\n",
        "  model.add(BatchNormalization())\n",
        "\n",
        "  model.add(Conv2D(1024, (3, 3), padding='same', activation='relu'))\n",
        "  model.add(BatchNormalization())\n",
        "  '''\n",
        "  model.add(GlobalAveragePooling2D())\n",
        "\n",
        "  model.add(Dense(64, activation='relu'))\n",
        "  model.add(Dense(NUM_CLASSES, activation=\"softmax\"))\n",
        "\n",
        "  return model"
      ],
      "execution_count": 0,
      "outputs": []
    },
    {
      "metadata": {
        "ExecuteTime": {
          "end_time": "2018-11-07T16:15:16.796282Z",
          "start_time": "2018-11-07T16:15:16.726472Z"
        },
        "id": "WvdZUFxG7wQM",
        "colab_type": "code",
        "outputId": "3696c794-8161-4784-9527-fff834aaec97",
        "colab": {
          "base_uri": "https://localhost:8080/",
          "height": 1667
        }
      },
      "cell_type": "code",
      "source": [
        "# describe model\n",
        "s = reset_tf_session()  # clear default graph\n",
        "model = make_model()\n",
        "model.summary()"
      ],
      "execution_count": 0,
      "outputs": [
        {
          "output_type": "stream",
          "text": [
            "_________________________________________________________________\n",
            "Layer (type)                 Output Shape              Param #   \n",
            "=================================================================\n",
            "conv2d_1 (Conv2D)            (None, 64, 64, 16)        160       \n",
            "_________________________________________________________________\n",
            "batch_normalization_1 (Batch (None, 64, 64, 16)        64        \n",
            "_________________________________________________________________\n",
            "conv2d_2 (Conv2D)            (None, 64, 64, 16)        2320      \n",
            "_________________________________________________________________\n",
            "batch_normalization_2 (Batch (None, 64, 64, 16)        64        \n",
            "_________________________________________________________________\n",
            "conv2d_3 (Conv2D)            (None, 64, 64, 16)        2320      \n",
            "_________________________________________________________________\n",
            "batch_normalization_3 (Batch (None, 64, 64, 16)        64        \n",
            "_________________________________________________________________\n",
            "max_pooling2d_1 (MaxPooling2 (None, 32, 32, 16)        0         \n",
            "_________________________________________________________________\n",
            "conv2d_4 (Conv2D)            (None, 32, 32, 32)        4640      \n",
            "_________________________________________________________________\n",
            "batch_normalization_4 (Batch (None, 32, 32, 32)        128       \n",
            "_________________________________________________________________\n",
            "conv2d_5 (Conv2D)            (None, 32, 32, 32)        9248      \n",
            "_________________________________________________________________\n",
            "batch_normalization_5 (Batch (None, 32, 32, 32)        128       \n",
            "_________________________________________________________________\n",
            "conv2d_6 (Conv2D)            (None, 32, 32, 32)        9248      \n",
            "_________________________________________________________________\n",
            "batch_normalization_6 (Batch (None, 32, 32, 32)        128       \n",
            "_________________________________________________________________\n",
            "max_pooling2d_2 (MaxPooling2 (None, 16, 16, 32)        0         \n",
            "_________________________________________________________________\n",
            "conv2d_7 (Conv2D)            (None, 16, 16, 64)        18496     \n",
            "_________________________________________________________________\n",
            "batch_normalization_7 (Batch (None, 16, 16, 64)        256       \n",
            "_________________________________________________________________\n",
            "conv2d_8 (Conv2D)            (None, 16, 16, 64)        36928     \n",
            "_________________________________________________________________\n",
            "batch_normalization_8 (Batch (None, 16, 16, 64)        256       \n",
            "_________________________________________________________________\n",
            "conv2d_9 (Conv2D)            (None, 16, 16, 64)        36928     \n",
            "_________________________________________________________________\n",
            "batch_normalization_9 (Batch (None, 16, 16, 64)        256       \n",
            "_________________________________________________________________\n",
            "max_pooling2d_3 (MaxPooling2 (None, 8, 8, 64)          0         \n",
            "_________________________________________________________________\n",
            "conv2d_10 (Conv2D)           (None, 8, 8, 128)         73856     \n",
            "_________________________________________________________________\n",
            "batch_normalization_10 (Batc (None, 8, 8, 128)         512       \n",
            "_________________________________________________________________\n",
            "conv2d_11 (Conv2D)           (None, 8, 8, 128)         147584    \n",
            "_________________________________________________________________\n",
            "batch_normalization_11 (Batc (None, 8, 8, 128)         512       \n",
            "_________________________________________________________________\n",
            "conv2d_12 (Conv2D)           (None, 8, 8, 128)         147584    \n",
            "_________________________________________________________________\n",
            "batch_normalization_12 (Batc (None, 8, 8, 128)         512       \n",
            "_________________________________________________________________\n",
            "max_pooling2d_4 (MaxPooling2 (None, 4, 4, 128)         0         \n",
            "_________________________________________________________________\n",
            "conv2d_13 (Conv2D)           (None, 4, 4, 256)         295168    \n",
            "_________________________________________________________________\n",
            "batch_normalization_13 (Batc (None, 4, 4, 256)         1024      \n",
            "_________________________________________________________________\n",
            "conv2d_14 (Conv2D)           (None, 4, 4, 256)         590080    \n",
            "_________________________________________________________________\n",
            "batch_normalization_14 (Batc (None, 4, 4, 256)         1024      \n",
            "_________________________________________________________________\n",
            "conv2d_15 (Conv2D)           (None, 4, 4, 256)         590080    \n",
            "_________________________________________________________________\n",
            "batch_normalization_15 (Batc (None, 4, 4, 256)         1024      \n",
            "_________________________________________________________________\n",
            "max_pooling2d_5 (MaxPooling2 (None, 2, 2, 256)         0         \n",
            "_________________________________________________________________\n",
            "conv2d_16 (Conv2D)           (None, 2, 2, 512)         1180160   \n",
            "_________________________________________________________________\n",
            "batch_normalization_16 (Batc (None, 2, 2, 512)         2048      \n",
            "_________________________________________________________________\n",
            "conv2d_17 (Conv2D)           (None, 2, 2, 512)         2359808   \n",
            "_________________________________________________________________\n",
            "batch_normalization_17 (Batc (None, 2, 2, 512)         2048      \n",
            "_________________________________________________________________\n",
            "conv2d_18 (Conv2D)           (None, 2, 2, 512)         2359808   \n",
            "_________________________________________________________________\n",
            "batch_normalization_18 (Batc (None, 2, 2, 512)         2048      \n",
            "_________________________________________________________________\n",
            "global_average_pooling2d_1 ( (None, 512)               0         \n",
            "_________________________________________________________________\n",
            "dense_1 (Dense)              (None, 64)                32832     \n",
            "_________________________________________________________________\n",
            "dense_2 (Dense)              (None, 340)               22100     \n",
            "=================================================================\n",
            "Total params: 7,931,444\n",
            "Trainable params: 7,925,396\n",
            "Non-trainable params: 6,048\n",
            "_________________________________________________________________\n"
          ],
          "name": "stdout"
        }
      ]
    },
    {
      "metadata": {
        "ExecuteTime": {
          "end_time": "2018-11-07T16:21:07.829654Z",
          "start_time": "2018-11-07T16:21:07.822122Z"
        },
        "id": "mCItlDci7wQY",
        "colab_type": "code",
        "colab": {}
      },
      "cell_type": "code",
      "source": [
        "# custom metrics we need\n",
        "from keras.metrics import categorical_accuracy, top_k_categorical_accuracy\n",
        "\n",
        "def top_3_accuracy(y_true, y_pred):\n",
        "    return top_k_categorical_accuracy(y_true, y_pred, k=3)"
      ],
      "execution_count": 0,
      "outputs": []
    },
    {
      "metadata": {
        "ExecuteTime": {
          "end_time": "2018-11-07T16:16:27.284265Z",
          "start_time": "2018-11-07T16:16:27.184294Z"
        },
        "id": "AExY9tR67wQi",
        "colab_type": "code",
        "colab": {}
      },
      "cell_type": "code",
      "source": [
        "BATCH_SIZE = 256\n",
        "STEPS_PER_EPOCH = 128\n",
        "EPOCHS = 50\n",
        "\n",
        "s = reset_tf_session()  # clear default graph\n",
        "model = make_model()  # define our model\n",
        "\n",
        "# prepare model for fitting (loss, optimizer, etc)\n",
        "model.compile(\n",
        "    loss='categorical_crossentropy',\n",
        "    optimizer=keras.optimizers.adam(clipnorm=5.),  # gradient clipping just in case\n",
        "    metrics=[categorical_accuracy, top_3_accuracy]  # report top 3 accuracy, correlates with MAP@3!\n",
        ")"
      ],
      "execution_count": 0,
      "outputs": []
    },
    {
      "metadata": {
        "ExecuteTime": {
          "end_time": "2018-11-07T16:20:03.725667Z",
          "start_time": "2018-11-07T16:20:03.715510Z"
        },
        "id": "aEojNmTV7wQm",
        "colab_type": "code",
        "colab": {}
      },
      "cell_type": "code",
      "source": [
        "# for saving the model after every epoch\n",
        "from keras.models import save_model\n",
        "\n",
        "class ModelSaveCallback(keras.callbacks.Callback):\n",
        "    def __init__(self, file_name):\n",
        "        super(ModelSaveCallback, self).__init__()\n",
        "        self.file_name = file_name\n",
        "\n",
        "    def on_epoch_end(self, epoch, logs=None):\n",
        "        model_filename = self.file_name.format(epoch)\n",
        "        save_model(self.model, model_filename)\n",
        "        print(\"Model saved in {}\".format(model_filename))"
      ],
      "execution_count": 0,
      "outputs": []
    },
    {
      "metadata": {
        "id": "3zbDVf8mRcFo",
        "colab_type": "code",
        "outputId": "bad5886d-117d-4ca8-89c2-f9816ab33092",
        "colab": {
          "base_uri": "https://localhost:8080/",
          "height": 52
        }
      },
      "cell_type": "code",
      "source": [
        "import os\n",
        "GOOGLE_DRIVE_ROOT = GOOGLE_DRIVE_MOUNT + \"/\" + filter(lambda x: x[0] != '.', os.listdir(GOOGLE_DRIVE_MOUNT))[0]\n",
        "print GOOGLE_DRIVE_ROOT\n",
        "\n",
        "# will save checkpoints to Google Drive\n",
        "CHECKPOINT_TEMPLATE = GOOGLE_DRIVE_ROOT + \"/model_{}\"\n",
        "print CHECKPOINT_TEMPLATE"
      ],
      "execution_count": 0,
      "outputs": [
        {
          "output_type": "stream",
          "text": [
            "/content/gdrive/My Drive\n",
            "/content/gdrive/My Drive/model_{}\n"
          ],
          "name": "stdout"
        }
      ]
    },
    {
      "metadata": {
        "ExecuteTime": {
          "end_time": "2018-11-07T16:22:04.352396Z",
          "start_time": "2018-11-07T16:22:03.726954Z"
        },
        "id": "3NK6h0hz7wQx",
        "colab_type": "code",
        "colab": {}
      },
      "cell_type": "code",
      "source": [
        "last_finished_epoch = 0\n",
        "\n",
        "# you can continue from snapshot!!!\n",
        "#from keras.models import load_model\n",
        "#s = reset_tf_session()\n",
        "#last_finished_epoch = 49\n",
        "#model = load_model(\"model_{}\".format(last_finished_epoch), \n",
        "#                   custom_objects={\"top_3_accuracy\": top_3_accuracy})"
      ],
      "execution_count": 0,
      "outputs": []
    },
    {
      "metadata": {
        "id": "nG0mGXk1Py_r",
        "colab_type": "code",
        "colab": {}
      },
      "cell_type": "code",
      "source": [
        "from keras.callbacks import ReduceLROnPlateau\n",
        "from keras.callbacks import LearningRateScheduler\n",
        "\n",
        "def step_decay_schedule(initial_lr=1e-3, decay_factor=0.75, step_size=10):\n",
        "    '''\n",
        "    Wrapper function to create a LearningRateScheduler with step decay schedule.\n",
        "    '''\n",
        "    def schedule(epoch):\n",
        "        return initial_lr * (decay_factor ** np.floor(epoch/step_size))\n",
        "    \n",
        "    return LearningRateScheduler(schedule)\n",
        "\n",
        "lr_sched = step_decay_schedule(initial_lr=1e-4, decay_factor=0.75, step_size=2)\n"
      ],
      "execution_count": 0,
      "outputs": []
    },
    {
      "metadata": {
        "ExecuteTime": {
          "end_time": "2018-11-07T16:22:12.823711Z",
          "start_time": "2018-11-07T16:22:08.154274Z"
        },
        "id": "v4ky7LPD7wQ0",
        "colab_type": "code",
        "outputId": "11c26a70-c72a-4dbb-a6ec-eb739908b690",
        "colab": {
          "base_uri": "https://localhost:8080/",
          "height": 2657
        }
      },
      "cell_type": "code",
      "source": [
        "# fit the model with our eternal generator!\n",
        "graph_result = model.fit_generator(\n",
        "    train_iterator(BATCH_SIZE), \n",
        "    steps_per_epoch=STEPS_PER_EPOCH,\n",
        "    epochs=EPOCHS,\n",
        "    callbacks=[ModelSaveCallback(\"model_{}\"),\n",
        "              ReduceLROnPlateau(model='top3_accuracy', factor=0.2,verbose=1,\n",
        "              patience=1, min_lr=0.0001),\n",
        "              lr_sched],\n",
        "    verbose=1,\n",
        "    initial_epoch=last_finished_epoch\n",
        ")\n",
        "\n"
      ],
      "execution_count": 0,
      "outputs": [
        {
          "output_type": "stream",
          "text": [
            "Exception tensorflow.python.framework.errors_impl.CancelledError: CancelledError() in <bound method _Callable.__del__ of <tensorflow.python.client.session._Callable object at 0x7f60906bd290>> ignored\n",
            "Exception tensorflow.python.framework.errors_impl.CancelledError: CancelledError() in <bound method _Callable.__del__ of <tensorflow.python.client.session._Callable object at 0x7f607de35250>> ignored\n"
          ],
          "name": "stderr"
        },
        {
          "output_type": "stream",
          "text": [
            "Epoch 1/50\n",
            "128/128 [==============================] - 86s 668ms/step - loss: 5.7523 - categorical_accuracy: 0.0087 - top_3_accuracy: 0.0234\n",
            "Model saved in model_0\n",
            "Epoch 2/50\n",
            "128/128 [==============================] - 80s 621ms/step - loss: 5.4325 - categorical_accuracy: 0.0277 - top_3_accuracy: 0.0661\n",
            "Model saved in model_1\n",
            "Epoch 3/50\n",
            "128/128 [==============================] - 80s 623ms/step - loss: 5.0528 - categorical_accuracy: 0.0630 - top_3_accuracy: 0.1322\n",
            "Model saved in model_2\n",
            "Epoch 4/50\n",
            "128/128 [==============================] - 81s 633ms/step - loss: 4.7616 - categorical_accuracy: 0.0987 - top_3_accuracy: 0.1892\n",
            "Model saved in model_3\n",
            "Epoch 5/50\n",
            "128/128 [==============================] - 82s 639ms/step - loss: 4.5227 - categorical_accuracy: 0.1247 - top_3_accuracy: 0.2332\n",
            "Model saved in model_4\n",
            "Epoch 6/50\n",
            "128/128 [==============================] - 83s 645ms/step - loss: 4.3472 - categorical_accuracy: 0.1497 - top_3_accuracy: 0.2710\n",
            "Model saved in model_5\n",
            "Epoch 7/50\n",
            "128/128 [==============================] - 82s 641ms/step - loss: 4.1747 - categorical_accuracy: 0.1770 - top_3_accuracy: 0.3070\n",
            "Model saved in model_6\n",
            "Epoch 8/50\n",
            "128/128 [==============================] - 82s 638ms/step - loss: 4.0565 - categorical_accuracy: 0.1911 - top_3_accuracy: 0.3276\n",
            "Model saved in model_7\n",
            "Epoch 9/50\n",
            "128/128 [==============================] - 81s 632ms/step - loss: 3.9502 - categorical_accuracy: 0.2089 - top_3_accuracy: 0.3510\n",
            "Model saved in model_8\n",
            "Epoch 10/50\n",
            "128/128 [==============================] - 82s 644ms/step - loss: 3.8842 - categorical_accuracy: 0.2177 - top_3_accuracy: 0.3639\n",
            "Model saved in model_9\n",
            "Epoch 11/50\n",
            "128/128 [==============================] - 82s 643ms/step - loss: 3.8076 - categorical_accuracy: 0.2317 - top_3_accuracy: 0.3813\n",
            "Model saved in model_10\n",
            "Epoch 12/50\n",
            "128/128 [==============================] - 81s 630ms/step - loss: 3.7380 - categorical_accuracy: 0.2413 - top_3_accuracy: 0.3939\n",
            "Model saved in model_11\n",
            "Epoch 13/50\n",
            "128/128 [==============================] - 82s 638ms/step - loss: 3.7023 - categorical_accuracy: 0.2475 - top_3_accuracy: 0.4019\n",
            "Model saved in model_12\n",
            "Epoch 14/50\n",
            "128/128 [==============================] - 81s 634ms/step - loss: 3.6433 - categorical_accuracy: 0.2588 - top_3_accuracy: 0.4155\n",
            "Model saved in model_13\n",
            "Epoch 15/50\n",
            "128/128 [==============================] - 81s 634ms/step - loss: 3.6269 - categorical_accuracy: 0.2598 - top_3_accuracy: 0.4176\n",
            "Model saved in model_14\n",
            "Epoch 16/50\n",
            "128/128 [==============================] - 81s 634ms/step - loss: 3.6079 - categorical_accuracy: 0.2632 - top_3_accuracy: 0.4220\n",
            "Model saved in model_15\n",
            "Epoch 17/50\n",
            "128/128 [==============================] - 82s 638ms/step - loss: 3.5800 - categorical_accuracy: 0.2672 - top_3_accuracy: 0.4277\n",
            "Model saved in model_16\n",
            "Epoch 18/50\n",
            "128/128 [==============================] - 81s 633ms/step - loss: 3.5590 - categorical_accuracy: 0.2714 - top_3_accuracy: 0.4312\n",
            "Model saved in model_17\n",
            "Epoch 19/50\n",
            "128/128 [==============================] - 81s 636ms/step - loss: 3.5353 - categorical_accuracy: 0.2758 - top_3_accuracy: 0.4402\n",
            "Model saved in model_18\n",
            "Epoch 20/50\n",
            "128/128 [==============================] - 81s 633ms/step - loss: 3.5202 - categorical_accuracy: 0.2765 - top_3_accuracy: 0.4414\n",
            "Model saved in model_19\n",
            "Epoch 21/50\n",
            "128/128 [==============================] - 82s 642ms/step - loss: 3.4939 - categorical_accuracy: 0.2818 - top_3_accuracy: 0.4432\n",
            "Model saved in model_20\n",
            "Epoch 22/50\n",
            "128/128 [==============================] - 82s 639ms/step - loss: 3.5006 - categorical_accuracy: 0.2822 - top_3_accuracy: 0.4459\n",
            "Model saved in model_21\n",
            "Epoch 23/50\n",
            "128/128 [==============================] - 80s 629ms/step - loss: 3.5026 - categorical_accuracy: 0.2807 - top_3_accuracy: 0.4425\n",
            "Model saved in model_22\n",
            "Epoch 24/50\n",
            "128/128 [==============================] - 83s 646ms/step - loss: 3.4876 - categorical_accuracy: 0.2846 - top_3_accuracy: 0.4476\n",
            "Model saved in model_23\n",
            "Epoch 25/50\n",
            "128/128 [==============================] - 88s 689ms/step - loss: 3.4821 - categorical_accuracy: 0.2826 - top_3_accuracy: 0.4471\n",
            "Model saved in model_24\n",
            "Epoch 26/50\n",
            "128/128 [==============================] - 83s 645ms/step - loss: 3.4789 - categorical_accuracy: 0.2836 - top_3_accuracy: 0.4464\n",
            "Model saved in model_25\n",
            "Epoch 27/50\n",
            "128/128 [==============================] - 81s 633ms/step - loss: 3.4470 - categorical_accuracy: 0.2905 - top_3_accuracy: 0.4566\n",
            "Model saved in model_26\n",
            "Epoch 28/50\n",
            "128/128 [==============================] - 80s 625ms/step - loss: 3.4477 - categorical_accuracy: 0.2921 - top_3_accuracy: 0.4556\n",
            "Model saved in model_27\n",
            "Epoch 29/50\n",
            "128/128 [==============================] - 82s 640ms/step - loss: 3.4554 - categorical_accuracy: 0.2921 - top_3_accuracy: 0.4541\n",
            "Model saved in model_28\n",
            "Epoch 30/50\n",
            "128/128 [==============================] - 82s 644ms/step - loss: 3.4434 - categorical_accuracy: 0.2923 - top_3_accuracy: 0.4565\n",
            "Model saved in model_29\n",
            "Epoch 31/50\n",
            "128/128 [==============================] - 79s 618ms/step - loss: 3.4309 - categorical_accuracy: 0.2914 - top_3_accuracy: 0.4570\n",
            "Model saved in model_30\n",
            "Epoch 32/50\n",
            "128/128 [==============================] - 85s 662ms/step - loss: 3.4438 - categorical_accuracy: 0.2908 - top_3_accuracy: 0.4550\n",
            "Model saved in model_31\n",
            "Epoch 33/50\n",
            "128/128 [==============================] - 86s 675ms/step - loss: 3.4409 - categorical_accuracy: 0.2906 - top_3_accuracy: 0.4540\n",
            "Model saved in model_32\n",
            "Epoch 34/50\n",
            "128/128 [==============================] - 86s 670ms/step - loss: 3.4320 - categorical_accuracy: 0.2918 - top_3_accuracy: 0.4596\n",
            "Model saved in model_33\n",
            "Epoch 35/50\n",
            "128/128 [==============================] - 84s 656ms/step - loss: 3.4433 - categorical_accuracy: 0.2912 - top_3_accuracy: 0.4551\n",
            "Model saved in model_34\n",
            "Epoch 36/50\n",
            "128/128 [==============================] - 82s 643ms/step - loss: 3.4251 - categorical_accuracy: 0.2941 - top_3_accuracy: 0.4582\n",
            "Model saved in model_35\n",
            "Epoch 37/50\n",
            "128/128 [==============================] - 81s 636ms/step - loss: 3.4522 - categorical_accuracy: 0.2889 - top_3_accuracy: 0.4505\n",
            "Model saved in model_36\n",
            "Epoch 38/50\n",
            "128/128 [==============================] - 81s 629ms/step - loss: 3.4239 - categorical_accuracy: 0.2923 - top_3_accuracy: 0.4580\n",
            "Model saved in model_37\n",
            "Epoch 39/50\n",
            "128/128 [==============================] - 80s 622ms/step - loss: 3.4304 - categorical_accuracy: 0.2919 - top_3_accuracy: 0.4553\n",
            "Model saved in model_38\n",
            "Epoch 40/50\n",
            "128/128 [==============================] - 81s 633ms/step - loss: 3.4387 - categorical_accuracy: 0.2942 - top_3_accuracy: 0.4581\n",
            "Model saved in model_39\n",
            "Epoch 41/50\n",
            "128/128 [==============================] - 80s 629ms/step - loss: 3.4317 - categorical_accuracy: 0.2957 - top_3_accuracy: 0.4592\n",
            "Model saved in model_40\n",
            "Epoch 42/50\n",
            "128/128 [==============================] - 80s 627ms/step - loss: 3.4286 - categorical_accuracy: 0.2916 - top_3_accuracy: 0.4562\n",
            "Model saved in model_41\n",
            "Epoch 43/50\n",
            "128/128 [==============================] - 87s 678ms/step - loss: 3.4224 - categorical_accuracy: 0.2950 - top_3_accuracy: 0.4593\n",
            "Model saved in model_42\n",
            "Epoch 44/50\n",
            "128/128 [==============================] - 84s 653ms/step - loss: 3.4313 - categorical_accuracy: 0.2939 - top_3_accuracy: 0.4596\n",
            "Model saved in model_43\n",
            "Epoch 45/50\n",
            "128/128 [==============================] - 80s 629ms/step - loss: 3.4359 - categorical_accuracy: 0.2912 - top_3_accuracy: 0.4541\n",
            "Model saved in model_44\n",
            "Epoch 46/50\n",
            "128/128 [==============================] - 80s 623ms/step - loss: 3.4302 - categorical_accuracy: 0.2921 - top_3_accuracy: 0.4575\n",
            "Model saved in model_45\n",
            "Epoch 47/50\n",
            "128/128 [==============================] - 81s 637ms/step - loss: 3.4246 - categorical_accuracy: 0.2940 - top_3_accuracy: 0.4589\n",
            "Model saved in model_46\n",
            "Epoch 48/50\n",
            "128/128 [==============================] - 86s 670ms/step - loss: 3.4309 - categorical_accuracy: 0.2911 - top_3_accuracy: 0.4575\n",
            "Model saved in model_47\n",
            "Epoch 49/50\n",
            "128/128 [==============================] - 82s 638ms/step - loss: 3.4271 - categorical_accuracy: 0.2923 - top_3_accuracy: 0.4580\n",
            "Model saved in model_48\n",
            "Epoch 50/50\n",
            "128/128 [==============================] - 82s 643ms/step - loss: 3.4164 - categorical_accuracy: 0.2939 - top_3_accuracy: 0.4615\n",
            "Model saved in model_49\n"
          ],
          "name": "stdout"
        }
      ]
    },
    {
      "metadata": {
        "id": "2_etZvEYuIau",
        "colab_type": "code",
        "colab": {}
      },
      "cell_type": "code",
      "source": [
        "bimbo = graph_result.__dict__"
      ],
      "execution_count": 0,
      "outputs": []
    },
    {
      "metadata": {
        "id": "CXd_wANb7wQ9",
        "colab_type": "text"
      },
      "cell_type": "markdown",
      "source": [
        "# Score test set"
      ]
    },
    {
      "metadata": {
        "ExecuteTime": {
          "end_time": "2018-11-07T12:18:38.307707Z",
          "start_time": "2018-11-07T12:18:34.929466Z"
        },
        "id": "5m_VlZz87wRB",
        "colab_type": "code",
        "outputId": "05f8367a-6c5a-4c0d-ea1f-67b318089d81",
        "colab": {
          "base_uri": "https://localhost:8080/",
          "height": 65
        }
      },
      "cell_type": "code",
      "source": [
        "# download test set\n",
        "! KAGGLE_USERNAME=pabramov KAGGLE_KEY=_ kaggle competitions download -c quickdraw-doodle-recognition -f test_simplified.csv"
      ],
      "execution_count": 0,
      "outputs": [
        {
          "output_type": "stream",
          "text": [
            "test_simplified.csv: Skipping, found more recently modified local copy (use --force to force download)\n"
          ],
          "name": "stdout"
        }
      ]
    },
    {
      "metadata": {
        "ExecuteTime": {
          "end_time": "2018-11-07T16:25:30.169624Z",
          "start_time": "2018-11-07T16:25:30.148875Z"
        },
        "id": "PRLv3CLm7wRG",
        "colab_type": "code",
        "colab": {}
      },
      "cell_type": "code",
      "source": [
        "def test_csv_iterator(batch_size):\n",
        "    with open(\"test_simplified.csv\", \"r\") as f:\n",
        "        batch_keys = []\n",
        "        batch_images = []\n",
        "        f.readline()  # skip header\n",
        "        for line in csv.reader(f, delimiter=',', quotechar='\"'):\n",
        "            batch_keys.append(line[0])\n",
        "            batch_images.append(draw_it(line[2]))\n",
        "            if len(batch_images) == batch_size:\n",
        "                batch_images = np.stack(batch_images, axis=0)\n",
        "                batch_images = np.expand_dims(batch_images, -1)\n",
        "                batch_images = batch_images.astype('float32')\n",
        "                batch_images = batch_images/255 - 0.5\n",
        "                ### YOUR CODE HERE: normalize batch_images the same way as during training!\n",
        "                yield batch_keys, batch_images\n",
        "                batch_keys = []\n",
        "                batch_images = []\n",
        "        if batch_images:  # last batch\n",
        "            batch_images = np.stack(batch_images, axis=0)\n",
        "            batch_images = np.expand_dims(batch_images, -1)\n",
        "            batch_images = batch_images.astype('float32')\n",
        "            batch_images = batch_images/255 - 0.5\n",
        "            ### YOUR CODE HERE: normalize batch_images the same way as during training!\n",
        "            yield batch_keys, batch_images"
      ],
      "execution_count": 0,
      "outputs": []
    },
    {
      "metadata": {
        "ExecuteTime": {
          "end_time": "2018-11-07T16:25:32.406415Z",
          "start_time": "2018-11-07T16:25:32.203842Z"
        },
        "id": "42MAwyPO7wRJ",
        "colab_type": "code",
        "outputId": "05ad606a-cfa5-450c-8b39-e9cdcf581dd9",
        "colab": {
          "base_uri": "https://localhost:8080/",
          "height": 65
        }
      },
      "cell_type": "code",
      "source": [
        "! wc -l test_simplified.csv"
      ],
      "execution_count": 0,
      "outputs": [
        {
          "output_type": "stream",
          "text": [
            "112200 test_simplified.csv\n"
          ],
          "name": "stdout"
        }
      ]
    },
    {
      "metadata": {
        "ExecuteTime": {
          "end_time": "2018-11-07T16:26:30.259083Z",
          "start_time": "2018-11-07T16:25:32.579734Z"
        },
        "scrolled": true,
        "id": "mh593QQO7wRV",
        "colab_type": "code",
        "outputId": "e3b9012b-2fd2-494e-cc23-b07728877a98",
        "colab": {
          "base_uri": "https://localhost:8080/",
          "height": 34
        }
      },
      "cell_type": "code",
      "source": [
        "with open(\"submission.csv\", \"w\", buffering=1*1024*1024) as f:\n",
        "    f.write(\"key_id,word\\n\")\n",
        "    for batch_keys, batch_images in tqdm.tqdm(test_csv_iterator(BATCH_SIZE), total=np.ceil(112200./BATCH_SIZE)):\n",
        "        probas = model.predict_proba(batch_images, BATCH_SIZE)\n",
        "        top_3_classes = np.argsort(probas, axis=1)[:, [-1, -2, -3]]\n",
        "        labels = map(lambda x: \" \".join(\"_\".join(class_labels[idx].split()) for idx in x), top_3_classes)\n",
        "        for key, labels in zip(batch_keys, labels):\n",
        "            f.write(key + \",\" + labels + \"\\n\")"
      ],
      "execution_count": 0,
      "outputs": [
        {
          "output_type": "stream",
          "text": [
            "100%|██████████| 220/220.0 [04:25<00:00,  1.07s/it]\n"
          ],
          "name": "stderr"
        }
      ]
    },
    {
      "metadata": {
        "ExecuteTime": {
          "end_time": "2018-11-07T16:27:51.293010Z",
          "start_time": "2018-11-07T16:27:51.111607Z"
        },
        "id": "hdujIQD07wRe",
        "colab_type": "code",
        "outputId": "d80683e8-1c56-44ed-b2b0-104d56f81be5",
        "colab": {
          "base_uri": "https://localhost:8080/",
          "height": 65
        }
      },
      "cell_type": "code",
      "source": [
        "! wc -l submission.csv"
      ],
      "execution_count": 0,
      "outputs": [
        {
          "output_type": "stream",
          "text": [
            "112200 submission.csv\n"
          ],
          "name": "stdout"
        }
      ]
    },
    {
      "metadata": {
        "ExecuteTime": {
          "end_time": "2018-11-07T13:18:12.630549Z",
          "start_time": "2018-11-07T13:17:59.689315Z"
        },
        "id": "WwkaGLLm7wRi",
        "colab_type": "code",
        "outputId": "78ca3e11-bc9a-4061-f827-eae177d9f865",
        "colab": {
          "base_uri": "https://localhost:8080/",
          "height": 65
        }
      },
      "cell_type": "code",
      "source": [
        "# submit to kaggle\n",
        "! KAGGLE_USERNAME=pabramov KAGGLE_KEY=_ kaggle competitions submit quickdraw-doodle-recognition -f submission.csv -m \"Try Harder #1\""
      ],
      "execution_count": 0,
      "outputs": [
        {
          "output_type": "stream",
          "text": [
            "100% 4.41M/4.41M [00:00<00:00, 12.8MB/s]\n",
            "Successfully submitted to Quick, Draw! Doodle Recognition Challenge"
          ],
          "name": "stdout"
        }
      ]
    }
  ]
}